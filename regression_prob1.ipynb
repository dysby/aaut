{
 "cells": [
  {
   "cell_type": "markdown",
   "id": "6edd5301",
   "metadata": {},
   "source": [
    "# Regression - Problem 1"
   ]
  },
  {
   "cell_type": "code",
   "execution_count": null,
   "id": "319928e3",
   "metadata": {},
   "outputs": [],
   "source": [
    "import numpy as np"
   ]
  },
  {
   "cell_type": "code",
   "execution_count": null,
   "id": "860a5dd2",
   "metadata": {},
   "outputs": [],
   "source": [
    "# load Training Set\n",
    "x_train = np.load(\"Xtrain_Regression_Part1.npy\")\n",
    "y_train = np.load(\"Ytrain_Regression_Part1.npy\")\n",
    "x_test = np.load(\"Xtest_Regression_Part1.npy\")"
   ]
  },
  {
   "cell_type": "markdown",
   "id": "53ac5666",
   "metadata": {},
   "source": [
    "## Study Implementation"
   ]
  },
  {
   "cell_type": "markdown",
   "id": "c8f6b8cf",
   "metadata": {},
   "source": [
    "## Linear Predictor"
   ]
  },
  {
   "cell_type": "code",
   "execution_count": null,
   "id": "01194f67",
   "metadata": {},
   "outputs": [],
   "source": [
    "# remember X = [1 x.T]\n",
    "ones = np.ones((1,len(x_train)))\n",
    "X = np.hstack((ones.T ,x_train))"
   ]
  },
  {
   "cell_type": "code",
   "execution_count": null,
   "id": "a7c6310f",
   "metadata": {},
   "outputs": [],
   "source": [
    "# Beta = (X.T * X)^-1 * X.T * y\n",
    "Beta_hat = np.matmul(\n",
    "                np.matmul(\n",
    "                    np.linalg.inv(\n",
    "                        np.matmul(\n",
    "                            X.T\n",
    "                            ,X)\n",
    "                    ),\n",
    "                    X.T)\n",
    "                ,y_train)\n",
    "\n",
    "# print(\"Beta_hat\", Beta_hat)"
   ]
  },
  {
   "cell_type": "markdown",
   "id": "2e54f12f",
   "metadata": {},
   "source": [
    "## Sum Squared Errors"
   ]
  },
  {
   "cell_type": "code",
   "execution_count": null,
   "id": "d3d660b9",
   "metadata": {},
   "outputs": [],
   "source": [
    "SSE = np.matmul(\n",
    "    (y_train-np.matmul(X, Beta_hat)).T,\n",
    "    (y_train-np.matmul(X, Beta_hat))\n",
    ")\n",
    "print(\"SSE\", SSE)\n",
    "# mse"
   ]
  },
  {
   "cell_type": "markdown",
   "id": "4379dfba",
   "metadata": {},
   "source": [
    "## Model Class"
   ]
  },
  {
   "cell_type": "code",
   "execution_count": null,
   "id": "661a79fe",
   "metadata": {},
   "outputs": [],
   "source": [
    "class LinearPredictor():\n",
    "    def train(self, x_train, y_train):\n",
    "        \"\"\"\n",
    "        Train the model and set Beta_hat\n",
    "        \"\"\"\n",
    "        ones = np.ones((1,len(x_train)))\n",
    "        X = np.hstack((ones.T ,x_train))\n",
    "        \n",
    "        # self.Beta_hat = np.matmul(np.matmul(np.linalg.inv(np.matmul(X.T,X)),X.T),y_train)\n",
    "        self.Beta_hat = np.matmul(\n",
    "                np.matmul(\n",
    "                    np.linalg.inv(\n",
    "                        np.matmul(\n",
    "                            X.T\n",
    "                            ,X)\n",
    "                    ),\n",
    "                    X.T)\n",
    "                ,y_train)\n",
    "\n",
    "        return self\n",
    "    \n",
    "    def perf(self, x_test, y_test):\n",
    "        \"\"\"\n",
    "        Calc sum of squares error for test set\n",
    "        Set SSE\n",
    "        \"\"\"\n",
    "        ones = np.ones((1,len(x_test)))\n",
    "        X = np.hstack((ones.T ,x_test))\n",
    "\n",
    "        self.SSE = np.matmul(\n",
    "            (y_test-np.matmul(X, self.Beta_hat)).T,\n",
    "            (y_test-np.matmul(X, self.Beta_hat))\n",
    "        )\n",
    "        return self.SSE\n",
    "    \n",
    "    def predict(self, x_0):\n",
    "        X_0 = np.hstack((np.ones(1).T ,x_0))\n",
    "        y_0 = np.matmul(self.Beta_hat.T, X_0)\n",
    "        return y_0\n",
    "    \n",
    "    def __call__(self, x_0):\n",
    "        return self.predict(x_0)"
   ]
  },
  {
   "cell_type": "markdown",
   "id": "44170711",
   "metadata": {},
   "source": [
    "## Cross Validation"
   ]
  },
  {
   "cell_type": "code",
   "execution_count": null,
   "id": "c761d18f",
   "metadata": {},
   "outputs": [],
   "source": [
    "p = np.zeros(10)\n",
    "\n",
    "x = x_train.copy()\n",
    "y = y_train.copy()\n",
    "\n",
    "for n in range(10):\n",
    "    # rotate\n",
    "    x = np.vstack((x[-10:], x[0:-10]))\n",
    "    y = np.vstack((y[-10:], y[0:-10]))\n",
    "    \n",
    "    x_train_n = x[0: -10]\n",
    "    y_train_n = y[0: -10]\n",
    "    \n",
    "    x_validation_n = x[-10:]\n",
    "    y_validation_n = y[-10:]\n",
    "    \n",
    "    f_n = LinearPredictor()\n",
    "    f_n.train(x_train_n, y_train_n)\n",
    "    p[n] = f_n.perf(x_validation_n, y_validation_n)\n",
    "    print(\"P_\", n ,p[n])\n",
    "\n",
    "print(\"avg(P)\", np.average(p))\n",
    "f = LinearPredictor()\n",
    "f.train(x_train, y_train)\n",
    "print(\"f.Beta_hat\", f.Beta_hat)\n",
    "y_0 = f.predict(x_test[0])\n",
    "print(\"f(x_test[0])\", y_0)"
   ]
  },
  {
   "cell_type": "markdown",
   "id": "9099715b",
   "metadata": {},
   "source": [
    "## Scikit-learn"
   ]
  },
  {
   "cell_type": "markdown",
   "id": "6520f07a",
   "metadata": {},
   "source": [
    "### Linerar"
   ]
  },
  {
   "cell_type": "code",
   "execution_count": null,
   "id": "cdb7ca00",
   "metadata": {},
   "outputs": [],
   "source": [
    "from sklearn.linear_model import LinearRegression\n",
    "lin = LinearRegression().fit(x_train, y_train)"
   ]
  },
  {
   "cell_type": "code",
   "execution_count": null,
   "id": "aa3c8f07",
   "metadata": {},
   "outputs": [],
   "source": [
    "s = lin.score(x_train, y_train)\n",
    "print(\"Linear\", s)"
   ]
  },
  {
   "cell_type": "markdown",
   "id": "7860c5f3",
   "metadata": {},
   "source": [
    "### Ridge"
   ]
  },
  {
   "cell_type": "code",
   "execution_count": null,
   "id": "b7916a1e",
   "metadata": {},
   "outputs": [],
   "source": [
    "from sklearn.linear_model import Ridge"
   ]
  },
  {
   "cell_type": "code",
   "execution_count": null,
   "id": "17a13b17",
   "metadata": {},
   "outputs": [],
   "source": [
    "for a in range(100):\n",
    "    rid = Ridge(alpha=a).fit(x_train, y_train)\n",
    "    s = rid.score(x_train, y_train)\n",
    "    print(\"Ridge\", a, s)"
   ]
  },
  {
   "cell_type": "markdown",
   "id": "c9fbc5a7",
   "metadata": {},
   "source": [
    "### Lasso"
   ]
  },
  {
   "cell_type": "code",
   "execution_count": null,
   "id": "4df6a382",
   "metadata": {},
   "outputs": [],
   "source": [
    "from sklearn.linear_model import Lasso\n",
    "\n",
    "for a in range(100):\n",
    "    lass = Lasso(alpha=a).fit(x_train, y_train)\n",
    "    s = lass.score(x_train, y_train)\n",
    "    print(\"Lasso\", a, s)"
   ]
  },
  {
   "cell_type": "code",
   "execution_count": null,
   "id": "3eb54b25",
   "metadata": {},
   "outputs": [],
   "source": []
  }
 ],
 "metadata": {
  "kernelspec": {
   "display_name": "Python 3.9.7 64-bit",
   "language": "python",
   "name": "python39764bit341ff8accb5146f1b343ae3d10721a10"
  },
  "language_info": {
   "codemirror_mode": {
    "name": "ipython",
    "version": 3
   },
   "file_extension": ".py",
   "mimetype": "text/x-python",
   "name": "python",
   "nbconvert_exporter": "python",
   "pygments_lexer": "ipython3",
   "version": "3.9.7"
  }
 },
 "nbformat": 4,
 "nbformat_minor": 5
}
