{
 "cells": [
  {
   "cell_type": "markdown",
   "id": "6edd5301",
   "metadata": {},
   "source": [
    "# Regression - Problem 1"
   ]
  },
  {
   "cell_type": "code",
   "execution_count": null,
   "id": "319928e3",
   "metadata": {},
   "outputs": [],
   "source": [
    "import numpy as np"
   ]
  },
  {
   "cell_type": "code",
   "execution_count": null,
   "id": "860a5dd2",
   "metadata": {},
   "outputs": [],
   "source": [
    "# load Training Set\n",
    "x_train = np.load(\"Xtrain_Regression_Part1.npy\")\n",
    "y_train = np.load(\"Ytrain_Regression_Part1.npy\")\n",
    "x_test = np.load(\"Xtest_Regression_Part1.npy\")"
   ]
  },
  {
   "cell_type": "markdown",
   "id": "53ac5666",
   "metadata": {},
   "source": [
    "## Study Implementation"
   ]
  },
  {
   "cell_type": "markdown",
   "id": "c8f6b8cf",
   "metadata": {},
   "source": [
    "## Linear Predictor"
   ]
  },
  {
   "cell_type": "code",
   "execution_count": null,
   "id": "01194f67",
   "metadata": {},
   "outputs": [],
   "source": [
    "# remember X = [1 x.T]\n",
    "ones = np.ones((1,len(x_train)))\n",
    "X = np.hstack((ones.T ,x_train))"
   ]
  },
  {
   "cell_type": "code",
   "execution_count": null,
   "id": "a7c6310f",
   "metadata": {},
   "outputs": [],
   "source": [
    "# Beta = (X.T * X)^-1 * X.T * y\n",
    "Beta_hat = np.matmul(\n",
    "                np.matmul(\n",
    "                    np.linalg.inv(\n",
    "                        np.matmul(\n",
    "                            X.T\n",
    "                            ,X)\n",
    "                    ),\n",
    "                    X.T)\n",
    "                ,y_train)\n",
    "\n",
    "# print(\"Beta_hat\", Beta_hat)"
   ]
  },
  {
   "cell_type": "markdown",
   "id": "2e54f12f",
   "metadata": {},
   "source": [
    "## Sum Squared Errors"
   ]
  },
  {
   "cell_type": "code",
   "execution_count": null,
   "id": "d3d660b9",
   "metadata": {},
   "outputs": [],
   "source": [
    "SSE = np.matmul(\n",
    "    (y_train-np.matmul(X, Beta_hat)).T,\n",
    "    (y_train-np.matmul(X, Beta_hat))\n",
    ")\n",
    "print(\"SSE\", SSE)\n",
    "# mse\n",
    "print(\"MSE\", SSE/(len(y_train)))"
   ]
  },
  {
   "cell_type": "markdown",
   "id": "4379dfba",
   "metadata": {},
   "source": [
    "## Model Class"
   ]
  },
  {
   "cell_type": "code",
   "execution_count": null,
   "id": "661a79fe",
   "metadata": {},
   "outputs": [],
   "source": [
    "class LinearPredictor():\n",
    "    def train(self, x_train, y_train):\n",
    "        \"\"\"\n",
    "        Train the model and set Beta_hat\n",
    "        \"\"\"\n",
    "        ones = np.ones((1,len(x_train)))\n",
    "        X = np.hstack((ones.T ,x_train))\n",
    "        \n",
    "        # self.Beta_hat = np.matmul(np.matmul(np.linalg.inv(np.matmul(X.T,X)),X.T),y_train)\n",
    "        self.Beta_hat = np.matmul(\n",
    "                np.matmul(\n",
    "                    np.linalg.inv(\n",
    "                        np.matmul(\n",
    "                            X.T\n",
    "                            ,X)\n",
    "                    ),\n",
    "                    X.T)\n",
    "                ,y_train)\n",
    "\n",
    "        return self\n",
    "    \n",
    "    def perf(self, x_test, y_test):\n",
    "        \"\"\"\n",
    "        Calc sum of squares error for test set\n",
    "        Set SSE\n",
    "        \"\"\"\n",
    "        ones = np.ones((1,len(x_test)))\n",
    "        X = np.hstack((ones.T ,x_test))\n",
    "\n",
    "        self.SSE = np.matmul(\n",
    "            (y_test-np.matmul(X, self.Beta_hat)).T,\n",
    "            (y_test-np.matmul(X, self.Beta_hat))\n",
    "        )\n",
    "        return self.SSE\n",
    "    \n",
    "    def predict(self, x_0):\n",
    "        X_0 = np.hstack((np.ones(1).T ,x_0))\n",
    "        y_0 = np.matmul(self.Beta_hat.T, X_0)\n",
    "        return y_0\n",
    "    \n",
    "    def __call__(self, x_0):\n",
    "        return self.predict(x_0)"
   ]
  },
  {
   "cell_type": "markdown",
   "id": "44170711",
   "metadata": {},
   "source": [
    "## Cross Validation"
   ]
  },
  {
   "cell_type": "code",
   "execution_count": null,
   "id": "c761d18f",
   "metadata": {},
   "outputs": [],
   "source": [
    "p = np.zeros(10)\n",
    "\n",
    "x = x_train.copy()\n",
    "y = y_train.copy()\n",
    "\n",
    "for n in range(10):\n",
    "    # rotate\n",
    "    x = np.vstack((x[-10:], x[0:-10]))\n",
    "    y = np.vstack((y[-10:], y[0:-10]))\n",
    "    \n",
    "    x_train_n = x[0: -10]\n",
    "    y_train_n = y[0: -10]\n",
    "    \n",
    "    x_validation_n = x[-10:]\n",
    "    y_validation_n = y[-10:]\n",
    "    \n",
    "    f_n = LinearPredictor()\n",
    "    f_n.train(x_train_n, y_train_n)\n",
    "    p[n] = f_n.perf(x_validation_n, y_validation_n)\n",
    "    print(\"P_\", n ,p[n])\n",
    "\n",
    "print(\"avg(P)\", np.average(p))\n",
    "f = LinearPredictor()\n",
    "f.train(x_train, y_train)\n",
    "print(\"f.Beta_hat\", f.Beta_hat)\n",
    "y_0 = f.predict(x_test[0])\n",
    "print(\"f(x_test[0])\", y_0)"
   ]
  },
  {
   "cell_type": "markdown",
   "id": "9099715b",
   "metadata": {},
   "source": [
    "## Scikit-learn"
   ]
  },
  {
   "cell_type": "code",
   "execution_count": null,
   "id": "c0a23976",
   "metadata": {},
   "outputs": [],
   "source": [
    "from sklearn.linear_model import LinearRegression, Ridge, Lasso"
   ]
  },
  {
   "cell_type": "code",
   "execution_count": null,
   "id": "33230bc6",
   "metadata": {},
   "outputs": [],
   "source": [
    "lin = LinearRegression().fit(x_train, y_train)"
   ]
  },
  {
   "cell_type": "markdown",
   "id": "6520f07a",
   "metadata": {},
   "source": [
    "### Linerar"
   ]
  },
  {
   "cell_type": "code",
   "execution_count": null,
   "id": "cdb7ca00",
   "metadata": {},
   "outputs": [],
   "source": []
  },
  {
   "cell_type": "code",
   "execution_count": null,
   "id": "aa3c8f07",
   "metadata": {},
   "outputs": [],
   "source": [
    "lin = LinearRegression().fit(x_train, y_train)\n",
    "s = lin.score(x_train, y_train)\n",
    "print(\"Linear\", s)"
   ]
  },
  {
   "cell_type": "markdown",
   "id": "7860c5f3",
   "metadata": {},
   "source": [
    "### Ridge"
   ]
  },
  {
   "cell_type": "code",
   "execution_count": null,
   "id": "b7916a1e",
   "metadata": {},
   "outputs": [],
   "source": [
    "from sklearn.linear_model import Ridge"
   ]
  },
  {
   "cell_type": "code",
   "execution_count": null,
   "id": "17a13b17",
   "metadata": {},
   "outputs": [],
   "source": [
    "for a in range(100):\n",
    "    rid = Ridge(alpha=a).fit(x_train, y_train)\n",
    "    s = rid.score(x_train, y_train)\n",
    "    print(\"Ridge\", a, s)"
   ]
  },
  {
   "cell_type": "markdown",
   "id": "c9fbc5a7",
   "metadata": {},
   "source": [
    "### Lasso"
   ]
  },
  {
   "cell_type": "code",
   "execution_count": null,
   "id": "4df6a382",
   "metadata": {},
   "outputs": [],
   "source": [
    "from sklearn.linear_model import Lasso\n",
    "\n",
    "for a in range(100):\n",
    "    lass = Lasso(alpha=a).fit(x_train, y_train)\n",
    "    s = lass.score(x_train, y_train)\n",
    "    print(\"Lasso\", a, s)"
   ]
  },
  {
   "cell_type": "markdown",
   "id": "b956b581",
   "metadata": {},
   "source": [
    "# Validation Metrics\n",
    "\n",
    "## Root mean squared error"
   ]
  },
  {
   "cell_type": "code",
   "execution_count": null,
   "id": "0c620874",
   "metadata": {},
   "outputs": [],
   "source": [
    "from sklearn.model_selection import train_test_split\n",
    "from sklearn.model_selection import cross_validate\n",
    "from sklearn.linear_model import LinearRegression\n",
    "import sklearn.metrics as metrics\n",
    "\n",
    "# print(\"The data shape of X is {}\".format(x_train))\n",
    "# print(\"The number of feature in this data is {}\".format(x_train.shape[1]))\n",
    "\n",
    "train_x, test_x, train_y, test_y = train_test_split(x_train,\n",
    "                                                    y_train,\n",
    "                                                    test_size=0.2,\n",
    "                                                    random_state=23)\n",
    "\n",
    "# print(\"The first five samples {}\".format(train_x[:5]))\n",
    "# print(\"The first five targets {}\".format(train_y[:5]))\n",
    "# print(\"The number of samples in train set is {}\".format(train_x.shape[0]))\n",
    "# print(\"The number of samples in test set is {}\".format(test_x.shape[0]))\n",
    "\n",
    "lr = LinearRegression()\n",
    "lr.fit(train_x, train_y)\n",
    "\n",
    "pred_y = lr.predict(test_x)\n",
    "# print(\"The first five prediction {}\".format(pred_y[:5]))\n",
    "# print(\"The real first five labels {}\".format(test_y[:5]))\n",
    "\n",
    "nrme = -1*np.sqrt(metrics.mean_squared_error(test_y, pred_y))\n",
    "\n",
    "r2_score = metrics.r2_score(test_y, pred_y)\n",
    "print(\"Linear -->\",\"R2 score:\", r2_score)\n",
    "\n",
    "# Export\n",
    "# lr.coef_"
   ]
  },
  {
   "cell_type": "markdown",
   "id": "94208b61",
   "metadata": {},
   "source": [
    "## R2 score"
   ]
  },
  {
   "cell_type": "code",
   "execution_count": null,
   "id": "98bea057",
   "metadata": {},
   "outputs": [],
   "source": [
    "from sklearn import linear_model\n",
    "from sklearn.model_selection import cross_val_score\n",
    "from sklearn.preprocessing import StandardScaler\n",
    "from sklearn.pipeline import make_pipeline\n",
    "\n",
    "for a in np.linspace(0.01,0.4,10):\n",
    "    linear = linear_model.LinearRegression()\n",
    "    ridge = linear_model.Ridge(alpha=a)\n",
    "    lasso = linear_model.Lasso(alpha=a)\n",
    "    # modelos com valores normalizados\n",
    "    # linear = make_pipeline(StandardScaler(with_mean=False),linear_model.LinearRegression())\n",
    "    # ridge = make_pipeline(StandardScaler(with_mean=False), linear_model.Ridge(alpha=a))\n",
    "    # lasso = make_pipeline(StandardScaler(with_mean=False), linear_model.Lasso(alpha=a))\n",
    "    \n",
    "    lin_scores = cross_val_score(linear, x_train, y_train, cv=10,\n",
    "                        scoring='r2')\n",
    "    ridge_scores = cross_val_score(ridge, x_train, y_train, cv=10,\n",
    "                        scoring='r2')\n",
    "    lasso_scores = cross_val_score(lasso, x_train, y_train, cv=10,\n",
    "                        scoring='r2')\n",
    "    print(\"Linear -->      \", \"      \",\"R2 score:\", np.average(lin_scores))\n",
    "    print(\"Ridge  --> Alfa:\", \"{:.4f}\".format(a),\"R2 score:\", np.average(ridge_scores))\n",
    "    print(\"Lasso  --> Alfa:\", \"{:.4f}\".format(a),\"R2 score:\", np.average(lasso_scores))\n"
   ]
  },
  {
   "cell_type": "code",
   "execution_count": null,
   "id": "dfd31cae",
   "metadata": {},
   "outputs": [],
   "source": []
  }
 ],
 "metadata": {
  "kernelspec": {
   "display_name": "Python 3.9.7 64-bit",
   "language": "python",
   "name": "python39764bit341ff8accb5146f1b343ae3d10721a10"
  },
  "language_info": {
   "codemirror_mode": {
    "name": "ipython",
    "version": 3
   },
   "file_extension": ".py",
   "mimetype": "text/x-python",
   "name": "python",
   "nbconvert_exporter": "python",
   "pygments_lexer": "ipython3",
   "version": "3.9.7"
  }
 },
 "nbformat": 4,
 "nbformat_minor": 5
}
