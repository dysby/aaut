{
 "cells": [
  {
   "cell_type": "code",
   "execution_count": 6,
   "id": "4cb2e4e0",
   "metadata": {},
   "outputs": [],
   "source": [
    "import numpy as np\n",
    "import pandas as pd\n",
    "from matplotlib import pyplot as plt\n",
    "from sklearn.metrics import mean_squared_error as MSE\n",
    "from sklearn.ensemble import IsolationForest\n",
    "from sklearn.covariance import EllipticEnvelope\n",
    "from sklearn.neighbors import LocalOutlierFactor\n",
    "from sklearn.model_selection import cross_val_score, train_test_split\n",
    "from sklearn.linear_model import (\n",
    "    LinearRegression, TheilSenRegressor, RANSACRegressor, HuberRegressor)\n",
    "\n"
   ]
  },
  {
   "cell_type": "code",
   "execution_count": 7,
   "id": "1a2e2a6a",
   "metadata": {},
   "outputs": [],
   "source": [
    "# load Training Set\n",
    "x_train = np.load(\"Xtrain_Regression_Part2.npy\")\n",
    "y_train = np.load(\"Ytrain_Regression_Part2.npy\")\n",
    "x_test = np.load(\"Xtest_Regression_Part2.npy\")"
   ]
  },
  {
   "cell_type": "markdown",
   "id": "9af0f864",
   "metadata": {},
   "source": [
    "# DF"
   ]
  },
  {
   "cell_type": "code",
   "execution_count": 8,
   "id": "2a172571",
   "metadata": {},
   "outputs": [
    {
     "name": "stdout",
     "output_type": "stream",
     "text": [
      "(100, 21)\n",
      "Index(['A', 'B', 'C', 'D', 'E', 'F', 'G', 'H', 'I', 'J', 'K', 'L', 'M', 'N',\n",
      "       'O', 'P', 'Q', 'R', 'S', 'T', 'y'],\n",
      "      dtype='object')\n"
     ]
    }
   ],
   "source": [
    "import string\n",
    "df = pd.DataFrame(x_train, columns=list(string.ascii_uppercase)[:20])\n",
    "df[\"y\"] = y_train\n",
    "\n",
    "# summarize the shape of the training dataset\n",
    "print(df.shape)\n",
    "print(df.columns)"
   ]
  },
  {
   "cell_type": "markdown",
   "id": "cfc36eb3",
   "metadata": {},
   "source": [
    "# Interquartile Range Method (IQR)"
   ]
  },
  {
   "cell_type": "code",
   "execution_count": 5,
   "id": "bf4f51d1",
   "metadata": {},
   "outputs": [],
   "source": [
    "# IQR\n",
    "Q1 = df.quantile(0.25)\n",
    "Q3 = df.quantile(0.75)\n",
    "IQR = Q3 - Q1\n",
    "# print(IQR)\n",
    "# print(Q3)\n",
    "# (Q3 + 1.5 * IQR)"
   ]
  },
  {
   "cell_type": "code",
   "execution_count": 6,
   "id": "9fba203f",
   "metadata": {},
   "outputs": [
    {
     "name": "stdout",
     "output_type": "stream",
     "text": [
      "(100, 21)\n"
     ]
    }
   ],
   "source": [
    "# summarize the shape of the training dataset\n",
    "print(df.shape)"
   ]
  },
  {
   "cell_type": "code",
   "execution_count": 7,
   "id": "d55153be",
   "metadata": {},
   "outputs": [],
   "source": [
    "# Finding outliers using IQR\n",
    "outliers = (df < (Q1 - 1.5 * IQR)).astype(bool) | (df > (Q3 + 1.5 * IQR)).astype(bool)\n",
    "# print(-outliers)"
   ]
  },
  {
   "cell_type": "code",
   "execution_count": 20,
   "metadata": {},
   "outputs": [],
   "source": [
    "def mse_linear_model(X, Y, runs=500) -> float:\n",
    "    mse = 0\n",
    "    for _ in range(runs):\n",
    "        # split into train and test sets\n",
    "        train_x, test_x, train_y, test_y = train_test_split(X,\n",
    "                                                            Y,\n",
    "                                                            train_size=0.9)\n",
    "        # fit the model\n",
    "        lr = LinearRegression().fit(train_x, train_y)       \n",
    "        # evaluate the model\n",
    "        pred_y = lr.predict(test_x)\n",
    "        # evaluate predictions\n",
    "        mse = mse + MSE(test_y, pred_y)\n",
    "    # summarize the shape of the updated training dataset\n",
    "    # print(train_x.shape, train_y.shape) \n",
    "    # print('MSE:', mse/runs)\n",
    "    return mse/runs"
   ]
  },
  {
   "cell_type": "code",
   "execution_count": 21,
   "id": "457af144",
   "metadata": {},
   "outputs": [
    {
     "data": {
      "text/plain": [
       "2.4295241815679542"
      ]
     },
     "execution_count": 21,
     "metadata": {},
     "output_type": "execute_result"
    }
   ],
   "source": [
    "#x = df.copy()\n",
    "#x.pop(20)\n",
    "#X = x.to_numpy()\n",
    "#y = df.copy()\n",
    "#for i in range(0,20,1):\n",
    "#    y.pop(i)\n",
    "#Y = y.to_numpy()\n",
    "\n",
    "X = df.drop(\"y\", axis=1)\n",
    "Y = df[\"y\"]\n",
    "mse_linear_model(X, Y)"
   ]
  },
  {
   "cell_type": "markdown",
   "metadata": {},
   "source": [
    "## Outlier cleaning Evaluation\n",
    "\n",
    "Test some outlier identification methods, clean those outliers form training dataset and get mse metric for linear regression model.\n",
    "\n",
    "TODO:\n",
    "+ Test different contamination effects\n",
    "+ Test score with different regression models\n",
    "+ Clean warnings"
   ]
  },
  {
   "cell_type": "code",
   "execution_count": 33,
   "metadata": {},
   "outputs": [],
   "source": [
    "import scipy as sp\n",
    "def mahalanobis(x=None, data=None, cov=None):\n",
    "    \"\"\"Compute the Mahalanobis Distance between each row of x and the data  \n",
    "    x    : vector or matrix of data with, say, p columns.\n",
    "    data : ndarray of the distribution from which Mahalanobis distance of each observation of x is to be computed.\n",
    "    cov  : covariance matrix (p x p) of the distribution. If None, will be computed from data.\n",
    "    \"\"\"\n",
    "    x_minus_mu = x - np.mean(data)\n",
    "    if not cov:\n",
    "        cov = np.cov(data.values.T)\n",
    "    inv_covmat = sp.linalg.inv(cov)\n",
    "    left_term = np.dot(x_minus_mu, inv_covmat)\n",
    "    mahal = np.dot(left_term, x_minus_mu.T)\n",
    "    return mahal.diagonal()"
   ]
  },
  {
   "cell_type": "code",
   "execution_count": 46,
   "metadata": {},
   "outputs": [
    {
     "data": {
      "text/plain": [
       "<AxesSubplot:>"
      ]
     },
     "execution_count": 46,
     "metadata": {},
     "output_type": "execute_result"
    },
    {
     "data": {
      "image/png": "[encoded data removed]",
      "text/plain": [
       "<Figure size 432x288 with 1 Axes>"
      ]
     },
     "metadata": {
      "needs_background": "light"
     },
     "output_type": "display_data"
    },
    {
     "data": {
      "image/png": "[encoded data removed]",
      "text/plain": [
       "<Figure size 432x288 with 1 Axes>"
      ]
     },
     "metadata": {
      "needs_background": "light"
     },
     "output_type": "display_data"
    }
   ],
   "source": [
    "mahal = pd.DataFrame()\n",
    "mahal[\"mahal\"] = mahalanobis(df, df)\n",
    "mahal.sort_values(\"mahal\").reset_index(drop=True).plot()\n",
    "mahal.sort_values(\"mahal\").reset_index(drop=True)[4:94].plot()"
   ]
  },
  {
   "cell_type": "code",
   "execution_count": 51,
   "metadata": {},
   "outputs": [],
   "source": [
    "def run_experiment_with_outlier_detection(mse_of_model , data_x_y: pd.DataFrame, contamination: float):\n",
    "    evaluation = pd.DataFrame(columns=[\"mse\"])\n",
    "\n",
    "    outlier_detection_methods = [('Baseline', None),\n",
    "                ('Isolation Forest', IsolationForest),\n",
    "                ('Minimum Covariance Determinant', EllipticEnvelope),\n",
    "                ('Local Outlier Factor', LocalOutlierFactor)]\n",
    "\n",
    "    fig, ((ax1,ax2),(ax3,ax4)) = plt.subplots(2,2)\n",
    "    ax_plots = { \"Baseline\": ax1, \"Isolation Forest\": ax2, \"Minimum Covariance Determinant\": ax3, \"Local Outlier Factor\": ax4}\n",
    "\n",
    "    # Local Outlier Factor:\n",
    "    # n_neighbors) is typically set \n",
    "    #   1) greater than the minimum number of samples a cluster has to contain, \n",
    "    #       so that other samples can be local outliers relative to this cluster, and \n",
    "    #   2) smaller than the maximum number of close by samples that can potentially be \n",
    "    #       local outliers. In practice, such informations are generally not available, \n",
    "    #       and taking **n_neighbors=20** appears to work well in general.\n",
    "\n",
    "    for name, outlier_detection in outlier_detection_methods:\n",
    "        if outlier_detection:\n",
    "            is_outlier = outlier_detection(contamination=contamination).fit_predict(data_x_y)\n",
    "        else:\n",
    "            is_outlier = np.ones(df.index.size)\n",
    "        # select all rows that are not outliers\n",
    "        mask = is_outlier != -1\n",
    "        # print(mask)\n",
    "        \n",
    "        X = data_x_y[mask].drop(\"y\", axis=1)\n",
    "        Y = data_x_y[mask][\"y\"]\n",
    "        # print(name, Y.size, Y.index)\n",
    "        evaluation.loc[name, \"mse\"] = mse_of_model(X, Y)\n",
    "        # evaluation.loc[name, \"outindex\"] = X.index\n",
    "\n",
    "        # Check if outlier detection method produces population with less mahalanobis distance \n",
    "        # considering the full dataset (x and y) as the distribution\n",
    "        mahal_of_outlier_detection = pd.DataFrame()\n",
    "        mahal_of_outlier_detection[\"mahal_d\"] = mahalanobis(data_x_y[mask], data_x_y)\n",
    "        ax_plots[name].plot(mahal_of_outlier_detection.sort_values(\"mahal_d\").reset_index(drop=True))\n",
    "        ax_plots[name].set_title(name)\n",
    "\n",
    "\n",
    "    plt.subplots_adjust(wspace=0.50, hspace=1.0)\n",
    "    plt.show()\n",
    "    return evaluation"
   ]
  },
  {
   "cell_type": "code",
   "execution_count": 52,
   "metadata": {},
   "outputs": [
    {
     "data": {
      "image/png": "[encoded data removed]",
      "text/plain": [
       "<Figure size 432x288 with 4 Axes>"
      ]
     },
     "metadata": {
      "needs_background": "light"
     },
     "output_type": "display_data"
    },
    {
     "name": "stdout",
     "output_type": "stream",
     "text": [
      "Linear Model experiment\n",
      "                                      mse\n",
      "Baseline                          2.04751\n",
      "Isolation Forest                  1.90351\n",
      "Minimum Covariance Determinant  0.0156271\n",
      "Local Outlier Factor            0.0172741\n"
     ]
    }
   ],
   "source": [
    "results = run_experiment_with_outlier_detection(mse_linear_model, df, contamination=0.1)\n",
    "print(\"Linear Model experiment\")\n",
    "print(results)"
   ]
  },
  {
   "cell_type": "code",
   "execution_count": 24,
   "metadata": {},
   "outputs": [],
   "source": [
    "def mse_of_models_lr_ridg_lass(X, Y, cv_folds: int=10, alpha_min:float = 0.0001, alpha_max:float = 0.001):\n",
    "    # print(alpha_min, alpha_max)\n",
    "    from sklearn.linear_model import LinearRegression, Ridge, Lasso\n",
    "\n",
    "    results = pd.DataFrame()\n",
    "\n",
    "    # best_mean_score = -100\n",
    "    for a in np.linspace(alpha_min, alpha_max, 10):\n",
    "        estimators = [('Linear', LinearRegression()),\n",
    "                      ('Ridge', Ridge(alpha=a)),\n",
    "                      ('Lasso', Lasso(alpha=a))]\n",
    "\n",
    "        for name, estimator in estimators:\n",
    "            neg_mse = cross_val_score(estimator, X, Y, cv=cv_folds,\n",
    "                                scoring='neg_mean_squared_error')\n",
    "            neg_mse = np.average(neg_mse)\n",
    "            # print(f\"{name} -> Alpha: {a:.4f}\\t\\t-MSE score:{neg_mse:.4f}\")\n",
    "            results.loc[name,a] = neg_mse\n",
    "\n",
    "    # get best model / alpha\n",
    "    a, b = results.stack().idxmax()\n",
    "    print(results.loc[[a], [b]])\n",
    "\n",
    "    return results.max().max()\n"
   ]
  },
  {
   "cell_type": "code",
   "execution_count": 25,
   "metadata": {},
   "outputs": [
    {
     "name": "stdout",
     "output_type": "stream",
     "text": [
      "          0.001\n",
      "Lasso -2.059963\n",
      "         0.001\n",
      "Lasso -2.37094\n",
      "         0.0008\n",
      "Lasso -0.015469\n",
      "         0.001\n",
      "Lasso -0.01734\n",
      "Multimodel experiment\n",
      "                                      mse\n",
      "Baseline                         -2.05996\n",
      "Isolation Forest                 -2.37094\n",
      "Minimum Covariance Determinant -0.0154686\n",
      "Local Outlier Factor           -0.0173401\n"
     ]
    }
   ],
   "source": [
    "print(\"Multimodel experiment\")\n",
    "results = run_experiment_with_outlier_detection(mse_of_models_lr_ridg_lass, df, contamination=0.1)\n",
    "print(\"Best results\")\n",
    "print(results)"
   ]
  },
  {
   "cell_type": "markdown",
   "metadata": {},
   "source": [
    "# Robust Fit"
   ]
  },
  {
   "cell_type": "code",
   "execution_count": 4,
   "metadata": {},
   "outputs": [],
   "source": [
    "def mse_robust_models(X, Y, cv_folds: int=10):\n",
    "    results = pd.DataFrame()\n",
    "    # estimators = [('OLS', LinearRegression()),\n",
    "    estimators = [('Theil-Sen', TheilSenRegressor()),\n",
    "                ('RANSAC', RANSACRegressor()),\n",
    "                ('HuberRegressor', HuberRegressor())]\n",
    "\n",
    "    for name, estimator in estimators:\n",
    "        model_mse = cross_val_score(estimator, X, Y, cv=cv_folds,\n",
    "                            scoring='neg_mean_squared_error')\n",
    "        results.loc[name, \"mse\"] = np.average(model_mse)\n",
    "        \n",
    "    print(results.loc[results.idxmax()])\n",
    "    best_mean_score = results.max().max()\n",
    "    #print(type(best_mean_score))\n",
    "    #print(best_mean_score)\n",
    "    return best_mean_score\n"
   ]
  },
  {
   "cell_type": "code",
   "execution_count": 116,
   "metadata": {},
   "outputs": [
    {
     "name": "stdout",
     "output_type": "stream",
     "text": [
      "                mse\n",
      "Theil-Sen -1.656874\n",
      "                mse\n",
      "Theil-Sen -1.834065\n",
      "                     mse\n",
      "HuberRegressor -0.016992\n",
      "                     mse\n",
      "HuberRegressor -0.016756\n",
      "Multimodel experiment\n",
      "                                      mse\n",
      "Baseline                         -1.65687\n",
      "Isolation Forest                 -1.83406\n",
      "Minimum Covariance Determinant -0.0169917\n",
      "Local Outlier Factor           -0.0167556\n"
     ]
    }
   ],
   "source": [
    "print(\"Robust Models experiment with outlier detection/removal\")\n",
    "results = run_experiment_with_outlier_detection(mse_robust_models, df, contamination=0.09)\n",
    "print(\"Best model results\")\n",
    "print(results)"
   ]
  },
  {
   "cell_type": "code",
   "execution_count": 11,
   "metadata": {},
   "outputs": [
    {
     "name": "stdout",
     "output_type": "stream",
     "text": [
      "                mse\n",
      "Theil-Sen -1.656391\n",
      "Multimodel experiment\n",
      "-1.6563910530501693\n"
     ]
    }
   ],
   "source": [
    "print(\"Robust Models experiment\")\n",
    "results = mse_robust_models(df.drop(\"y\", axis=1), df[\"y\"])\n",
    "print(\"Best model MSE\")\n",
    "print(results)"
   ]
  },
  {
   "cell_type": "markdown",
   "id": "ba9e2db6",
   "metadata": {},
   "source": [
    "# Baseline Model Performance"
   ]
  },
  {
   "cell_type": "code",
   "execution_count": 50,
   "id": "e0c9d786",
   "metadata": {},
   "outputs": [
    {
     "name": "stdout",
     "output_type": "stream",
     "text": [
      "(90, 20) (90,)\n",
      "MSE: 2.002388419928188\n"
     ]
    }
   ],
   "source": [
    "# list_x = [e for e in x_train]\n",
    "# list_y = [e for e in y_train]\n",
    "\n",
    "# df = pd.DataFrame(list_x)\n",
    "\n",
    "# df[20] = [e[0] for e in list_y]\n",
    "\n",
    "# # summarize the shape of the training dataset\n",
    "# print(df.shape)\n",
    "# # print(df)\n",
    "\n",
    "# x = df.copy()\n",
    "# x.pop(20)\n",
    "# X = x.to_numpy()\n",
    "\n",
    "# y = df.copy()\n",
    "# for i in range(0,20,1):\n",
    "#     y.pop(i)\n",
    "# Y = y.to_numpy()\n",
    "\n",
    "X = df.drop(\"y\", axis=1)\n",
    "Y = df[\"y\"]\n",
    "mse_linear_model(X, Y)\n",
    "# Antes\n",
    "# (90, 20) (90, 1)\n",
    "# MSE: 2.0549355238516043"
   ]
  },
  {
   "cell_type": "markdown",
   "id": "aafacee5",
   "metadata": {},
   "source": [
    "# Isolation Forest"
   ]
  },
  {
   "cell_type": "code",
   "execution_count": 63,
   "id": "1f7cb4c3",
   "metadata": {},
   "outputs": [
    {
     "name": "stderr",
     "output_type": "stream",
     "text": [
      "/home/helder/.local/lib/python3.9/site-packages/sklearn/base.py:441: UserWarning: X does not have valid feature names, but IsolationForest was fitted with feature names\n",
      "  warnings.warn(\n",
      "/home/helder/.local/lib/python3.9/site-packages/sklearn/base.py:441: UserWarning: X does not have valid feature names, but IsolationForest was fitted with feature names\n",
      "  warnings.warn(\n"
     ]
    },
    {
     "name": "stdout",
     "output_type": "stream",
     "text": [
      "(81, 20) (81,)\n",
      "MSE: 2.5947134862396997\n"
     ]
    }
   ],
   "source": [
    "# identify outliers in the training dataset\n",
    "iso = IsolationForest(contamination=0.1)\n",
    "pred_y = iso.fit_predict(df)\n",
    "\n",
    "# select all rows that are not outliers\n",
    "mask = pred_y != -1\n",
    "# print(mask)\n",
    "X = df[mask].drop(\"y\", axis=1)\n",
    "Y = df[mask][\"y\"]\n",
    "\n",
    "mse_linear_model(X, Y)"
   ]
  },
  {
   "cell_type": "markdown",
   "id": "487518dd",
   "metadata": {},
   "source": [
    "# Minimum Covariance Determinant"
   ]
  },
  {
   "cell_type": "code",
   "execution_count": 52,
   "id": "303e53d4",
   "metadata": {},
   "outputs": [
    {
     "name": "stderr",
     "output_type": "stream",
     "text": [
      "/home/helder/.local/lib/python3.9/site-packages/sklearn/utils/validation.py:1673: FutureWarning: Feature names only support names that are all strings. Got feature names with dtypes: ['int', 'str']. An error will be raised in 1.2.\n",
      "  warnings.warn(\n",
      "/home/helder/.local/lib/python3.9/site-packages/sklearn/utils/validation.py:1673: FutureWarning: Feature names only support names that are all strings. Got feature names with dtypes: ['int', 'str']. An error will be raised in 1.2.\n",
      "  warnings.warn(\n"
     ]
    },
    {
     "name": "stdout",
     "output_type": "stream",
     "text": [
      "(89, 20) (89,)\n",
      "MSE: 0.6057257341632776\n"
     ]
    }
   ],
   "source": [
    "# identify outliers in the training dataset\n",
    "ee = EllipticEnvelope(contamination=0.01)\n",
    "pred_y = ee.fit_predict(df)\n",
    "\n",
    "# select all rows that are not outliers\n",
    "mask = pred_y != -1\n",
    "# print(mask)\n",
    "X = df[mask].drop(\"y\", axis=1)\n",
    "Y = df[mask][\"y\"]\n",
    "\n",
    "mse_linear_model(X, Y)"
   ]
  },
  {
   "cell_type": "markdown",
   "id": "24ced986",
   "metadata": {},
   "source": [
    "# Local Outlier Factor"
   ]
  },
  {
   "cell_type": "code",
   "execution_count": 78,
   "id": "1a741571",
   "metadata": {},
   "outputs": [
    {
     "name": "stdout",
     "output_type": "stream",
     "text": [
      "(81, 20) (81,)\n",
      "MSE: 0.017503600976951916\n"
     ]
    }
   ],
   "source": [
    "# identify outliers in the training dataset\n",
    "lof = LocalOutlierFactor(contamination=0.1)\n",
    "pred_y = lof.fit_predict(df)\n",
    "\n",
    "# select all rows that are not outliers\n",
    "mask = pred_y != -1\n",
    "X = df[mask].drop(\"y\", axis=1)\n",
    "Y = df[mask][\"y\"]\n",
    "\n",
    "mse_linear_model(X, Y)"
   ]
  },
  {
   "cell_type": "markdown",
   "id": "e495fc2c",
   "metadata": {},
   "source": [
    "# Boxplot"
   ]
  },
  {
   "cell_type": "code",
   "execution_count": 55,
   "id": "bdddea7d",
   "metadata": {},
   "outputs": [
    {
     "name": "stdout",
     "output_type": "stream",
     "text": [
      "(100, 21)\n"
     ]
    },
    {
     "data": {
      "text/html": [
       "<div>\n",
       "<style scoped>\n",
       "    .dataframe tbody tr th:only-of-type {\n",
       "        vertical-align: middle;\n",
       "    }\n",
       "\n",
       "    .dataframe tbody tr th {\n",
       "        vertical-align: top;\n",
       "    }\n",
       "\n",
       "    .dataframe thead th {\n",
       "        text-align: right;\n",
       "    }\n",
       "</style>\n",
       "<table border=\"1\" class=\"dataframe\">\n",
       "  <thead>\n",
       "    <tr style=\"text-align: right;\">\n",
       "      <th></th>\n",
       "      <th>A</th>\n",
       "      <th>B</th>\n",
       "      <th>C</th>\n",
       "      <th>D</th>\n",
       "      <th>E</th>\n",
       "      <th>F</th>\n",
       "      <th>G</th>\n",
       "      <th>H</th>\n",
       "      <th>I</th>\n",
       "      <th>J</th>\n",
       "      <th>...</th>\n",
       "      <th>L</th>\n",
       "      <th>M</th>\n",
       "      <th>N</th>\n",
       "      <th>O</th>\n",
       "      <th>P</th>\n",
       "      <th>Q</th>\n",
       "      <th>R</th>\n",
       "      <th>S</th>\n",
       "      <th>T</th>\n",
       "      <th>y</th>\n",
       "    </tr>\n",
       "  </thead>\n",
       "  <tbody>\n",
       "    <tr>\n",
       "      <th>0</th>\n",
       "      <td>-1.290089</td>\n",
       "      <td>0.038961</td>\n",
       "      <td>0.228235</td>\n",
       "      <td>0.101686</td>\n",
       "      <td>-0.067296</td>\n",
       "      <td>-0.637278</td>\n",
       "      <td>-0.295017</td>\n",
       "      <td>-0.450571</td>\n",
       "      <td>-2.405162</td>\n",
       "      <td>2.328489</td>\n",
       "      <td>...</td>\n",
       "      <td>-0.675255</td>\n",
       "      <td>0.288608</td>\n",
       "      <td>0.282775</td>\n",
       "      <td>0.217768</td>\n",
       "      <td>0.929042</td>\n",
       "      <td>0.705605</td>\n",
       "      <td>0.130496</td>\n",
       "      <td>-1.616716</td>\n",
       "      <td>0.004275</td>\n",
       "      <td>-4.496486</td>\n",
       "    </tr>\n",
       "    <tr>\n",
       "      <th>1</th>\n",
       "      <td>0.963710</td>\n",
       "      <td>1.841056</td>\n",
       "      <td>1.251256</td>\n",
       "      <td>-1.603235</td>\n",
       "      <td>0.340050</td>\n",
       "      <td>-0.233890</td>\n",
       "      <td>1.726259</td>\n",
       "      <td>0.485200</td>\n",
       "      <td>-1.555082</td>\n",
       "      <td>0.872393</td>\n",
       "      <td>...</td>\n",
       "      <td>-0.114605</td>\n",
       "      <td>-0.448800</td>\n",
       "      <td>1.338183</td>\n",
       "      <td>2.203141</td>\n",
       "      <td>-0.179866</td>\n",
       "      <td>0.134610</td>\n",
       "      <td>-0.198595</td>\n",
       "      <td>0.499642</td>\n",
       "      <td>-1.133330</td>\n",
       "      <td>-1.630203</td>\n",
       "    </tr>\n",
       "    <tr>\n",
       "      <th>2</th>\n",
       "      <td>0.652553</td>\n",
       "      <td>0.533144</td>\n",
       "      <td>-1.787609</td>\n",
       "      <td>-1.169125</td>\n",
       "      <td>-0.525402</td>\n",
       "      <td>0.257441</td>\n",
       "      <td>-0.629267</td>\n",
       "      <td>0.162554</td>\n",
       "      <td>-0.985946</td>\n",
       "      <td>-1.245303</td>\n",
       "      <td>...</td>\n",
       "      <td>0.427465</td>\n",
       "      <td>0.834908</td>\n",
       "      <td>1.686784</td>\n",
       "      <td>0.051292</td>\n",
       "      <td>-0.870790</td>\n",
       "      <td>0.127209</td>\n",
       "      <td>-0.190596</td>\n",
       "      <td>-1.363593</td>\n",
       "      <td>1.465699</td>\n",
       "      <td>1.339833</td>\n",
       "    </tr>\n",
       "    <tr>\n",
       "      <th>3</th>\n",
       "      <td>-0.410840</td>\n",
       "      <td>-1.257023</td>\n",
       "      <td>-0.017595</td>\n",
       "      <td>1.313880</td>\n",
       "      <td>-0.521560</td>\n",
       "      <td>2.934458</td>\n",
       "      <td>-0.520630</td>\n",
       "      <td>0.063651</td>\n",
       "      <td>-1.141947</td>\n",
       "      <td>-0.251534</td>\n",
       "      <td>...</td>\n",
       "      <td>-0.703005</td>\n",
       "      <td>1.106951</td>\n",
       "      <td>0.580637</td>\n",
       "      <td>-0.057783</td>\n",
       "      <td>-0.766014</td>\n",
       "      <td>1.569594</td>\n",
       "      <td>-0.361484</td>\n",
       "      <td>0.436235</td>\n",
       "      <td>-0.449029</td>\n",
       "      <td>-2.496278</td>\n",
       "    </tr>\n",
       "    <tr>\n",
       "      <th>4</th>\n",
       "      <td>-1.769616</td>\n",
       "      <td>-1.289050</td>\n",
       "      <td>1.572451</td>\n",
       "      <td>-1.764423</td>\n",
       "      <td>0.354585</td>\n",
       "      <td>-0.484731</td>\n",
       "      <td>-0.487435</td>\n",
       "      <td>-0.158962</td>\n",
       "      <td>0.467395</td>\n",
       "      <td>0.952608</td>\n",
       "      <td>...</td>\n",
       "      <td>1.599535</td>\n",
       "      <td>0.874688</td>\n",
       "      <td>0.638029</td>\n",
       "      <td>1.557111</td>\n",
       "      <td>1.344622</td>\n",
       "      <td>0.745231</td>\n",
       "      <td>0.274891</td>\n",
       "      <td>2.472565</td>\n",
       "      <td>1.583625</td>\n",
       "      <td>4.326055</td>\n",
       "    </tr>\n",
       "  </tbody>\n",
       "</table>\n",
       "<p>5 rows × 21 columns</p>\n",
       "</div>"
      ],
      "text/plain": [
       "          A         B         C         D         E         F         G  \\\n",
       "0 -1.290089  0.038961  0.228235  0.101686 -0.067296 -0.637278 -0.295017   \n",
       "1  0.963710  1.841056  1.251256 -1.603235  0.340050 -0.233890  1.726259   \n",
       "2  0.652553  0.533144 -1.787609 -1.169125 -0.525402  0.257441 -0.629267   \n",
       "3 -0.410840 -1.257023 -0.017595  1.313880 -0.521560  2.934458 -0.520630   \n",
       "4 -1.769616 -1.289050  1.572451 -1.764423  0.354585 -0.484731 -0.487435   \n",
       "\n",
       "          H         I         J  ...         L         M         N         O  \\\n",
       "0 -0.450571 -2.405162  2.328489  ... -0.675255  0.288608  0.282775  0.217768   \n",
       "1  0.485200 -1.555082  0.872393  ... -0.114605 -0.448800  1.338183  2.203141   \n",
       "2  0.162554 -0.985946 -1.245303  ...  0.427465  0.834908  1.686784  0.051292   \n",
       "3  0.063651 -1.141947 -0.251534  ... -0.703005  1.106951  0.580637 -0.057783   \n",
       "4 -0.158962  0.467395  0.952608  ...  1.599535  0.874688  0.638029  1.557111   \n",
       "\n",
       "          P         Q         R         S         T         y  \n",
       "0  0.929042  0.705605  0.130496 -1.616716  0.004275 -4.496486  \n",
       "1 -0.179866  0.134610 -0.198595  0.499642 -1.133330 -1.630203  \n",
       "2 -0.870790  0.127209 -0.190596 -1.363593  1.465699  1.339833  \n",
       "3 -0.766014  1.569594 -0.361484  0.436235 -0.449029 -2.496278  \n",
       "4  1.344622  0.745231  0.274891  2.472565  1.583625  4.326055  \n",
       "\n",
       "[5 rows x 21 columns]"
      ]
     },
     "execution_count": 55,
     "metadata": {},
     "output_type": "execute_result"
    }
   ],
   "source": [
    "print(df.shape)\n",
    "df.head()"
   ]
  },
  {
   "cell_type": "code",
   "execution_count": 56,
   "id": "35bf8965",
   "metadata": {},
   "outputs": [],
   "source": [
    "def plot_boxplot(df):\n",
    "    df.boxplot()\n",
    "    plt.grid(False)\n",
    "    plt.show()"
   ]
  },
  {
   "cell_type": "code",
   "execution_count": 57,
   "id": "b02a4418",
   "metadata": {},
   "outputs": [
    {
     "data": {
      "image/png": "[encoded data removed]",
      "text/plain": [
       "<Figure size 432x288 with 1 Axes>"
      ]
     },
     "metadata": {
      "needs_background": "light"
     },
     "output_type": "display_data"
    }
   ],
   "source": [
    "plot_boxplot(df.drop(\"y\", axis=1))"
   ]
  },
  {
   "cell_type": "markdown",
   "id": "72974f13",
   "metadata": {},
   "source": [
    "# Histogram"
   ]
  },
  {
   "cell_type": "code",
   "execution_count": 87,
   "id": "f705567a",
   "metadata": {},
   "outputs": [
    {
     "data": {
      "text/plain": [
       "<AxesSubplot:ylabel='Count'>"
      ]
     },
     "execution_count": 87,
     "metadata": {},
     "output_type": "execute_result"
    },
    {
     "data": {
      "image/png": "[encoded data removed]",
      "text/plain": [
       "<Figure size 432x288 with 1 Axes>"
      ]
     },
     "metadata": {
      "needs_background": "light"
     },
     "output_type": "display_data"
    }
   ],
   "source": [
    "# Did not run... image on cache\n",
    "\n",
    "#sns.histplot(data=df)\n",
    "sns.histplot(data=df.drop(\"y\", axis=1))"
   ]
  }
 ],
 "metadata": {
  "interpreter": {
   "hash": "767d51c1340bd893661ea55ea3124f6de3c7a262a8b4abca0554b478b1e2ff90"
  },
  "kernelspec": {
   "display_name": "Python 3.9.7 64-bit",
   "name": "python3"
  },
  "language_info": {
   "codemirror_mode": {
    "name": "ipython",
    "version": 3
   },
   "file_extension": ".py",
   "mimetype": "text/x-python",
   "name": "python",
   "nbconvert_exporter": "python",
   "pygments_lexer": "ipython3",
   "version": "3.9.7"
  }
 },
 "nbformat": 4,
 "nbformat_minor": 5
}
