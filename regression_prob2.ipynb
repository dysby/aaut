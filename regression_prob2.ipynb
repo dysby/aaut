{
 "cells": [
  {
   "cell_type": "code",
   "execution_count": 1,
   "id": "4cb2e4e0",
   "metadata": {},
   "outputs": [],
   "source": [
    "import numpy as np\n",
    "import pandas as pd\n",
    "from matplotlib import pyplot as plt\n",
    "from sklearn.metrics import mean_squared_error as MSE\n",
    "from sklearn.ensemble import IsolationForest\n",
    "from sklearn.covariance import EllipticEnvelope\n",
    "from sklearn.neighbors import LocalOutlierFactor\n",
    "from sklearn.model_selection import cross_val_score, train_test_split\n",
    "from sklearn.linear_model import (\n",
    "    LinearRegression, Ridge, Lasso,\n",
    "    TheilSenRegressor, RANSACRegressor, HuberRegressor,\n",
    "    )\n",
    "\n"
   ]
  },
  {
   "cell_type": "code",
   "execution_count": 2,
   "id": "1a2e2a6a",
   "metadata": {},
   "outputs": [],
   "source": [
    "# load Training Set\n",
    "x_train = np.load(\"Xtrain_Regression_Part2.npy\")\n",
    "y_train = np.load(\"Ytrain_Regression_Part2.npy\")\n",
    "x_test = np.load(\"Xtest_Regression_Part2.npy\")"
   ]
  },
  {
   "cell_type": "markdown",
   "id": "9af0f864",
   "metadata": {},
   "source": [
    "# DF"
   ]
  },
  {
   "cell_type": "code",
   "execution_count": 3,
   "id": "2a172571",
   "metadata": {},
   "outputs": [
    {
     "name": "stdout",
     "output_type": "stream",
     "text": [
      "(100, 21)\n",
      "Index(['A', 'B', 'C', 'D', 'E', 'F', 'G', 'H', 'I', 'J', 'K', 'L', 'M', 'N',\n",
      "       'O', 'P', 'Q', 'R', 'S', 'T', 'y'],\n",
      "      dtype='object')\n"
     ]
    }
   ],
   "source": [
    "import string\n",
    "df = pd.DataFrame(x_train, columns=list(string.ascii_uppercase)[:20])\n",
    "df[\"y\"] = y_train\n",
    "\n",
    "# summarize the shape of the training dataset\n",
    "print(df.shape)\n",
    "print(df.columns)"
   ]
  },
  {
   "cell_type": "markdown",
   "id": "cfc36eb3",
   "metadata": {},
   "source": [
    "# Interquartile Range Method (IQR)"
   ]
  },
  {
   "cell_type": "code",
   "execution_count": 5,
   "id": "bf4f51d1",
   "metadata": {},
   "outputs": [],
   "source": [
    "# IQR\n",
    "Q1 = df.quantile(0.25)\n",
    "Q3 = df.quantile(0.75)\n",
    "IQR = Q3 - Q1\n",
    "# print(IQR)\n",
    "# print(Q3)\n",
    "# (Q3 + 1.5 * IQR)"
   ]
  },
  {
   "cell_type": "code",
   "execution_count": 6,
   "id": "9fba203f",
   "metadata": {},
   "outputs": [
    {
     "name": "stdout",
     "output_type": "stream",
     "text": [
      "(100, 21)\n"
     ]
    }
   ],
   "source": [
    "# summarize the shape of the training dataset\n",
    "print(df.shape)"
   ]
  },
  {
   "cell_type": "code",
   "execution_count": 7,
   "id": "d55153be",
   "metadata": {},
   "outputs": [],
   "source": [
    "# Finding outliers using IQR\n",
    "outliers = (df < (Q1 - 1.5 * IQR)).astype(bool) | (df > (Q3 + 1.5 * IQR)).astype(bool)\n",
    "# print(-outliers)"
   ]
  },
  {
   "cell_type": "markdown",
   "metadata": {},
   "source": [
    "## Model's MSE metics"
   ]
  },
  {
   "cell_type": "code",
   "execution_count": 20,
   "metadata": {},
   "outputs": [],
   "source": [
    "def mse_linear_model(X, Y, runs=500) -> float:\n",
    "    mse = 0\n",
    "    for _ in range(runs):\n",
    "        # split into train and test sets\n",
    "        train_x, test_x, train_y, test_y = train_test_split(X,\n",
    "                                                            Y,\n",
    "                                                            train_size=0.9)\n",
    "        # fit the model\n",
    "        lr = LinearRegression().fit(train_x, train_y)       \n",
    "        # evaluate the model\n",
    "        pred_y = lr.predict(test_x)\n",
    "        # evaluate predictions\n",
    "        mse = mse + MSE(test_y, pred_y)\n",
    "    # summarize the shape of the updated training dataset\n",
    "    # print(train_x.shape, train_y.shape) \n",
    "    # print('MSE:', mse/runs)\n",
    "    return mse/runs"
   ]
  },
  {
   "cell_type": "code",
   "execution_count": 4,
   "metadata": {},
   "outputs": [],
   "source": [
    "def mse_of_models_lr_ridg_lass(X, Y, cv_folds: int=10, \n",
    "                    alpha_min:float = 0.0001,\n",
    "                    alpha_max:float = 0.01):\n",
    "\n",
    "    results = pd.DataFrame()\n",
    "    for a in np.linspace(alpha_min, alpha_max, 100):\n",
    "        estimators = [('Linear', LinearRegression()),\n",
    "                      ('Lasso', Lasso(alpha=a)),\n",
    "                      ('Ridge', Ridge(alpha=a)),\n",
    "                      ]\n",
    "\n",
    "        for name, estimator in estimators:\n",
    "            neg_mse = cross_val_score(estimator, X, Y, cv=cv_folds,\n",
    "                                scoring='neg_mean_squared_error')\n",
    "            neg_mse = np.average(neg_mse)\n",
    "            # print(f\"{name} -> Alpha: {a:.4f}\\t\\t-MSE score:{neg_mse:.4f}\")\n",
    "            results.loc[name,a] = neg_mse\n",
    "\n",
    "    # get best model / alpha\n",
    "    a, b = results.stack().idxmax()\n",
    "    print(results.loc[[a], [b]])\n",
    "\n",
    "    return results.max().max()"
   ]
  },
  {
   "cell_type": "code",
   "execution_count": 21,
   "id": "457af144",
   "metadata": {},
   "outputs": [
    {
     "data": {
      "text/plain": [
       "2.4295241815679542"
      ]
     },
     "execution_count": 21,
     "metadata": {},
     "output_type": "execute_result"
    }
   ],
   "source": [
    "X = df.drop(\"y\", axis=1)\n",
    "Y = df[\"y\"]\n",
    "mse_linear_model(X, Y)"
   ]
  },
  {
   "cell_type": "markdown",
   "metadata": {},
   "source": [
    "## Outlier cleaning Evaluation\n",
    "\n",
    "Test some outlier identification methods, clean those outliers form training dataset and get mse metric for linear regression model.\n",
    "\n",
    "TODO:\n",
    "+ Test different contamination effects\n",
    "+ Test score with different regression models\n",
    "+ Clean warnings"
   ]
  },
  {
   "cell_type": "markdown",
   "metadata": {},
   "source": [
    "### Malanobis Distance of X_train and Y_train"
   ]
  },
  {
   "cell_type": "code",
   "execution_count": 78,
   "metadata": {},
   "outputs": [],
   "source": [
    "# local project path imports\n",
    "from mahalanobis import mahalanobis"
   ]
  },
  {
   "cell_type": "code",
   "execution_count": 93,
   "metadata": {},
   "outputs": [
    {
     "data": {
      "image/png": "[encoded data removed]",
      "text/plain": [
       "<Figure size 720x288 with 2 Axes>"
      ]
     },
     "metadata": {
      "needs_background": "light"
     },
     "output_type": "display_data"
    }
   ],
   "source": [
    "mahal = pd.DataFrame()\n",
    "mahal[\"mahal\"] = mahalanobis(df, df)\n",
    "fig, (ax1,ax2) = plt.subplots(1,2)\n",
    "ax1.plot(mahal.sort_values(\"mahal\").reset_index(drop=True))\n",
    "ax1.set_title(\"X_train Mahalanobis dist\")\n",
    "ax2.plot(mahal.sort_values(\"mahal\").reset_index(drop=True)[4:94])\n",
    "ax2.set_title(\"X_train 90 smallest Mahalanobis dist\")\n",
    "fig.set_figwidth(10)"
   ]
  },
  {
   "cell_type": "code",
   "execution_count": 94,
   "metadata": {},
   "outputs": [
    {
     "data": {
      "image/png": "[encoded data removed]",
      "text/plain": [
       "<Figure size 720x288 with 2 Axes>"
      ]
     },
     "metadata": {
      "needs_background": "light"
     },
     "output_type": "display_data"
    }
   ],
   "source": [
    "mahal_x = pd.DataFrame()\n",
    "mahal_x[\"mahal\"] = mahalanobis(pd.DataFrame(x_train), pd.DataFrame(x_train))\n",
    "fig, (ax1,ax2) = plt.subplots(1,2)\n",
    "ax1.plot(mahal_x.sort_values(\"mahal\").reset_index(drop=True))\n",
    "ax1.set_title(\"X_train Mahalanobis dist\")\n",
    "ax2.plot(mahal_x.sort_values(\"mahal\").reset_index(drop=True)[4:94])\n",
    "ax2.set_title(\"X_train 90 smallest Mahalanobis dist\")\n",
    "fig.set_figwidth(10)"
   ]
  },
  {
   "cell_type": "code",
   "execution_count": 117,
   "metadata": {},
   "outputs": [
    {
     "data": {
      "text/plain": [
       "[<matplotlib.lines.Line2D at 0x7f9218af9c40>]"
      ]
     },
     "execution_count": 117,
     "metadata": {},
     "output_type": "execute_result"
    },
    {
     "data": {
      "image/png": "[encoded data removed]",
      "text/plain": [
       "<Figure size 432x288 with 1 Axes>"
      ]
     },
     "metadata": {
      "needs_background": "light"
     },
     "output_type": "display_data"
    }
   ],
   "source": [
    "dist = np.sqrt(np.square(y_train - y_train.mean()))\n",
    "plt.plot(np.sort(dist, axis=0)[::-1])"
   ]
  },
  {
   "cell_type": "markdown",
   "metadata": {},
   "source": [
    "### Experiments with outlier detetion\n",
    "\n",
    "* IsolationForest\n",
    "* EllipticEnvelope\n",
    "* LocalOutlierFactor"
   ]
  },
  {
   "cell_type": "code",
   "execution_count": 74,
   "metadata": {},
   "outputs": [],
   "source": [
    "def run_experiment_with_outlier_detection(mse_of_model , \n",
    "                                    data_x_y: pd.DataFrame, \n",
    "                                    contamination: float, \n",
    "                                    show_plot=True):    \n",
    "    \n",
    "    evaluation = pd.DataFrame(columns=[\"mse\"])\n",
    "    # IsolationForest - efficient way of performing outlier detection in \n",
    "    #   high-dimensional datasets.\n",
    "    #   ‘isolates’ observations by randomly selecting a feature and then\n",
    "    #   randomly selecting a split value between the maximum and minimum \n",
    "    #   values of the selected feature.\n",
    "\n",
    "    # EllipticEnvelope - assumes the data is Gaussian and learns an ellipse. \n",
    "    #   It thus degrades when the data is not unimodal. \n",
    "    #   Notice however that this estimator is robust to outliers.\n",
    "    #   The Mahalanobis distances obtained from this estimate is used to derive a measure of outlyingness\n",
    "\n",
    "    # Local Outlier Factor:\n",
    "    # n_neighbors) is typically set \n",
    "    #   1) greater than the minimum number of samples a cluster has to contain, \n",
    "    #       so that other samples can be local outliers relative to this cluster, and \n",
    "    #   2) smaller than the maximum number of close by samples that can potentially be \n",
    "    #       local outliers. In practice, such informations are generally not available, \n",
    "    #       and taking **n_neighbors=20** appears to work well in general.\n",
    "\n",
    "    outlier_detection_methods = [('Baseline', None),\n",
    "                ('Isolation Forest', IsolationForest),\n",
    "                ('Minimum Covariance Determinant', EllipticEnvelope),\n",
    "                ('Local Outlier Factor', LocalOutlierFactor)]\n",
    "\n",
    "    if show_plot:\n",
    "        fig, ((ax1,ax2),(ax3,ax4)) = plt.subplots(2,2)\n",
    "        ax_plots = { \"Baseline\": ax1, \n",
    "                \"Isolation Forest\": ax2, \n",
    "                \"Minimum Covariance Determinant\": ax3, \n",
    "                \"Local Outlier Factor\": ax4}\n",
    "\n",
    "\n",
    "    for name, outlier_detection in outlier_detection_methods:\n",
    "        if outlier_detection:\n",
    "            is_outlier = outlier_detection(contamination=contamination).fit_predict(data_x_y)\n",
    "        else:\n",
    "            is_outlier = np.ones(df.index.size)\n",
    "        # select all rows that are not outliers\n",
    "        mask = is_outlier != -1\n",
    "        # print(mask)\n",
    "        \n",
    "        X = data_x_y[mask].drop(\"y\", axis=1)\n",
    "        Y = data_x_y[mask][\"y\"]\n",
    "        # print(name, Y.size, Y.index)\n",
    "        evaluation.loc[name, \"mse\"] = mse_of_model(X, Y)\n",
    "\n",
    "        # Check if outlier detection method produces population with less mahalanobis distance \n",
    "        # considering the full dataset (x and y) as the distribution\n",
    "        if show_plot:\n",
    "            mahal_of_outlier_detection = pd.DataFrame()\n",
    "            mahal_of_outlier_detection[\"mahal_d\"] = mahalanobis(data_x_y[mask], data_x_y)\n",
    "            ax_plots[name].plot(mahal_of_outlier_detection.sort_values(\"mahal_d\").reset_index(drop=True))\n",
    "            ax_plots[name].set_title(name)\n",
    "\n",
    "    if show_plot:\n",
    "        plt.subplots_adjust(wspace=0.20, hspace=0.5)\n",
    "        # plt.title(\"Mahalanobis Distance\")\n",
    "        plt.show()\n",
    "    return evaluation"
   ]
  },
  {
   "cell_type": "code",
   "execution_count": 68,
   "metadata": {},
   "outputs": [
    {
     "data": {
      "image/png": "[encoded data removed]",
      "text/plain": [
       "<Figure size 432x288 with 4 Axes>"
      ]
     },
     "metadata": {
      "needs_background": "light"
     },
     "output_type": "display_data"
    },
    {
     "name": "stdout",
     "output_type": "stream",
     "text": [
      "Linear Model experiment\n",
      "                                      mse\n",
      "Baseline                          2.03212\n",
      "Isolation Forest                  2.03594\n",
      "Minimum Covariance Determinant  0.0158659\n",
      "Local Outlier Factor             0.017743\n"
     ]
    }
   ],
   "source": [
    "results = run_experiment_with_outlier_detection(mse_linear_model, df, contamination=0.04)\n",
    "print(\"Linear Model experiment\")\n",
    "print(results)"
   ]
  },
  {
   "cell_type": "code",
   "execution_count": 60,
   "metadata": {},
   "outputs": [
    {
     "data": {
      "image/png": "[encoded data removed]",
      "text/plain": [
       "<Figure size 432x288 with 4 Axes>"
      ]
     },
     "metadata": {
      "needs_background": "light"
     },
     "output_type": "display_data"
    },
    {
     "name": "stdout",
     "output_type": "stream",
     "text": [
      "Linear Model experiment\n",
      "                                      mse\n",
      "Baseline                          2.20903\n",
      "Isolation Forest                  2.33145\n",
      "Minimum Covariance Determinant  0.0155645\n",
      "Local Outlier Factor            0.0171081\n"
     ]
    }
   ],
   "source": [
    "results = run_experiment_with_outlier_detection(mse_linear_model, df, contamination=0.1)\n",
    "print(\"Linear Model experiment\")\n",
    "print(results)"
   ]
  },
  {
   "cell_type": "code",
   "execution_count": 71,
   "metadata": {},
   "outputs": [
    {
     "name": "stdout",
     "output_type": "stream",
     "text": [
      "Multimodel experiment\n",
      "           0.01\n",
      "Lasso -2.033188\n",
      "           0.01\n",
      "Lasso -2.068552\n",
      "           0.01\n",
      "Lasso -0.714894\n",
      "           0.01\n",
      "Lasso -2.068552\n"
     ]
    },
    {
     "data": {
      "image/png": "[encoded data removed]",
      "text/plain": [
       "<Figure size 432x288 with 4 Axes>"
      ]
     },
     "metadata": {
      "needs_background": "light"
     },
     "output_type": "display_data"
    },
    {
     "name": "stdout",
     "output_type": "stream",
     "text": [
      "Best results\n",
      "                                     mse\n",
      "Baseline                        -2.03319\n",
      "Isolation Forest                -2.06855\n",
      "Minimum Covariance Determinant -0.714894\n",
      "Local Outlier Factor            -2.06855\n"
     ]
    }
   ],
   "source": [
    "print(\"Multimodel (Linear, Lasso, Ridge) experiment\")\n",
    "results = run_experiment_with_outlier_detection(mse_of_models_lr_ridg_lass, df, contamination=0.01)\n",
    "print(\"Best results\")\n",
    "print(results)"
   ]
  },
  {
   "cell_type": "code",
   "execution_count": 72,
   "metadata": {},
   "outputs": [
    {
     "name": "stdout",
     "output_type": "stream",
     "text": [
      "Multimodel experiment\n",
      "           0.01\n",
      "Lasso -2.033188\n",
      "           0.01\n",
      "Lasso -2.211825\n",
      "         0.0013\n",
      "Lasso -0.018006\n",
      "           0.01\n",
      "Lasso -2.208749\n"
     ]
    },
    {
     "data": {
      "image/png": "[encoded data removed]",
      "text/plain": [
       "<Figure size 432x288 with 4 Axes>"
      ]
     },
     "metadata": {
      "needs_background": "light"
     },
     "output_type": "display_data"
    },
    {
     "name": "stdout",
     "output_type": "stream",
     "text": [
      "Best results\n",
      "                                      mse\n",
      "Baseline                         -2.03319\n",
      "Isolation Forest                 -2.21183\n",
      "Minimum Covariance Determinant -0.0180063\n",
      "Local Outlier Factor             -2.20875\n"
     ]
    }
   ],
   "source": [
    "print(\"Multimodel experiment\")\n",
    "results = run_experiment_with_outlier_detection(mse_of_models_lr_ridg_lass, df, contamination=0.02)\n",
    "print(\"Best results\")\n",
    "print(results)"
   ]
  },
  {
   "cell_type": "code",
   "execution_count": 80,
   "metadata": {},
   "outputs": [
    {
     "name": "stdout",
     "output_type": "stream",
     "text": [
      "Multimodel experiment with 1 contamination factor\n",
      "           0.01\n",
      "Lasso -2.033188\n",
      "           0.01\n",
      "Lasso -2.068552\n",
      "           0.01\n",
      "Lasso -0.714894\n",
      "           0.01\n",
      "Lasso -2.068552\n",
      "Best results\n",
      "                                     mse\n",
      "Baseline                        -2.03319\n",
      "Isolation Forest                -2.06855\n",
      "Minimum Covariance Determinant -0.714894\n",
      "Local Outlier Factor            -2.06855\n",
      "Multimodel experiment with 2 contamination factor\n",
      "           0.01\n",
      "Lasso -2.033188\n",
      "           0.01\n",
      "Lasso -2.208749\n",
      "         0.0013\n",
      "Lasso -0.018006\n",
      "           0.01\n",
      "Lasso -2.208749\n",
      "Best results\n",
      "                                      mse\n",
      "Baseline                         -2.03319\n",
      "Isolation Forest                 -2.20875\n",
      "Minimum Covariance Determinant -0.0180063\n",
      "Local Outlier Factor             -2.20875\n",
      "Multimodel experiment with 3 contamination factor\n",
      "           0.01\n",
      "Lasso -2.033188\n",
      "           0.01\n",
      "Lasso -2.263319\n",
      "          0.0001\n",
      "Linear -0.017836\n",
      "           0.01\n",
      "Lasso -2.216763\n",
      "Best results\n",
      "                                      mse\n",
      "Baseline                         -2.03319\n",
      "Isolation Forest                 -2.26332\n",
      "Minimum Covariance Determinant -0.0178359\n",
      "Local Outlier Factor             -2.21676\n",
      "Multimodel experiment with 4 contamination factor\n",
      "           0.01\n",
      "Lasso -2.033188\n",
      "           0.01\n",
      "Lasso -2.229844\n",
      "         0.0008\n",
      "Lasso -0.017934\n",
      "           0.01\n",
      "Lasso -2.237078\n",
      "Best results\n",
      "                                      mse\n",
      "Baseline                         -2.03319\n",
      "Isolation Forest                 -2.22984\n",
      "Minimum Covariance Determinant -0.0179345\n",
      "Local Outlier Factor             -2.23708\n",
      "Multimodel experiment with 5 contamination factor\n",
      "           0.01\n",
      "Lasso -2.033188\n",
      "           0.01\n",
      "Lasso -2.248425\n",
      "         0.0009\n",
      "Lasso -0.017991\n",
      "           0.01\n",
      "Lasso -2.290636\n",
      "Best results\n",
      "                                      mse\n",
      "Baseline                         -2.03319\n",
      "Isolation Forest                 -2.24842\n",
      "Minimum Covariance Determinant -0.0179906\n",
      "Local Outlier Factor             -2.29064\n",
      "Multimodel experiment with 6 contamination factor\n",
      "           0.01\n",
      "Lasso -2.033188\n",
      "           0.01\n",
      "Lasso -2.294818\n",
      "          0.0001\n",
      "Linear -0.016174\n",
      "           0.01\n",
      "Lasso -1.595218\n",
      "Best results\n",
      "                                      mse\n",
      "Baseline                         -2.03319\n",
      "Isolation Forest                 -2.29482\n",
      "Minimum Covariance Determinant -0.0161741\n",
      "Local Outlier Factor             -1.59522\n",
      "Multimodel experiment with 7 contamination factor\n",
      "           0.01\n",
      "Lasso -2.033188\n",
      "           0.01\n",
      "Lasso -2.292384\n",
      "        0.0025\n",
      "Lasso -0.01759\n",
      "         0.0009\n",
      "Lasso -0.017669\n",
      "Best results\n",
      "                                      mse\n",
      "Baseline                         -2.03319\n",
      "Isolation Forest                 -2.29238\n",
      "Minimum Covariance Determinant -0.0175895\n",
      "Local Outlier Factor           -0.0176689\n",
      "Multimodel experiment with 8 contamination factor\n",
      "           0.01\n",
      "Lasso -2.033188\n",
      "           0.01\n",
      "Lasso -2.325377\n",
      "        0.0016\n",
      "Lasso -0.01656\n",
      "         0.0014\n",
      "Lasso -0.017011\n",
      "Best results\n",
      "                                      mse\n",
      "Baseline                         -2.03319\n",
      "Isolation Forest                 -2.32538\n",
      "Minimum Covariance Determinant -0.0165603\n",
      "Local Outlier Factor           -0.0170109\n",
      "Multimodel experiment with 9 contamination factor\n",
      "           0.01\n",
      "Lasso -2.033188\n",
      "           0.01\n",
      "Lasso -2.366796\n",
      "         0.0017\n",
      "Lasso -0.015711\n",
      "         0.0014\n",
      "Lasso -0.016997\n",
      "Best results\n",
      "                                      mse\n",
      "Baseline                         -2.03319\n",
      "Isolation Forest                  -2.3668\n",
      "Minimum Covariance Determinant -0.0157112\n",
      "Local Outlier Factor           -0.0169972\n",
      "Multimodel experiment with 10 contamination factor\n",
      "           0.01\n",
      "Lasso -2.033188\n",
      "           0.01\n",
      "Lasso -2.377878\n",
      "         0.0038\n",
      "Lasso -0.016795\n",
      "         0.0012\n",
      "Lasso -0.017336\n",
      "Best results\n",
      "                                      mse\n",
      "Baseline                         -2.03319\n",
      "Isolation Forest                 -2.37788\n",
      "Minimum Covariance Determinant -0.0167953\n",
      "Local Outlier Factor           -0.0173357\n"
     ]
    }
   ],
   "source": [
    "for contamination in range(1,11):\n",
    "    print(f\"Multimodel experiment with {contamination} contamination factor\")\n",
    "    results = run_experiment_with_outlier_detection(mse_of_models_lr_ridg_lass, \n",
    "                                                    df,\n",
    "                                                    contamination=0.01*contamination, show_plot=False)\n",
    "    print(\"Best results\")\n",
    "    print(results)"
   ]
  },
  {
   "cell_type": "markdown",
   "metadata": {},
   "source": [
    "# Robust Fit"
   ]
  },
  {
   "cell_type": "code",
   "execution_count": 63,
   "metadata": {},
   "outputs": [],
   "source": [
    "def mse_robust_models(X, Y, cv_folds: int=10):\n",
    "    results = pd.DataFrame()\n",
    "    # estimators = [('OLS', LinearRegression()),\n",
    "    estimators = [('Theil-Sen', TheilSenRegressor()),\n",
    "                ('RANSAC', RANSACRegressor()),\n",
    "                ('HuberRegressor', HuberRegressor())]\n",
    "\n",
    "    for name, estimator in estimators:\n",
    "        model_mse = cross_val_score(estimator, X, Y, cv=cv_folds,\n",
    "                            scoring='neg_mean_squared_error')\n",
    "        results.loc[name, \"mse\"] = np.average(model_mse)\n",
    "        \n",
    "    print(results.loc[results.idxmax()])\n",
    "    best_mean_score = results.max().max()\n",
    "    #print(type(best_mean_score))\n",
    "    #print(best_mean_score)\n",
    "    return best_mean_score\n"
   ]
  },
  {
   "cell_type": "code",
   "execution_count": 79,
   "metadata": {},
   "outputs": [
    {
     "name": "stdout",
     "output_type": "stream",
     "text": [
      "Robust Models experiment with outlier detection/removal\n",
      "                mse\n",
      "Theil-Sen -1.657685\n",
      "                mse\n",
      "Theil-Sen -1.838678\n",
      "                     mse\n",
      "HuberRegressor -0.016281\n",
      "                mse\n",
      "Theil-Sen -0.017393\n"
     ]
    },
    {
     "data": {
      "image/png": "[encoded data removed]",
      "text/plain": [
       "<Figure size 432x288 with 4 Axes>"
      ]
     },
     "metadata": {
      "needs_background": "light"
     },
     "output_type": "display_data"
    },
    {
     "name": "stdout",
     "output_type": "stream",
     "text": [
      "Best model results\n",
      "                                      mse\n",
      "Baseline                         -1.65769\n",
      "Isolation Forest                 -1.83868\n",
      "Minimum Covariance Determinant -0.0162807\n",
      "Local Outlier Factor           -0.0173934\n"
     ]
    }
   ],
   "source": [
    "print(\"Robust Models experiment with outlier detection/removal\")\n",
    "results = run_experiment_with_outlier_detection(mse_robust_models, df, contamination=0.07)\n",
    "print(\"Best model results\")\n",
    "print(results)"
   ]
  },
  {
   "cell_type": "code",
   "execution_count": 11,
   "metadata": {},
   "outputs": [
    {
     "name": "stdout",
     "output_type": "stream",
     "text": [
      "                mse\n",
      "Theil-Sen -1.656391\n",
      "Multimodel experiment\n",
      "-1.6563910530501693\n"
     ]
    }
   ],
   "source": [
    "print(\"Robust Models experiment\")\n",
    "results = mse_robust_models(df.drop(\"y\", axis=1), df[\"y\"])\n",
    "print(\"Best model MSE\")\n",
    "print(results)"
   ]
  },
  {
   "cell_type": "markdown",
   "metadata": {},
   "source": [
    "# Final calc"
   ]
  },
  {
   "cell_type": "code",
   "execution_count": 24,
   "metadata": {},
   "outputs": [
    {
     "name": "stdout",
     "output_type": "stream",
     "text": [
      "Multimodel experiment with 9 contamination factor\n",
      "mse=-0.015766647176132426, Lasso alpha=0.0013000000000000002\n",
      "NEW Best Model Lasso alpha=0.0013000000000000002\n",
      "mse=-0.015813847646252488, Lasso alpha=0.0033\n",
      "mse=-0.015785211772056554, Lasso alpha=0.0028\n",
      "mse=-0.015766647176132426, Lasso alpha=0.0013000000000000002\n",
      "mse=-0.017520400323846184, Lasso alpha=0.0005\n",
      "mse=-0.016177832630574897, Lasso alpha=0.0033\n",
      "mse=-0.017911378165586106, Lasso alpha=0.0027\n",
      "mse=-0.017987048928583937, Lasso alpha=0.004600000000000001\n",
      "mse=-0.01517257588956846, Lasso alpha=0.0017000000000000001\n",
      "NEW Best Model Lasso alpha=0.0017000000000000001\n",
      "mse=-0.015894688551621006, Lasso alpha=0.0025\n",
      "Multimodel experiment with 10 contamination factor\n",
      "mse=-0.015730448537394307, Lasso alpha=0.0016\n",
      "mse=-0.016302361735838843, Lasso alpha=0.0024\n",
      "mse=-0.014399346339500957, Lasso alpha=0.004900000000000001\n",
      "NEW Best Model Lasso alpha=0.004900000000000001\n",
      "mse=-0.01567921210289479, Lasso alpha=0.0008\n",
      "mse=-0.018205541433254722, Lasso alpha=0.0008\n",
      "mse=-0.013781640995427927, Lasso alpha=0.0011\n",
      "NEW Best Model Lasso alpha=0.0011\n",
      "mse=-0.015730448537394307, Lasso alpha=0.0016\n",
      "mse=-0.01614289038442563, Lasso alpha=0.0037\n",
      "mse=-0.01621440515914223, Lasso alpha=0.0018000000000000002\n",
      "mse=-0.01567921210289479, Lasso alpha=0.0008\n",
      "Best results\n",
      "          mse\n",
      "9  -0.0163796\n",
      "10 -0.0157866\n"
     ]
    }
   ],
   "source": [
    "# Best Outlier Detector : EllipticEnvelope\n",
    "# Best Contamination Factor: 10\n",
    "# Best Model: Lasso\n",
    "results = pd.DataFrame(columns=[\"mse\"])\n",
    "\n",
    "alpha_min = 0.0001\n",
    "alpha_max = 0.0100\n",
    "N = 10\n",
    "cv_folds = 10\n",
    "\n",
    "best_model = LinearRegression()\n",
    "best_model_mse_estimation = -100\n",
    "\n",
    "for contamination in [9, 10]:\n",
    "    print(f\"Multimodel experiment with {contamination} contamination factor\")\n",
    "\n",
    "    mse = 0\n",
    "    for _ in range(N):\n",
    "        is_outlier = EllipticEnvelope(contamination=0.01*contamination).fit_predict(df)\n",
    "        mask = is_outlier != -1\n",
    "        X = df[mask].drop(\"y\", axis=1)\n",
    "        Y = df[mask][\"y\"]\n",
    "\n",
    "        # Linear Model\n",
    "        estimator = LinearRegression()\n",
    "        neg_mse_lin = np.average(cross_val_score(estimator, X, Y, cv=cv_folds,\n",
    "                                scoring='neg_mean_squared_error'))\n",
    "        \n",
    "        # Lasso Model\n",
    "        neg_mse_lass = -100\n",
    "        best_alpha = alpha_min\n",
    "        for a in np.linspace(alpha_min, alpha_max, 100):\n",
    "            estimator = Lasso(alpha=a)\n",
    "            neg_mse = np.average(cross_val_score(estimator, X, Y, cv=cv_folds,\n",
    "                                scoring='neg_mean_squared_error'))\n",
    "            if neg_mse_lass < neg_mse:\n",
    "                neg_mse_lass = neg_mse\n",
    "                best_alpha = a\n",
    "\n",
    "        # mse of run\n",
    "        if neg_mse_lin < neg_mse_lass:\n",
    "            print(f\"mse={neg_mse_lass}, Lasso alpha={best_alpha}\")\n",
    "            mse += neg_mse_lass\n",
    "            # update best model\n",
    "            if best_model_mse_estimation < neg_mse_lass:\n",
    "                best_model_mse_estimation = neg_mse_lass\n",
    "                best_model = Lasso(alpha=best_alpha)\n",
    "                print(f\"NEW Best Model Lasso alpha={best_alpha}\")\n",
    "        else:\n",
    "            print(f\"mse={neg_mse_lin}, Linear\")\n",
    "            mse += neg_mse_lin\n",
    "            # update best model\n",
    "            if best_model_mse_estimation < neg_mse_lass:\n",
    "                best_model_mse_estimation = neg_mse_lass\n",
    "                best_model = LinearRegression()\n",
    "                print(f\"NEW Best Model Linear alpha={best_alpha}\")\n",
    "    results.loc[contamination ,\"mse\"] = mse/N\n",
    "\n",
    "print(\"Best results\")\n",
    "print(results)\n",
    "\n",
    "best_model.fit(X, Y)\n",
    "y_hat = best_model.predict(x_test)\n",
    "\n",
    "np.save(f\"y_hat_regression_prob2-{np.random.randint(1, 100)}\", y_hat)"
   ]
  },
  {
   "cell_type": "markdown",
   "id": "e495fc2c",
   "metadata": {},
   "source": [
    "# Boxplot"
   ]
  },
  {
   "cell_type": "code",
   "execution_count": 55,
   "id": "bdddea7d",
   "metadata": {},
   "outputs": [
    {
     "name": "stdout",
     "output_type": "stream",
     "text": [
      "(100, 21)\n"
     ]
    },
    {
     "data": {
      "text/html": [
       "<div>\n",
       "<style scoped>\n",
       "    .dataframe tbody tr th:only-of-type {\n",
       "        vertical-align: middle;\n",
       "    }\n",
       "\n",
       "    .dataframe tbody tr th {\n",
       "        vertical-align: top;\n",
       "    }\n",
       "\n",
       "    .dataframe thead th {\n",
       "        text-align: right;\n",
       "    }\n",
       "</style>\n",
       "<table border=\"1\" class=\"dataframe\">\n",
       "  <thead>\n",
       "    <tr style=\"text-align: right;\">\n",
       "      <th></th>\n",
       "      <th>A</th>\n",
       "      <th>B</th>\n",
       "      <th>C</th>\n",
       "      <th>D</th>\n",
       "      <th>E</th>\n",
       "      <th>F</th>\n",
       "      <th>G</th>\n",
       "      <th>H</th>\n",
       "      <th>I</th>\n",
       "      <th>J</th>\n",
       "      <th>...</th>\n",
       "      <th>L</th>\n",
       "      <th>M</th>\n",
       "      <th>N</th>\n",
       "      <th>O</th>\n",
       "      <th>P</th>\n",
       "      <th>Q</th>\n",
       "      <th>R</th>\n",
       "      <th>S</th>\n",
       "      <th>T</th>\n",
       "      <th>y</th>\n",
       "    </tr>\n",
       "  </thead>\n",
       "  <tbody>\n",
       "    <tr>\n",
       "      <th>0</th>\n",
       "      <td>-1.290089</td>\n",
       "      <td>0.038961</td>\n",
       "      <td>0.228235</td>\n",
       "      <td>0.101686</td>\n",
       "      <td>-0.067296</td>\n",
       "      <td>-0.637278</td>\n",
       "      <td>-0.295017</td>\n",
       "      <td>-0.450571</td>\n",
       "      <td>-2.405162</td>\n",
       "      <td>2.328489</td>\n",
       "      <td>...</td>\n",
       "      <td>-0.675255</td>\n",
       "      <td>0.288608</td>\n",
       "      <td>0.282775</td>\n",
       "      <td>0.217768</td>\n",
       "      <td>0.929042</td>\n",
       "      <td>0.705605</td>\n",
       "      <td>0.130496</td>\n",
       "      <td>-1.616716</td>\n",
       "      <td>0.004275</td>\n",
       "      <td>-4.496486</td>\n",
       "    </tr>\n",
       "    <tr>\n",
       "      <th>1</th>\n",
       "      <td>0.963710</td>\n",
       "      <td>1.841056</td>\n",
       "      <td>1.251256</td>\n",
       "      <td>-1.603235</td>\n",
       "      <td>0.340050</td>\n",
       "      <td>-0.233890</td>\n",
       "      <td>1.726259</td>\n",
       "      <td>0.485200</td>\n",
       "      <td>-1.555082</td>\n",
       "      <td>0.872393</td>\n",
       "      <td>...</td>\n",
       "      <td>-0.114605</td>\n",
       "      <td>-0.448800</td>\n",
       "      <td>1.338183</td>\n",
       "      <td>2.203141</td>\n",
       "      <td>-0.179866</td>\n",
       "      <td>0.134610</td>\n",
       "      <td>-0.198595</td>\n",
       "      <td>0.499642</td>\n",
       "      <td>-1.133330</td>\n",
       "      <td>-1.630203</td>\n",
       "    </tr>\n",
       "    <tr>\n",
       "      <th>2</th>\n",
       "      <td>0.652553</td>\n",
       "      <td>0.533144</td>\n",
       "      <td>-1.787609</td>\n",
       "      <td>-1.169125</td>\n",
       "      <td>-0.525402</td>\n",
       "      <td>0.257441</td>\n",
       "      <td>-0.629267</td>\n",
       "      <td>0.162554</td>\n",
       "      <td>-0.985946</td>\n",
       "      <td>-1.245303</td>\n",
       "      <td>...</td>\n",
       "      <td>0.427465</td>\n",
       "      <td>0.834908</td>\n",
       "      <td>1.686784</td>\n",
       "      <td>0.051292</td>\n",
       "      <td>-0.870790</td>\n",
       "      <td>0.127209</td>\n",
       "      <td>-0.190596</td>\n",
       "      <td>-1.363593</td>\n",
       "      <td>1.465699</td>\n",
       "      <td>1.339833</td>\n",
       "    </tr>\n",
       "    <tr>\n",
       "      <th>3</th>\n",
       "      <td>-0.410840</td>\n",
       "      <td>-1.257023</td>\n",
       "      <td>-0.017595</td>\n",
       "      <td>1.313880</td>\n",
       "      <td>-0.521560</td>\n",
       "      <td>2.934458</td>\n",
       "      <td>-0.520630</td>\n",
       "      <td>0.063651</td>\n",
       "      <td>-1.141947</td>\n",
       "      <td>-0.251534</td>\n",
       "      <td>...</td>\n",
       "      <td>-0.703005</td>\n",
       "      <td>1.106951</td>\n",
       "      <td>0.580637</td>\n",
       "      <td>-0.057783</td>\n",
       "      <td>-0.766014</td>\n",
       "      <td>1.569594</td>\n",
       "      <td>-0.361484</td>\n",
       "      <td>0.436235</td>\n",
       "      <td>-0.449029</td>\n",
       "      <td>-2.496278</td>\n",
       "    </tr>\n",
       "    <tr>\n",
       "      <th>4</th>\n",
       "      <td>-1.769616</td>\n",
       "      <td>-1.289050</td>\n",
       "      <td>1.572451</td>\n",
       "      <td>-1.764423</td>\n",
       "      <td>0.354585</td>\n",
       "      <td>-0.484731</td>\n",
       "      <td>-0.487435</td>\n",
       "      <td>-0.158962</td>\n",
       "      <td>0.467395</td>\n",
       "      <td>0.952608</td>\n",
       "      <td>...</td>\n",
       "      <td>1.599535</td>\n",
       "      <td>0.874688</td>\n",
       "      <td>0.638029</td>\n",
       "      <td>1.557111</td>\n",
       "      <td>1.344622</td>\n",
       "      <td>0.745231</td>\n",
       "      <td>0.274891</td>\n",
       "      <td>2.472565</td>\n",
       "      <td>1.583625</td>\n",
       "      <td>4.326055</td>\n",
       "    </tr>\n",
       "  </tbody>\n",
       "</table>\n",
       "<p>5 rows × 21 columns</p>\n",
       "</div>"
      ],
      "text/plain": [
       "          A         B         C         D         E         F         G  \\\n",
       "0 -1.290089  0.038961  0.228235  0.101686 -0.067296 -0.637278 -0.295017   \n",
       "1  0.963710  1.841056  1.251256 -1.603235  0.340050 -0.233890  1.726259   \n",
       "2  0.652553  0.533144 -1.787609 -1.169125 -0.525402  0.257441 -0.629267   \n",
       "3 -0.410840 -1.257023 -0.017595  1.313880 -0.521560  2.934458 -0.520630   \n",
       "4 -1.769616 -1.289050  1.572451 -1.764423  0.354585 -0.484731 -0.487435   \n",
       "\n",
       "          H         I         J  ...         L         M         N         O  \\\n",
       "0 -0.450571 -2.405162  2.328489  ... -0.675255  0.288608  0.282775  0.217768   \n",
       "1  0.485200 -1.555082  0.872393  ... -0.114605 -0.448800  1.338183  2.203141   \n",
       "2  0.162554 -0.985946 -1.245303  ...  0.427465  0.834908  1.686784  0.051292   \n",
       "3  0.063651 -1.141947 -0.251534  ... -0.703005  1.106951  0.580637 -0.057783   \n",
       "4 -0.158962  0.467395  0.952608  ...  1.599535  0.874688  0.638029  1.557111   \n",
       "\n",
       "          P         Q         R         S         T         y  \n",
       "0  0.929042  0.705605  0.130496 -1.616716  0.004275 -4.496486  \n",
       "1 -0.179866  0.134610 -0.198595  0.499642 -1.133330 -1.630203  \n",
       "2 -0.870790  0.127209 -0.190596 -1.363593  1.465699  1.339833  \n",
       "3 -0.766014  1.569594 -0.361484  0.436235 -0.449029 -2.496278  \n",
       "4  1.344622  0.745231  0.274891  2.472565  1.583625  4.326055  \n",
       "\n",
       "[5 rows x 21 columns]"
      ]
     },
     "execution_count": 55,
     "metadata": {},
     "output_type": "execute_result"
    }
   ],
   "source": [
    "print(df.shape)\n",
    "df.head()"
   ]
  },
  {
   "cell_type": "code",
   "execution_count": 56,
   "id": "35bf8965",
   "metadata": {},
   "outputs": [],
   "source": [
    "def plot_boxplot(df):\n",
    "    df.boxplot()\n",
    "    plt.grid(False)\n",
    "    plt.show()"
   ]
  },
  {
   "cell_type": "code",
   "execution_count": 57,
   "id": "b02a4418",
   "metadata": {},
   "outputs": [
    {
     "data": {
      "image/png": "[encoded data removed]",
      "text/plain": [
       "<Figure size 432x288 with 1 Axes>"
      ]
     },
     "metadata": {
      "needs_background": "light"
     },
     "output_type": "display_data"
    }
   ],
   "source": [
    "plot_boxplot(df.drop(\"y\", axis=1))"
   ]
  },
  {
   "cell_type": "markdown",
   "id": "72974f13",
   "metadata": {},
   "source": [
    "# Histogram"
   ]
  },
  {
   "cell_type": "code",
   "execution_count": 87,
   "id": "f705567a",
   "metadata": {},
   "outputs": [
    {
     "data": {
      "text/plain": [
       "<AxesSubplot:ylabel='Count'>"
      ]
     },
     "execution_count": 87,
     "metadata": {},
     "output_type": "execute_result"
    },
    {
     "data": {
      "image/png": "[encoded data removed]",
      "text/plain": [
       "<Figure size 432x288 with 1 Axes>"
      ]
     },
     "metadata": {
      "needs_background": "light"
     },
     "output_type": "display_data"
    }
   ],
   "source": [
    "# Did not run... image on cache\n",
    "\n",
    "#sns.histplot(data=df)\n",
    "sns.histplot(data=df.drop(\"y\", axis=1))"
   ]
  }
 ],
 "metadata": {
  "interpreter": {
   "hash": "767d51c1340bd893661ea55ea3124f6de3c7a262a8b4abca0554b478b1e2ff90"
  },
  "kernelspec": {
   "display_name": "Python 3.9.7 64-bit",
   "name": "python3"
  },
  "language_info": {
   "codemirror_mode": {
    "name": "ipython",
    "version": 3
   },
   "file_extension": ".py",
   "mimetype": "text/x-python",
   "name": "python",
   "nbconvert_exporter": "python",
   "pygments_lexer": "ipython3",
   "version": "3.9.7"
  }
 },
 "nbformat": 4,
 "nbformat_minor": 5
}
