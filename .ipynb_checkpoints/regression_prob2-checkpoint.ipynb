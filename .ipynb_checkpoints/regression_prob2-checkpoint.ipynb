{
 "cells": [
  {
   "cell_type": "code",
   "execution_count": 317,
   "id": "4cb2e4e0",
   "metadata": {},
   "outputs": [],
   "source": [
    "import numpy as np\n",
    "import pandas as pd\n",
    "import matplotlib.pyplot as plt\n",
    "from sklearn.metrics import mean_squared_error as MSE\n",
    "from sklearn.linear_model import LinearRegression\n",
    "from sklearn.model_selection import train_test_split\n",
    "from sklearn.ensemble import IsolationForest\n",
    "from sklearn.covariance import EllipticEnvelope\n",
    "from sklearn.neighbors import LocalOutlierFactor"
   ]
  },
  {
   "cell_type": "code",
   "execution_count": 318,
   "id": "1a2e2a6a",
   "metadata": {},
   "outputs": [],
   "source": [
    "# load Training Set\n",
    "x_train = np.load(\"Xtrain_Regression_Part2.npy\")\n",
    "y_train = np.load(\"Ytrain_Regression_Part2.npy\")\n",
    "x_test = np.load(\"Xtest_Regression_Part2.npy\")"
   ]
  },
  {
   "cell_type": "markdown",
   "id": "9af0f864",
   "metadata": {},
   "source": [
    "# DF"
   ]
  },
  {
   "cell_type": "code",
   "execution_count": 321,
   "id": "2a172571",
   "metadata": {},
   "outputs": [
    {
     "name": "stdout",
     "output_type": "stream",
     "text": [
      "(100, 21)\n",
      "          0         1         2         3         4         5         6   \\\n",
      "0  -1.290089  0.038961  0.228235  0.101686 -0.067296 -0.637278 -0.295017   \n",
      "1   0.963710  1.841056  1.251256 -1.603235  0.340050 -0.233890  1.726259   \n",
      "2   0.652553  0.533144 -1.787609 -1.169125 -0.525402  0.257441 -0.629267   \n",
      "3  -0.410840 -1.257023 -0.017595  1.313880 -0.521560  2.934458 -0.520630   \n",
      "4  -1.769616 -1.289050  1.572451 -1.764423  0.354585 -0.484731 -0.487435   \n",
      "..       ...       ...       ...       ...       ...       ...       ...   \n",
      "95 -1.205783 -0.155282 -0.228779  1.572007 -0.887981 -1.402690 -1.267919   \n",
      "96 -1.881348 -0.021126  3.020603 -0.571757  0.113069  0.658896  0.150666   \n",
      "97  0.862011 -0.643251  0.320225  0.805724 -1.966135  0.024374 -0.358005   \n",
      "98 -0.269083 -0.853865  0.592160 -0.445621  1.633166  0.205641  0.387166   \n",
      "99 -0.488359  0.058656  1.032603  0.827944  1.190162  0.451615  0.427934   \n",
      "\n",
      "          7         8         9   ...        11        12        13        14  \\\n",
      "0  -0.450571 -2.405162  2.328489  ... -0.675255  0.288608  0.282775  0.217768   \n",
      "1   0.485200 -1.555082  0.872393  ... -0.114605 -0.448800  1.338183  2.203141   \n",
      "2   0.162554 -0.985946 -1.245303  ...  0.427465  0.834908  1.686784  0.051292   \n",
      "3   0.063651 -1.141947 -0.251534  ... -0.703005  1.106951  0.580637 -0.057783   \n",
      "4  -0.158962  0.467395  0.952608  ...  1.599535  0.874688  0.638029  1.557111   \n",
      "..       ...       ...       ...  ...       ...       ...       ...       ...   \n",
      "95  0.411340 -0.562549 -0.316111  ... -1.411789 -1.109893  1.061676  0.510484   \n",
      "96  0.006186  0.315548 -0.819465  ... -0.084970  0.031633 -0.162685  1.551858   \n",
      "97 -1.105922 -1.640254  0.311906  ... -1.862974  0.389597  1.732334 -0.563326   \n",
      "98  0.748451 -0.761568  0.858674  ...  0.960187  0.653145  0.994257  0.008451   \n",
      "99 -0.667802  0.333101  0.501480  ...  0.914736 -1.588931  0.605500 -0.299241   \n",
      "\n",
      "          15        16        17        18        19        20  \n",
      "0   0.929042  0.705605  0.130496 -1.616716  0.004275 -4.496486  \n",
      "1  -0.179866  0.134610 -0.198595  0.499642 -1.133330 -1.630203  \n",
      "2  -0.870790  0.127209 -0.190596 -1.363593  1.465699  1.339833  \n",
      "3  -0.766014  1.569594 -0.361484  0.436235 -0.449029 -2.496278  \n",
      "4   1.344622  0.745231  0.274891  2.472565  1.583625  4.326055  \n",
      "..       ...       ...       ...       ...       ...       ...  \n",
      "95  1.426179 -1.962259 -0.107357  0.635249 -1.049205 -1.460435  \n",
      "96 -0.236292 -0.194776 -0.463446 -0.098146  0.949286 -3.468273  \n",
      "97 -0.910231  0.730806  1.909748  0.423959  1.236147 -0.023937  \n",
      "98  2.431136  0.625750  0.456609  2.076104 -0.344545  0.690054  \n",
      "99  0.816600 -1.007935  0.301679 -2.560387  0.158163 -3.728130  \n",
      "\n",
      "[100 rows x 21 columns]\n"
     ]
    }
   ],
   "source": [
    "list_x = [e for e in x_train]\n",
    "list_y = [e for e in y_train]\n",
    "\n",
    "df = pd.DataFrame(list_x)\n",
    "\n",
    "df[20] = [e[0] for e in list_y]\n",
    "\n",
    "# summarize the shape of the training dataset\n",
    "print(df.shape)\n",
    "print(df)"
   ]
  },
  {
   "cell_type": "markdown",
   "id": "cfc36eb3",
   "metadata": {},
   "source": [
    "# Interquartile Range Method (IQR)"
   ]
  },
  {
   "cell_type": "code",
   "execution_count": 333,
   "id": "bf4f51d1",
   "metadata": {},
   "outputs": [],
   "source": [
    "# IQR\n",
    "Q1 = df.quantile(0.25)\n",
    "Q3 = df.quantile(0.75)\n",
    "IQR = Q3 - Q1\n",
    "# print(IQR)\n",
    "# print(Q3)\n",
    "# (Q3 + 1.5 * IQR)"
   ]
  },
  {
   "cell_type": "code",
   "execution_count": 334,
   "id": "9fba203f",
   "metadata": {},
   "outputs": [
    {
     "name": "stdout",
     "output_type": "stream",
     "text": [
      "(100, 21)\n"
     ]
    }
   ],
   "source": [
    "# summarize the shape of the training dataset\n",
    "print(df.shape)"
   ]
  },
  {
   "cell_type": "code",
   "execution_count": 335,
   "id": "d55153be",
   "metadata": {},
   "outputs": [],
   "source": [
    "# Finding outliers using IQR\n",
    "outliers = (df < (Q1 - 1.5 * IQR)).astype(bool) | (df > (Q3 + 1.5 * IQR)).astype(bool)\n",
    "# print(-outliers)"
   ]
  },
  {
   "cell_type": "code",
   "execution_count": 345,
   "id": "457af144",
   "metadata": {},
   "outputs": [
    {
     "name": "stdout",
     "output_type": "stream",
     "text": [
      "(90, 20) (90, 1)\n",
      "MSE: 2.1099897788410007\n"
     ]
    }
   ],
   "source": [
    "x = df.copy()\n",
    "x.pop(20)\n",
    "X = x.to_numpy()\n",
    "\n",
    "y = df.copy()\n",
    "for i in range(0,20,1):\n",
    "    y.pop(i)\n",
    "Y = y.to_numpy()\n",
    "\n",
    "mse = 0\n",
    "\n",
    "for i in range(500):\n",
    "    \n",
    "    # split into train and test sets\n",
    "    train_x, test_x, train_y, test_y = train_test_split(X,\n",
    "                                                        Y,\n",
    "                                                        train_size=0.9)\n",
    "\n",
    "    # fit the model\n",
    "    lr = LinearRegression().fit(train_x, train_y)\n",
    "    \n",
    "    # evaluate the model\n",
    "    pred_y = lr.predict(test_x)\n",
    "\n",
    "    # evaluate predictions\n",
    "    mse = mse + MSE(test_y, pred_y)\n",
    "    \n",
    "# summarize the shape of the updated training dataset\n",
    "print(train_x.shape, train_y.shape) \n",
    "print('MSE:', mse/500)"
   ]
  },
  {
   "cell_type": "markdown",
   "id": "ba9e2db6",
   "metadata": {},
   "source": [
    "# Baseline Model Performance"
   ]
  },
  {
   "cell_type": "code",
   "execution_count": 331,
   "id": "e0c9d786",
   "metadata": {},
   "outputs": [
    {
     "name": "stdout",
     "output_type": "stream",
     "text": [
      "(90, 20) (90, 1)\n",
      "MSE: 2.0549355238516043\n"
     ]
    }
   ],
   "source": [
    "list_x = [e for e in x_train]\n",
    "list_y = [e for e in y_train]\n",
    "\n",
    "df = pd.DataFrame(list_x)\n",
    "\n",
    "df[20] = [e[0] for e in list_y]\n",
    "\n",
    "# summarize the shape of the training dataset\n",
    "print(df.shape)\n",
    "# print(df)\n",
    "\n",
    "x = df.copy()\n",
    "x.pop(20)\n",
    "X = x.to_numpy()\n",
    "\n",
    "y = df.copy()\n",
    "for i in range(0,20,1):\n",
    "    y.pop(i)\n",
    "Y = y.to_numpy()\n",
    "\n",
    "mse = 0\n",
    "\n",
    "for i in range(500):\n",
    "    \n",
    "    # split into train and test sets\n",
    "    train_x, test_x, train_y, test_y = train_test_split(X,\n",
    "                                                        Y,\n",
    "                                                        train_size=0.9)\n",
    "\n",
    "    # fit the model\n",
    "    lr = LinearRegression().fit(train_x, train_y)\n",
    "    \n",
    "    # evaluate the model\n",
    "    pred_y = lr.predict(test_x)\n",
    "\n",
    "    # evaluate predictions\n",
    "    mse = mse + MSE(test_y, pred_y)\n",
    "    \n",
    "# summarize the shape of the updated training dataset\n",
    "print(train_x.shape, train_y.shape) \n",
    "print('MSE:', mse/500)"
   ]
  },
  {
   "cell_type": "markdown",
   "id": "aafacee5",
   "metadata": {},
   "source": [
    "# Isolation Forest"
   ]
  },
  {
   "cell_type": "code",
   "execution_count": 329,
   "id": "1f7cb4c3",
   "metadata": {},
   "outputs": [
    {
     "name": "stdout",
     "output_type": "stream",
     "text": [
      "[ True  True  True  True False  True  True  True  True  True  True  True\n",
      "  True  True  True False  True  True  True  True  True  True False  True\n",
      "  True  True  True  True  True  True  True False  True  True  True  True\n",
      "  True  True  True  True  True  True  True  True  True  True  True  True\n",
      "  True False  True  True  True  True  True  True  True  True  True  True\n",
      "  True False  True  True  True  True  True  True  True  True False False\n",
      " False  True  True  True  True  True  True  True  True  True  True  True\n",
      " False  True  True  True  True  True  True  True  True  True  True  True\n",
      "  True  True  True  True]\n",
      "(81, 20) (81, 1)\n",
      "MSE: 2.4768955595469992\n"
     ]
    }
   ],
   "source": [
    "list_x = [e for e in x_train]\n",
    "list_y = [e for e in y_train]\n",
    "\n",
    "df = pd.DataFrame(list_x)\n",
    "\n",
    "df[20] = [e[0] for e in list_y]\n",
    "\n",
    "# summarize the shape of the training dataset\n",
    "print(df.shape)\n",
    "# print(df)\n",
    "\n",
    "# identify outliers in the training dataset\n",
    "iso = IsolationForest(contamination=0.1)\n",
    "pred_y = iso.fit_predict(df)\n",
    "\n",
    "# print(df)\n",
    "\n",
    "# select all rows that are not outliers\n",
    "mask = pred_y != -1\n",
    "print(mask)\n",
    "df = df[mask]\n",
    "\n",
    "# print(df)\n",
    "\n",
    "x = df.copy()\n",
    "x.pop(20)\n",
    "X = x.to_numpy()\n",
    "\n",
    "y = df.copy()\n",
    "for i in range(0,20,1):\n",
    "    y.pop(i)\n",
    "Y = y.to_numpy()\n",
    "\n",
    "mse = 0\n",
    "\n",
    "for i in range(500):\n",
    "    \n",
    "    # split into train and test sets\n",
    "    train_x, test_x, train_y, test_y = train_test_split(X,\n",
    "                                                        Y,\n",
    "                                                        train_size=0.9)\n",
    "\n",
    "    # fit the model\n",
    "    lr = LinearRegression().fit(train_x, train_y)\n",
    "    \n",
    "    # evaluate the model\n",
    "    pred_y = lr.predict(test_x)\n",
    "\n",
    "    # evaluate predictions\n",
    "    mse = mse + MSE(test_y, pred_y)\n",
    "\n",
    "# summarize the shape of the updated training dataset\n",
    "print(train_x.shape, train_y.shape)\n",
    "print('MSE:', mse/500)"
   ]
  },
  {
   "cell_type": "markdown",
   "id": "487518dd",
   "metadata": {},
   "source": [
    "# Minimum Covariance Determinant"
   ]
  },
  {
   "cell_type": "code",
   "execution_count": 327,
   "id": "303e53d4",
   "metadata": {},
   "outputs": [
    {
     "name": "stdout",
     "output_type": "stream",
     "text": [
      "[ True  True  True  True  True  True  True  True  True  True  True  True\n",
      "  True  True  True  True  True  True  True  True  True  True  True  True\n",
      "  True  True  True  True  True  True  True  True  True  True  True  True\n",
      "  True  True  True  True  True  True  True  True  True  True  True  True\n",
      "  True  True  True  True  True  True  True  True  True  True  True  True\n",
      "  True  True  True  True  True  True  True  True  True  True  True  True\n",
      "  True  True  True  True  True  True  True  True  True  True  True  True\n",
      "  True False  True  True  True  True  True  True  True  True  True  True\n",
      "  True  True  True  True]\n",
      "(89, 20) (89, 1)\n",
      "MSE: 0.7492970036924611\n"
     ]
    }
   ],
   "source": [
    "list_x = [e for e in x_train]\n",
    "list_y = [e for e in y_train]\n",
    "\n",
    "df = pd.DataFrame(list_x)\n",
    "\n",
    "df[20] = [e[0] for e in list_y]\n",
    "\n",
    "# summarize the shape of the training dataset\n",
    "print(df.shape)\n",
    "# print(df)\n",
    "\n",
    "# identify outliers in the training dataset\n",
    "ee = EllipticEnvelope(contamination=0.01)\n",
    "pred_y = ee.fit_predict(df)\n",
    "\n",
    "# print(df)\n",
    "\n",
    "# select all rows that are not outliers\n",
    "mask = pred_y != -1\n",
    "print(mask)\n",
    "df = df[mask]\n",
    "\n",
    "# print(df)\n",
    "\n",
    "x = df.copy()\n",
    "x.pop(20)\n",
    "X = x.to_numpy()\n",
    "\n",
    "y = df.copy()\n",
    "for i in range(0,20,1):\n",
    "    y.pop(i)\n",
    "Y = y.to_numpy()\n",
    "\n",
    "mse = 0\n",
    "\n",
    "for i in range(500):\n",
    "    \n",
    "    # split into train and test sets\n",
    "    train_x, test_x, train_y, test_y = train_test_split(X,\n",
    "                                                        Y,\n",
    "                                                        train_size=0.9)\n",
    "\n",
    "    # fit the model\n",
    "    lr = LinearRegression().fit(train_x, train_y)\n",
    "    \n",
    "    # evaluate the model\n",
    "    pred_y = lr.predict(test_x)\n",
    "\n",
    "    # evaluate predictions\n",
    "    mse = mse + MSE(test_y, pred_y)\n",
    "\n",
    "# summarize the shape of the updated training dataset\n",
    "print(train_x.shape, train_y.shape)\n",
    "print('MSE:', mse/500)"
   ]
  },
  {
   "cell_type": "markdown",
   "id": "24ced986",
   "metadata": {},
   "source": [
    "# Local Outlier Factor"
   ]
  },
  {
   "cell_type": "code",
   "execution_count": 323,
   "id": "1a741571",
   "metadata": {},
   "outputs": [
    {
     "name": "stdout",
     "output_type": "stream",
     "text": [
      "(81, 20) (81, 1)\n",
      "MSE: 0.017050376257648048\n"
     ]
    }
   ],
   "source": [
    "list_x = [e for e in x_train]\n",
    "list_y = [e for e in y_train]\n",
    "\n",
    "df = pd.DataFrame(list_x)\n",
    "\n",
    "df[20] = [e[0] for e in list_y]\n",
    "\n",
    "# summarize the shape of the training dataset\n",
    "print(df.shape)\n",
    "# print(df)\n",
    "\n",
    "# identify outliers in the training dataset\n",
    "lof = LocalOutlierFactor(contamination=0.1)\n",
    "pred_y = lof.fit_predict(df)\n",
    "\n",
    "# print(df)\n",
    "\n",
    "# select all rows that are not outliers\n",
    "mask = pred_y != -1\n",
    "# print(mask)\n",
    "df = df[mask]\n",
    "\n",
    "# print(df)\n",
    "\n",
    "x = df.copy()\n",
    "x.pop(20)\n",
    "\n",
    "X = x.to_numpy()\n",
    "\n",
    "\n",
    "y = df.copy()\n",
    "for i in range(0,20,1):\n",
    "    y.pop(i)\n",
    "    \n",
    "Y = y.to_numpy()\n",
    "\n",
    "mse = 0\n",
    "\n",
    "for i in range(500):\n",
    "    \n",
    "    # split into train and test sets\n",
    "    train_x, test_x, train_y, test_y = train_test_split(X,\n",
    "                                                        Y,\n",
    "                                                        train_size=0.9)\n",
    "\n",
    "    # fit the model\n",
    "    lr = LinearRegression().fit(train_x, train_y)\n",
    "    \n",
    "    # evaluate the model\n",
    "    pred_y = lr.predict(test_x)\n",
    "\n",
    "    # evaluate predictions\n",
    "    mse = mse + MSE(test_y, pred_y)\n",
    "    \n",
    "# summarize the shape of the updated training dataset\n",
    "print(train_x.shape, train_y.shape)    \n",
    "print('MSE:', mse/500)"
   ]
  },
  {
   "cell_type": "markdown",
   "id": "e495fc2c",
   "metadata": {},
   "source": [
    "# Boxplot"
   ]
  },
  {
   "cell_type": "code",
   "execution_count": 61,
   "id": "bdddea7d",
   "metadata": {},
   "outputs": [
    {
     "data": {
      "text/plain": [
       "(100, 21)"
      ]
     },
     "execution_count": 61,
     "metadata": {},
     "output_type": "execute_result"
    }
   ],
   "source": [
    "df.shape"
   ]
  },
  {
   "cell_type": "code",
   "execution_count": 62,
   "id": "e95e2370",
   "metadata": {},
   "outputs": [
    {
     "data": {
      "text/html": [
       "<div>\n",
       "<style scoped>\n",
       "    .dataframe tbody tr th:only-of-type {\n",
       "        vertical-align: middle;\n",
       "    }\n",
       "\n",
       "    .dataframe tbody tr th {\n",
       "        vertical-align: top;\n",
       "    }\n",
       "\n",
       "    .dataframe thead th {\n",
       "        text-align: right;\n",
       "    }\n",
       "</style>\n",
       "<table border=\"1\" class=\"dataframe\">\n",
       "  <thead>\n",
       "    <tr style=\"text-align: right;\">\n",
       "      <th></th>\n",
       "      <th>0</th>\n",
       "      <th>1</th>\n",
       "      <th>2</th>\n",
       "      <th>3</th>\n",
       "      <th>4</th>\n",
       "      <th>5</th>\n",
       "      <th>6</th>\n",
       "      <th>7</th>\n",
       "      <th>8</th>\n",
       "      <th>9</th>\n",
       "      <th>...</th>\n",
       "      <th>11</th>\n",
       "      <th>12</th>\n",
       "      <th>13</th>\n",
       "      <th>14</th>\n",
       "      <th>15</th>\n",
       "      <th>16</th>\n",
       "      <th>17</th>\n",
       "      <th>18</th>\n",
       "      <th>19</th>\n",
       "      <th>20</th>\n",
       "    </tr>\n",
       "  </thead>\n",
       "  <tbody>\n",
       "    <tr>\n",
       "      <th>0</th>\n",
       "      <td>-1.290089</td>\n",
       "      <td>0.038961</td>\n",
       "      <td>0.228235</td>\n",
       "      <td>0.101686</td>\n",
       "      <td>-0.067296</td>\n",
       "      <td>-0.637278</td>\n",
       "      <td>-0.295017</td>\n",
       "      <td>-0.450571</td>\n",
       "      <td>-2.405162</td>\n",
       "      <td>2.328489</td>\n",
       "      <td>...</td>\n",
       "      <td>-0.675255</td>\n",
       "      <td>0.288608</td>\n",
       "      <td>0.282775</td>\n",
       "      <td>0.217768</td>\n",
       "      <td>0.929042</td>\n",
       "      <td>0.705605</td>\n",
       "      <td>0.130496</td>\n",
       "      <td>-1.616716</td>\n",
       "      <td>0.004275</td>\n",
       "      <td>-4.496486</td>\n",
       "    </tr>\n",
       "    <tr>\n",
       "      <th>1</th>\n",
       "      <td>0.963710</td>\n",
       "      <td>1.841056</td>\n",
       "      <td>1.251256</td>\n",
       "      <td>-1.603235</td>\n",
       "      <td>0.340050</td>\n",
       "      <td>-0.233890</td>\n",
       "      <td>1.726259</td>\n",
       "      <td>0.485200</td>\n",
       "      <td>-1.555082</td>\n",
       "      <td>0.872393</td>\n",
       "      <td>...</td>\n",
       "      <td>-0.114605</td>\n",
       "      <td>-0.448800</td>\n",
       "      <td>1.338183</td>\n",
       "      <td>2.203141</td>\n",
       "      <td>-0.179866</td>\n",
       "      <td>0.134610</td>\n",
       "      <td>-0.198595</td>\n",
       "      <td>0.499642</td>\n",
       "      <td>-1.133330</td>\n",
       "      <td>-1.630203</td>\n",
       "    </tr>\n",
       "    <tr>\n",
       "      <th>2</th>\n",
       "      <td>0.652553</td>\n",
       "      <td>0.533144</td>\n",
       "      <td>-1.787609</td>\n",
       "      <td>-1.169125</td>\n",
       "      <td>-0.525402</td>\n",
       "      <td>0.257441</td>\n",
       "      <td>-0.629267</td>\n",
       "      <td>0.162554</td>\n",
       "      <td>-0.985946</td>\n",
       "      <td>-1.245303</td>\n",
       "      <td>...</td>\n",
       "      <td>0.427465</td>\n",
       "      <td>0.834908</td>\n",
       "      <td>1.686784</td>\n",
       "      <td>0.051292</td>\n",
       "      <td>-0.870790</td>\n",
       "      <td>0.127209</td>\n",
       "      <td>-0.190596</td>\n",
       "      <td>-1.363593</td>\n",
       "      <td>1.465699</td>\n",
       "      <td>1.339833</td>\n",
       "    </tr>\n",
       "    <tr>\n",
       "      <th>3</th>\n",
       "      <td>-0.410840</td>\n",
       "      <td>-1.257023</td>\n",
       "      <td>-0.017595</td>\n",
       "      <td>1.313880</td>\n",
       "      <td>-0.521560</td>\n",
       "      <td>2.934458</td>\n",
       "      <td>-0.520630</td>\n",
       "      <td>0.063651</td>\n",
       "      <td>-1.141947</td>\n",
       "      <td>-0.251534</td>\n",
       "      <td>...</td>\n",
       "      <td>-0.703005</td>\n",
       "      <td>1.106951</td>\n",
       "      <td>0.580637</td>\n",
       "      <td>-0.057783</td>\n",
       "      <td>-0.766014</td>\n",
       "      <td>1.569594</td>\n",
       "      <td>-0.361484</td>\n",
       "      <td>0.436235</td>\n",
       "      <td>-0.449029</td>\n",
       "      <td>-2.496278</td>\n",
       "    </tr>\n",
       "    <tr>\n",
       "      <th>4</th>\n",
       "      <td>-1.769616</td>\n",
       "      <td>-1.289050</td>\n",
       "      <td>1.572451</td>\n",
       "      <td>-1.764423</td>\n",
       "      <td>0.354585</td>\n",
       "      <td>-0.484731</td>\n",
       "      <td>-0.487435</td>\n",
       "      <td>-0.158962</td>\n",
       "      <td>0.467395</td>\n",
       "      <td>0.952608</td>\n",
       "      <td>...</td>\n",
       "      <td>1.599535</td>\n",
       "      <td>0.874688</td>\n",
       "      <td>0.638029</td>\n",
       "      <td>1.557111</td>\n",
       "      <td>1.344622</td>\n",
       "      <td>0.745231</td>\n",
       "      <td>0.274891</td>\n",
       "      <td>2.472565</td>\n",
       "      <td>1.583625</td>\n",
       "      <td>4.326055</td>\n",
       "    </tr>\n",
       "  </tbody>\n",
       "</table>\n",
       "<p>5 rows × 21 columns</p>\n",
       "</div>"
      ],
      "text/plain": [
       "         0         1         2         3         4         5         6   \\\n",
       "0 -1.290089  0.038961  0.228235  0.101686 -0.067296 -0.637278 -0.295017   \n",
       "1  0.963710  1.841056  1.251256 -1.603235  0.340050 -0.233890  1.726259   \n",
       "2  0.652553  0.533144 -1.787609 -1.169125 -0.525402  0.257441 -0.629267   \n",
       "3 -0.410840 -1.257023 -0.017595  1.313880 -0.521560  2.934458 -0.520630   \n",
       "4 -1.769616 -1.289050  1.572451 -1.764423  0.354585 -0.484731 -0.487435   \n",
       "\n",
       "         7         8         9   ...        11        12        13        14  \\\n",
       "0 -0.450571 -2.405162  2.328489  ... -0.675255  0.288608  0.282775  0.217768   \n",
       "1  0.485200 -1.555082  0.872393  ... -0.114605 -0.448800  1.338183  2.203141   \n",
       "2  0.162554 -0.985946 -1.245303  ...  0.427465  0.834908  1.686784  0.051292   \n",
       "3  0.063651 -1.141947 -0.251534  ... -0.703005  1.106951  0.580637 -0.057783   \n",
       "4 -0.158962  0.467395  0.952608  ...  1.599535  0.874688  0.638029  1.557111   \n",
       "\n",
       "         15        16        17        18        19        20  \n",
       "0  0.929042  0.705605  0.130496 -1.616716  0.004275 -4.496486  \n",
       "1 -0.179866  0.134610 -0.198595  0.499642 -1.133330 -1.630203  \n",
       "2 -0.870790  0.127209 -0.190596 -1.363593  1.465699  1.339833  \n",
       "3 -0.766014  1.569594 -0.361484  0.436235 -0.449029 -2.496278  \n",
       "4  1.344622  0.745231  0.274891  2.472565  1.583625  4.326055  \n",
       "\n",
       "[5 rows x 21 columns]"
      ]
     },
     "execution_count": 62,
     "metadata": {},
     "output_type": "execute_result"
    }
   ],
   "source": [
    "df.head()"
   ]
  },
  {
   "cell_type": "code",
   "execution_count": 79,
   "id": "35bf8965",
   "metadata": {},
   "outputs": [],
   "source": [
    "def plot_boxplot(df):\n",
    "    df.boxplot()\n",
    "    plt.grid(False)\n",
    "    plt.show()"
   ]
  },
  {
   "cell_type": "code",
   "execution_count": 80,
   "id": "b02a4418",
   "metadata": {},
   "outputs": [
    {
     "data": {
      "image/png": "[encoded data removed]",
      "text/plain": [
       "<Figure size 432x288 with 1 Axes>"
      ]
     },
     "metadata": {
      "needs_background": "light"
     },
     "output_type": "display_data"
    }
   ],
   "source": [
    "plot_boxplot(df)"
   ]
  },
  {
   "cell_type": "markdown",
   "id": "72974f13",
   "metadata": {},
   "source": [
    "# Histogram"
   ]
  },
  {
   "cell_type": "code",
   "execution_count": 87,
   "id": "f705567a",
   "metadata": {},
   "outputs": [
    {
     "data": {
      "text/plain": [
       "<AxesSubplot:ylabel='Count'>"
      ]
     },
     "execution_count": 87,
     "metadata": {},
     "output_type": "execute_result"
    },
    {
     "data": {
      "image/png": "[encoded data removed]",
      "text/plain": [
       "<Figure size 432x288 with 1 Axes>"
      ]
     },
     "metadata": {
      "needs_background": "light"
     },
     "output_type": "display_data"
    }
   ],
   "source": [
    "sns.histplot(data=df)"
   ]
  }
 ],
 "metadata": {
  "kernelspec": {
   "display_name": "Python 3",
   "language": "python",
   "name": "python3"
  },
  "language_info": {
   "codemirror_mode": {
    "name": "ipython",
    "version": 3
   },
   "file_extension": ".py",
   "mimetype": "text/x-python",
   "name": "python",
   "nbconvert_exporter": "python",
   "pygments_lexer": "ipython3",
   "version": "3.8.8"
  }
 },
 "nbformat": 4,
 "nbformat_minor": 5
}
