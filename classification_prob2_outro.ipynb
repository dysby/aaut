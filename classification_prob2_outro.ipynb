{
 "cells": [
  {
   "cell_type": "code",
   "execution_count": 2,
   "metadata": {},
   "outputs": [
    {
     "name": "stderr",
     "output_type": "stream",
     "text": [
      "2021-11-13 10:59:01.197892: W tensorflow/stream_executor/platform/default/dso_loader.cc:64] Could not load dynamic library 'libcudart.so.11.0'; dlerror: libcudart.so.11.0: cannot open shared object file: No such file or directory\n",
      "2021-11-13 10:59:01.197918: I tensorflow/stream_executor/cuda/cudart_stub.cc:29] Ignore above cudart dlerror if you do not have a GPU set up on your machine.\n"
     ]
    }
   ],
   "source": [
    "import pandas as pd\n",
    "import numpy as np\n",
    "import matplotlib.pyplot as plt\n",
    "from sklearn.linear_model import Perceptron\n",
    "from sklearn.neural_network import MLPClassifier\n",
    "from sklearn.preprocessing import MinMaxScaler\n",
    "from sklearn.pipeline import Pipeline\n",
    "from sklearn.model_selection import train_test_split\n",
    "from sklearn.metrics import (\n",
    "    confusion_matrix,\n",
    "    balanced_accuracy_score,\n",
    "    ConfusionMatrixDisplay,\n",
    ")\n",
    "\n",
    "import tensorflow as tf\n",
    "from tensorflow.keras import layers, models, Input"
   ]
  },
  {
   "cell_type": "markdown",
   "metadata": {},
   "source": [
    "# Load Data"
   ]
  },
  {
   "cell_type": "code",
   "execution_count": 3,
   "metadata": {},
   "outputs": [],
   "source": [
    "x_train = np.load(\"./data/Xtrain_Classification_Part2.npy\")\n",
    "y_train = np.load(\"./data/Ytrain_Classification_Part2.npy\")\n",
    "# removed x_test,  loaded only on the final Testing steps"
   ]
  },
  {
   "cell_type": "markdown",
   "metadata": {},
   "source": [
    "# Multi Layer Perpectron"
   ]
  },
  {
   "cell_type": "code",
   "execution_count": 7,
   "metadata": {},
   "outputs": [
    {
     "name": "stdout",
     "output_type": "stream",
     "text": [
      "Model: \"sequential_4\"\n",
      "_________________________________________________________________\n",
      "Layer (type)                 Output Shape              Param #   \n",
      "=================================================================\n",
      "rescaling_4 (Rescaling)      (None, 2500)              0         \n",
      "_________________________________________________________________\n",
      "dense_12 (Dense)             (None, 1000)              2501000   \n",
      "_________________________________________________________________\n",
      "dense_13 (Dense)             (None, 1000)              1001000   \n",
      "_________________________________________________________________\n",
      "dense_14 (Dense)             (None, 4)                 4004      \n",
      "=================================================================\n",
      "Total params: 3,506,004\n",
      "Trainable params: 3,506,004\n",
      "Non-trainable params: 0\n",
      "_________________________________________________________________\n",
      "Epoch 1/20\n",
      "295/295 [==============================] - 5s 15ms/step - loss: 1.0423 - accuracy: 0.6086 - val_loss: 0.8721 - val_accuracy: 0.6682\n",
      "Epoch 2/20\n",
      "295/295 [==============================] - 5s 15ms/step - loss: 0.8068 - accuracy: 0.6967 - val_loss: 0.7535 - val_accuracy: 0.7191\n",
      "Epoch 3/20\n",
      "295/295 [==============================] - 5s 16ms/step - loss: 0.7709 - accuracy: 0.7008 - val_loss: 0.7027 - val_accuracy: 0.7476\n",
      "Epoch 4/20\n",
      "295/295 [==============================] - 4s 15ms/step - loss: 0.6985 - accuracy: 0.7340 - val_loss: 0.6554 - val_accuracy: 0.7564\n",
      "Epoch 5/20\n",
      "295/295 [==============================] - 4s 15ms/step - loss: 0.6680 - accuracy: 0.7442 - val_loss: 0.6227 - val_accuracy: 0.7693\n",
      "Epoch 6/20\n",
      "295/295 [==============================] - 4s 15ms/step - loss: 0.6598 - accuracy: 0.7507 - val_loss: 0.6084 - val_accuracy: 0.7802\n",
      "Epoch 7/20\n",
      "295/295 [==============================] - 4s 15ms/step - loss: 0.6184 - accuracy: 0.7704 - val_loss: 0.6086 - val_accuracy: 0.7761\n",
      "Epoch 8/20\n",
      "295/295 [==============================] - 4s 15ms/step - loss: 0.5907 - accuracy: 0.7836 - val_loss: 0.6821 - val_accuracy: 0.7408\n",
      "Epoch 9/20\n",
      "295/295 [==============================] - 4s 15ms/step - loss: 0.5926 - accuracy: 0.7792 - val_loss: 0.6188 - val_accuracy: 0.7700\n",
      "Epoch 10/20\n",
      "295/295 [==============================] - 4s 15ms/step - loss: 0.5731 - accuracy: 0.7863 - val_loss: 0.5991 - val_accuracy: 0.7917\n",
      "Epoch 11/20\n",
      "295/295 [==============================] - 5s 16ms/step - loss: 0.5690 - accuracy: 0.7923 - val_loss: 0.5582 - val_accuracy: 0.8094\n",
      "Epoch 12/20\n",
      "295/295 [==============================] - 4s 14ms/step - loss: 0.5578 - accuracy: 0.7946 - val_loss: 0.6430 - val_accuracy: 0.7720\n",
      "Epoch 13/20\n",
      "295/295 [==============================] - 4s 15ms/step - loss: 0.5435 - accuracy: 0.7979 - val_loss: 0.5680 - val_accuracy: 0.7951\n",
      "Epoch 14/20\n",
      "295/295 [==============================] - 4s 14ms/step - loss: 0.5429 - accuracy: 0.7953 - val_loss: 0.5452 - val_accuracy: 0.8033\n",
      "Epoch 15/20\n",
      "295/295 [==============================] - 4s 15ms/step - loss: 0.5320 - accuracy: 0.8069 - val_loss: 0.5914 - val_accuracy: 0.7897\n",
      "Epoch 16/20\n",
      "295/295 [==============================] - 5s 16ms/step - loss: 0.5220 - accuracy: 0.8065 - val_loss: 0.5365 - val_accuracy: 0.8073\n",
      "Epoch 17/20\n",
      "295/295 [==============================] - 4s 14ms/step - loss: 0.5365 - accuracy: 0.8023 - val_loss: 0.7230 - val_accuracy: 0.7374\n",
      "Epoch 18/20\n",
      "295/295 [==============================] - 4s 14ms/step - loss: 0.5223 - accuracy: 0.8053 - val_loss: 0.5350 - val_accuracy: 0.8094\n",
      "Epoch 19/20\n",
      "295/295 [==============================] - 5s 16ms/step - loss: 0.5084 - accuracy: 0.8121 - val_loss: 0.5695 - val_accuracy: 0.8066\n",
      "Epoch 20/20\n",
      "295/295 [==============================] - 5s 18ms/step - loss: 0.5172 - accuracy: 0.8145 - val_loss: 0.5725 - val_accuracy: 0.7890\n",
      "BACC(MLP): 0.6815777629857059\n",
      "Y_hat shape: (1474,)\n"
     ]
    },
    {
     "data": {
      "image/png": "[encoded data removed]",
      "text/plain": [
       "<Figure size 432x288 with 2 Axes>"
      ]
     },
     "metadata": {
      "needs_background": "light"
     },
     "output_type": "display_data"
    }
   ],
   "source": [
    "train_x, test_x, train_y, test_y = train_test_split(x_train, y_train, test_size=0.2)\n",
    "\n",
    "train_y_cat = tf.keras.utils.to_categorical(train_y, 4)\n",
    "test_y_cat = tf.keras.utils.to_categorical(test_y, 4)\n",
    "\n",
    "# trainar o modelo:\n",
    "# Input scaled from (0, 255) to a range of (0, +1.)\n",
    "mlp = models.Sequential()\n",
    "mlp.add(Input(shape=(2500,)))\n",
    "mlp.add(layers.Rescaling(scale=1 / 255))  # scale 0-255 to 0-1\n",
    "mlp.add(layers.Dense(1000, activation=\"relu\"))\n",
    "mlp.add(layers.Dense(1000, activation=\"relu\"))\n",
    "# if softmax is chosen, the model will have more parameters that need to learn\n",
    "mlp.add(layers.Dense(4, activation=\"softmax\"))  # output layer\n",
    "mlp.summary()\n",
    "mlp.compile(loss=\"categorical_crossentropy\", optimizer=\"adam\", metrics=[\"accuracy\"])\n",
    "history = mlp.fit(\n",
    "    train_x, train_y_cat, epochs=20, batch_size=20, validation_data=(test_x, test_y_cat)\n",
    ")\n",
    "\n",
    "# plt.plot(history.history['accuracy'], label='accuracy')\n",
    "# plt.plot(history.history['val_accuracy'], label = 'val_accuracy')\n",
    "# plt.xlabel('Epoch')\n",
    "# plt.ylabel('Accuracy')\n",
    "# plt.ylim([0.5, 1])\n",
    "# plt.legend(loc='lower right')\n",
    "\n",
    "y_hat_test_cat = mlp.predict(test_x)\n",
    "y_hat_test = np.argmax(y_hat_test_cat, axis=-1)\n",
    "# test_loss, test_acc = mlp.evaluate(test_x,  test_y, verbose=2)\n",
    "\n",
    "ConfusionMatrixDisplay.from_predictions(\n",
    "    test_y, y_hat_test, display_labels=[\"Caucasian\", \"African\", \"Asian\", \"Indian\"]\n",
    ")\n",
    "\n",
    "bacc = balanced_accuracy_score(test_y, y_hat_test)\n",
    "\n",
    "print(\"BACC(MLP):\", bacc)\n",
    "print(\"Y_hat shape:\", y_hat_test.shape)"
   ]
  },
  {
   "cell_type": "code",
   "execution_count": 8,
   "metadata": {},
   "outputs": [
    {
     "name": "stdout",
     "output_type": "stream",
     "text": [
      "BACC = 0.809608093469514\n"
     ]
    },
    {
     "data": {
      "image/png": "[encoded data removed]",
      "text/plain": [
       "<Figure size 432x288 with 2 Axes>"
      ]
     },
     "metadata": {
      "needs_background": "light"
     },
     "output_type": "display_data"
    }
   ],
   "source": [
    "y_hat = (mlp.predict(test_x) > 0.5).astype(\"int32\")\n",
    "bacc = balanced_accuracy_score(test_y, y_hat)\n",
    "ConfusionMatrixDisplay.from_predictions(\n",
    "    test_y, y_hat, display_labels=[\"Male\", \"Female\"]\n",
    ")\n",
    "print(f\"BACC = {bacc}\")"
   ]
  },
  {
   "cell_type": "markdown",
   "metadata": {},
   "source": [
    "# Deep Neural Network"
   ]
  },
  {
   "cell_type": "code",
   "execution_count": 168,
   "metadata": {},
   "outputs": [
    {
     "name": "stdout",
     "output_type": "stream",
     "text": [
      "Model: \"sequential_77\"\n",
      "_________________________________________________________________\n",
      "Layer (type)                 Output Shape              Param #   \n",
      "=================================================================\n",
      "rescaling_66 (Rescaling)     (None, 50, 50, 1)         0         \n",
      "_________________________________________________________________\n",
      "conv2d_132 (Conv2D)          (None, 46, 46, 12)        312       \n",
      "_________________________________________________________________\n",
      "max_pooling2d_132 (MaxPoolin (None, 23, 23, 12)        0         \n",
      "_________________________________________________________________\n",
      "conv2d_133 (Conv2D)          (None, 19, 19, 64)        19264     \n",
      "_________________________________________________________________\n",
      "max_pooling2d_133 (MaxPoolin (None, 9, 9, 64)          0         \n",
      "_________________________________________________________________\n",
      "dropout_53 (Dropout)         (None, 9, 9, 64)          0         \n",
      "_________________________________________________________________\n",
      "flatten_66 (Flatten)         (None, 5184)              0         \n",
      "_________________________________________________________________\n",
      "dense_132 (Dense)            (None, 64)                331840    \n",
      "_________________________________________________________________\n",
      "dense_133 (Dense)            (None, 4)                 260       \n",
      "=================================================================\n",
      "Total params: 351,676\n",
      "Trainable params: 351,676\n",
      "Non-trainable params: 0\n",
      "_________________________________________________________________\n"
     ]
    }
   ],
   "source": [
    "def make_model():\n",
    "    model = models.Sequential()\n",
    "    model.add(Input(shape=(50, 50, 1)))\n",
    "    model.add(layers.Rescaling(scale=1 / 255))  # scale 0-255 to 0-1\n",
    "    model.add(layers.Conv2D(12, (5, 5), activation=\"relu\"))\n",
    "    model.add(layers.MaxPooling2D((2, 2)))\n",
    "    model.add(layers.Conv2D(64, (5, 5), activation=\"relu\"))\n",
    "    model.add(layers.MaxPooling2D((2, 2)))\n",
    "    model.add(layers.Dropout(0.4))\n",
    "    # Flatten\n",
    "    model.add(layers.Flatten())\n",
    "    model.add(layers.Dense(64, activation=\"relu\"))\n",
    "    # model.add(layers.Dropout(0.3))\n",
    "    model.add(layers.Dense(4, activation=\"softmax\"))\n",
    "    return model\n",
    "\n",
    "t = make_model()\n",
    "t.summary()"
   ]
  },
  {
   "cell_type": "code",
   "execution_count": 150,
   "metadata": {},
   "outputs": [],
   "source": [
    "# Callbacks, \n",
    "#   Earlystoping and\n",
    "#   Learning Rate Scheduler\n",
    "\n",
    "# learning step\n",
    "def ln_scheduler(epoch, lr):\n",
    "    if epoch < 10:\n",
    "        return lr\n",
    "    else:\n",
    "        return lr * tf.math.exp(-0.1)\n",
    "\n",
    "ln_callback = tf.keras.callbacks.LearningRateScheduler(ln_scheduler)\n",
    "# testar com outro monitor = \"bacc\"\n",
    "earlystop = tf.keras.callbacks.EarlyStopping(\n",
    "    monitor=\"val_loss\", patience=5, restore_best_weights=True\n",
    ")  # restore_best_weights = False"
   ]
  },
  {
   "cell_type": "markdown",
   "metadata": {},
   "source": [
    "### Train Test Split"
   ]
  },
  {
   "cell_type": "code",
   "execution_count": 161,
   "metadata": {},
   "outputs": [],
   "source": [
    "train_x, test_x, train_y, test_y = train_test_split(x_train, y_train, test_size=0.2)\n",
    "\n",
    "train_x = np.reshape(train_x, (len(train_x), 50, 50, 1))\n",
    "test_x = np.reshape(test_x, (len(test_x), 50, 50, 1))\n",
    "\n",
    "train_y_cat = tf.keras.utils.to_categorical(train_y, 4)\n",
    "test_y_cat = tf.keras.utils.to_categorical(test_y, 4)"
   ]
  },
  {
   "cell_type": "markdown",
   "metadata": {},
   "source": [
    "### Class weights and Data Augmentation"
   ]
  },
  {
   "cell_type": "code",
   "execution_count": 107,
   "metadata": {},
   "outputs": [
    {
     "name": "stdout",
     "output_type": "stream",
     "text": [
      "{0: 0.4112326931665922, 1: 5.400293255131965, 2: 1.3763079222720478, 3: 1.5231596360628619}\n"
     ]
    }
   ],
   "source": [
    "# imbalanced data class weights\n",
    "from sklearn.utils.class_weight import compute_class_weight\n",
    "\n",
    "class_weight = compute_class_weight(\n",
    "    class_weight=\"balanced\", classes=[0, 1, 2, 3], y=y_train\n",
    ")\n",
    "class_weights = { c: w for c, w in enumerate(class_weight)}\n",
    "print(class_weights)\n"
   ]
  },
  {
   "cell_type": "code",
   "execution_count": 126,
   "metadata": {},
   "outputs": [],
   "source": [
    "# Create a data augmentation stage with horizontal flipping, rotations, zooms\n",
    "data_augmentation = models.Sequential(\n",
    "    [\n",
    "        layers.RandomFlip(\"horizontal\", input_shape=(50, 50, 1)),\n",
    "        layers.RandomRotation(0.1),\n",
    "        layers.RandomZoom(0.1),\n",
    "    ]\n",
    ")\n",
    "\n",
    "# Load some data\n",
    "classes = 4\n",
    "\n",
    "# Create a tf.data pipeline of augmented images (and their labels)\n",
    "# train_dataset = tf.data.Dataset.from_tensor_slices((train_x, train_y_cat))\n",
    "# train_dataset = train_dataset.batch(16).map(lambda x, y: (data_augmentation(x), y))"
   ]
  },
  {
   "cell_type": "code",
   "execution_count": 162,
   "metadata": {},
   "outputs": [
    {
     "name": "stdout",
     "output_type": "stream",
     "text": [
      "(5892, 50, 50, 1)\n",
      "(6155, 50, 50, 1)\n"
     ]
    }
   ],
   "source": [
    "# Duplicate African Class Images with augmentation\n",
    "africans = train_x[train_y==1]\n",
    "africans_augmented = data_augmentation(africans)\n",
    "# plt.imshow(africans_augmented[0])\n",
    "\n",
    "train_x_plus_africans_augmented = np.append(train_x, africans_augmented, axis=0)\n",
    "print(train_x.shape)\n",
    "print(train_x_plus_africans_augmented.shape)\n",
    "\n",
    "train_y_plus_africans_augmented = np.append(train_y, np.ones(len(africans_augmented)))\n",
    "train_y_cat_plus_africans = tf.keras.utils.to_categorical(train_y_plus_africans_augmented, 4)\n",
    "\n",
    "#class_weights_augmented = compute_class_weight(\n",
    "#    class_weight=\"balanced\", classes=[0, 1, 2, 3], y=y_train\n",
    "#)\n"
   ]
  },
  {
   "cell_type": "code",
   "execution_count": 163,
   "metadata": {},
   "outputs": [
    {
     "name": "stdout",
     "output_type": "stream",
     "text": [
      "263\n",
      "526\n",
      "78\n"
     ]
    }
   ],
   "source": [
    "print(sum(train_y == 1))\n",
    "print(sum(train_y_plus_africans_augmented == 1))\n",
    "print(sum(test_y == 1))\n"
   ]
  },
  {
   "cell_type": "markdown",
   "metadata": {},
   "source": [
    "## Train and Evaluate"
   ]
  },
  {
   "cell_type": "code",
   "execution_count": 164,
   "metadata": {},
   "outputs": [
    {
     "name": "stdout",
     "output_type": "stream",
     "text": [
      "Epoch 1/40\n",
      "97/97 [==============================] - 7s 70ms/step - loss: 1.4174 - categorical_accuracy: 0.2478 - val_loss: 1.1658 - val_categorical_accuracy: 0.5075\n",
      "Epoch 2/40\n",
      "97/97 [==============================] - 7s 76ms/step - loss: 0.9263 - categorical_accuracy: 0.5971 - val_loss: 0.7455 - val_categorical_accuracy: 0.7429\n",
      "Epoch 3/40\n",
      "97/97 [==============================] - 7s 72ms/step - loss: 0.8047 - categorical_accuracy: 0.6725 - val_loss: 0.7884 - val_categorical_accuracy: 0.7198\n",
      "Epoch 4/40\n",
      "97/97 [==============================] - 8s 80ms/step - loss: 0.7549 - categorical_accuracy: 0.6923 - val_loss: 0.7619 - val_categorical_accuracy: 0.7049\n",
      "Epoch 5/40\n",
      "97/97 [==============================] - 8s 83ms/step - loss: 0.6608 - categorical_accuracy: 0.7241 - val_loss: 0.6373 - val_categorical_accuracy: 0.7680\n",
      "Epoch 6/40\n",
      "97/97 [==============================] - 8s 82ms/step - loss: 0.6093 - categorical_accuracy: 0.7423 - val_loss: 0.7031 - val_categorical_accuracy: 0.7320\n",
      "Epoch 7/40\n",
      "97/97 [==============================] - 8s 84ms/step - loss: 0.5817 - categorical_accuracy: 0.7582 - val_loss: 0.6342 - val_categorical_accuracy: 0.7687\n",
      "Epoch 8/40\n",
      "97/97 [==============================] - 8s 83ms/step - loss: 0.5358 - categorical_accuracy: 0.7729 - val_loss: 0.5885 - val_categorical_accuracy: 0.7856\n",
      "Epoch 9/40\n",
      "97/97 [==============================] - 8s 84ms/step - loss: 0.5053 - categorical_accuracy: 0.7894 - val_loss: 0.5282 - val_categorical_accuracy: 0.8114\n",
      "Epoch 10/40\n",
      "97/97 [==============================] - 8s 86ms/step - loss: 0.4739 - categorical_accuracy: 0.7989 - val_loss: 0.6193 - val_categorical_accuracy: 0.7626\n",
      "Epoch 11/40\n",
      "97/97 [==============================] - 8s 85ms/step - loss: 0.4416 - categorical_accuracy: 0.8132 - val_loss: 0.5615 - val_categorical_accuracy: 0.7897\n",
      "Epoch 12/40\n",
      "97/97 [==============================] - 8s 85ms/step - loss: 0.4366 - categorical_accuracy: 0.8107 - val_loss: 0.5593 - val_categorical_accuracy: 0.7985\n",
      "Epoch 13/40\n",
      "97/97 [==============================] - 8s 87ms/step - loss: 0.3962 - categorical_accuracy: 0.8307 - val_loss: 0.5281 - val_categorical_accuracy: 0.8060\n",
      "Epoch 14/40\n",
      "97/97 [==============================] - 8s 87ms/step - loss: 0.3746 - categorical_accuracy: 0.8338 - val_loss: 0.4992 - val_categorical_accuracy: 0.8175\n",
      "Epoch 15/40\n",
      "97/97 [==============================] - 8s 86ms/step - loss: 0.3521 - categorical_accuracy: 0.8426 - val_loss: 0.4340 - val_categorical_accuracy: 0.8399\n",
      "Epoch 16/40\n",
      "97/97 [==============================] - 8s 86ms/step - loss: 0.3476 - categorical_accuracy: 0.8435 - val_loss: 0.4660 - val_categorical_accuracy: 0.8372\n",
      "Epoch 17/40\n",
      "97/97 [==============================] - 9s 88ms/step - loss: 0.3297 - categorical_accuracy: 0.8525 - val_loss: 0.4595 - val_categorical_accuracy: 0.8318\n",
      "Epoch 18/40\n",
      "97/97 [==============================] - 9s 88ms/step - loss: 0.2975 - categorical_accuracy: 0.8640 - val_loss: 0.5080 - val_categorical_accuracy: 0.8195\n",
      "Epoch 19/40\n",
      "97/97 [==============================] - 9s 88ms/step - loss: 0.2943 - categorical_accuracy: 0.8642 - val_loss: 0.4282 - val_categorical_accuracy: 0.8494\n",
      "Epoch 20/40\n",
      "97/97 [==============================] - 9s 88ms/step - loss: 0.2812 - categorical_accuracy: 0.8731 - val_loss: 0.4777 - val_categorical_accuracy: 0.8236\n",
      "Epoch 21/40\n",
      "97/97 [==============================] - 8s 88ms/step - loss: 0.2760 - categorical_accuracy: 0.8746 - val_loss: 0.5180 - val_categorical_accuracy: 0.8182\n",
      "Epoch 22/40\n",
      "97/97 [==============================] - 9s 89ms/step - loss: 0.2666 - categorical_accuracy: 0.8728 - val_loss: 0.4792 - val_categorical_accuracy: 0.8338\n",
      "Epoch 23/40\n",
      "97/97 [==============================] - 8s 87ms/step - loss: 0.2665 - categorical_accuracy: 0.8780 - val_loss: 0.4653 - val_categorical_accuracy: 0.8372\n",
      "Epoch 24/40\n",
      "97/97 [==============================] - 9s 88ms/step - loss: 0.2466 - categorical_accuracy: 0.8840 - val_loss: 0.4933 - val_categorical_accuracy: 0.8290\n",
      "BACC = 0.803\n",
      "Y_hat shape: (1474,)\n"
     ]
    },
    {
     "data": {
      "image/png": "[encoded data removed]",
      "text/plain": [
       "<Figure size 432x288 with 2 Axes>"
      ]
     },
     "metadata": {
      "needs_background": "light"
     },
     "output_type": "display_data"
    },
    {
     "data": {
      "image/png": "[encoded data removed]",
      "text/plain": [
       "<Figure size 432x288 with 2 Axes>"
      ]
     },
     "metadata": {
      "needs_background": "light"
     },
     "output_type": "display_data"
    }
   ],
   "source": [
    "# Generate the model:\n",
    "model = make_model()\n",
    "model.compile(\n",
    "   optimizer=\"adam\",\n",
    "   loss=tf.keras.losses.CategoricalCrossentropy(),\n",
    "   metrics=[tf.keras.metrics.CategoricalAccuracy()],\n",
    ")\n",
    "\n",
    "## baseline\n",
    "# history = model.fit(\n",
    "#     train_x,\n",
    "#     train_y_cat,\n",
    "#     epochs=40,\n",
    "#     batch_size=32,\n",
    "#     validation_data=(test_x, test_y_cat),\n",
    "#     callbacks=[earlystop, ln_callback],\n",
    "#     class_weight=class_weights,\n",
    "# )\n",
    "\n",
    "# augmented african class\n",
    "history = model.fit(\n",
    "    train_x_plus_africans_augmented,\n",
    "    train_y_cat_plus_africans,\n",
    "    epochs=40,\n",
    "    batch_size=64,\n",
    "    validation_data=(test_x, test_y_cat),\n",
    "    callbacks=[earlystop, ln_callback],\n",
    "    #callbacks=[earlystop],\n",
    "    class_weight=class_weights\n",
    ")\n",
    "\n",
    "\n",
    "# Evaluate the model\n",
    "fig, (ax1, ax2) = plt.subplots(1, 2)\n",
    "ax1.plot(history.history[\"categorical_accuracy\"], label=\"accuracy\")\n",
    "ax1.plot(history.history[\"val_categorical_accuracy\"], label=\"val_accuracy\")\n",
    "ax1.set_xlabel(\"Epoch\")\n",
    "ax1.set_ylabel(\"Accuracy (Cat)\")\n",
    "ax1.set_ylim([0.5, 1])\n",
    "ax1.legend(loc=\"lower right\")\n",
    "\n",
    "ax2.plot(history.history[\"loss\"], label=\"loss\")\n",
    "ax2.plot(history.history[\"val_loss\"], label=\"val_loss\")\n",
    "ax2.set_xlabel(\"Epoch\")\n",
    "ax2.set_ylabel(\"Loss (CXE)\")\n",
    "ax2.legend(loc=\"upper right\")\n",
    "\n",
    "# test_loss, test_acc = model.evaluate(test_x,  test_y, verbose=2)\n",
    "# print(f\"Test Loss: {test_loss:.3f} Test Accuracy {test_acc:.3f}\")\n",
    "\n",
    "y_hat_test_cat = model.predict(test_x)\n",
    "y_hat_test = np.argmax(y_hat_test_cat, axis=-1)\n",
    "# test_loss, test_acc = mlp.evaluate(test_x,  test_y, verbose=2)\n",
    "\n",
    "ConfusionMatrixDisplay.from_predictions(\n",
    "    test_y, y_hat_test, display_labels=[\"Caucasian\", \"African\", \"Asian\", \"Indian\"]\n",
    ")\n",
    "\n",
    "bacc = balanced_accuracy_score(test_y, y_hat_test)\n",
    "\n",
    "print(f\"BACC = {bacc:.3f}\")\n",
    "print(\"Y_hat shape:\", y_hat_test.shape)\n"
   ]
  },
  {
   "cell_type": "code",
   "execution_count": 170,
   "metadata": {},
   "outputs": [
    {
     "name": "stdout",
     "output_type": "stream",
     "text": [
      "Epoch 1/20\n",
      "93/93 [==============================] - 5s 55ms/step - loss: 1.1981 - categorical_accuracy: 0.4043 - val_loss: 1.1151 - val_categorical_accuracy: 0.5007\n",
      "Epoch 2/20\n",
      "93/93 [==============================] - 7s 76ms/step - loss: 0.8706 - categorical_accuracy: 0.6256 - val_loss: 0.7305 - val_categorical_accuracy: 0.7388\n",
      "Epoch 3/20\n",
      "93/93 [==============================] - 7s 74ms/step - loss: 0.7547 - categorical_accuracy: 0.6877 - val_loss: 0.8043 - val_categorical_accuracy: 0.6845\n",
      "Epoch 4/20\n",
      "93/93 [==============================] - 7s 75ms/step - loss: 0.6695 - categorical_accuracy: 0.7232 - val_loss: 0.6835 - val_categorical_accuracy: 0.7415\n",
      "Epoch 5/20\n",
      "93/93 [==============================] - 7s 75ms/step - loss: 0.6191 - categorical_accuracy: 0.7452 - val_loss: 0.7591 - val_categorical_accuracy: 0.6974\n",
      "Epoch 6/20\n",
      "93/93 [==============================] - 7s 75ms/step - loss: 0.5756 - categorical_accuracy: 0.7615 - val_loss: 0.5304 - val_categorical_accuracy: 0.8148\n",
      "Epoch 7/20\n",
      "93/93 [==============================] - 7s 73ms/step - loss: 0.5283 - categorical_accuracy: 0.7770 - val_loss: 0.5501 - val_categorical_accuracy: 0.7910\n",
      "Epoch 8/20\n",
      "93/93 [==============================] - 7s 73ms/step - loss: 0.5078 - categorical_accuracy: 0.7902 - val_loss: 0.5979 - val_categorical_accuracy: 0.7809\n",
      "Epoch 9/20\n",
      "93/93 [==============================] - 7s 72ms/step - loss: 0.4618 - categorical_accuracy: 0.8028 - val_loss: 0.6798 - val_categorical_accuracy: 0.7442\n",
      "Epoch 10/20\n",
      "93/93 [==============================] - 7s 72ms/step - loss: 0.4511 - categorical_accuracy: 0.8111 - val_loss: 0.6074 - val_categorical_accuracy: 0.7626\n",
      "Epoch 11/20\n",
      "93/93 [==============================] - 7s 72ms/step - loss: 0.4031 - categorical_accuracy: 0.8221 - val_loss: 0.4619 - val_categorical_accuracy: 0.8351\n",
      "Epoch 12/20\n",
      "93/93 [==============================] - 7s 72ms/step - loss: 0.3903 - categorical_accuracy: 0.8254 - val_loss: 0.4757 - val_categorical_accuracy: 0.8270\n",
      "Epoch 13/20\n",
      "93/93 [==============================] - 7s 74ms/step - loss: 0.3501 - categorical_accuracy: 0.8467 - val_loss: 0.4731 - val_categorical_accuracy: 0.8256\n",
      "Epoch 14/20\n",
      "93/93 [==============================] - 6s 67ms/step - loss: 0.3557 - categorical_accuracy: 0.8411 - val_loss: 0.4467 - val_categorical_accuracy: 0.8372\n",
      "Epoch 15/20\n",
      "93/93 [==============================] - 6s 68ms/step - loss: 0.3234 - categorical_accuracy: 0.8540 - val_loss: 0.4719 - val_categorical_accuracy: 0.8324\n",
      "Epoch 16/20\n",
      "93/93 [==============================] - 6s 67ms/step - loss: 0.2999 - categorical_accuracy: 0.8569 - val_loss: 0.5088 - val_categorical_accuracy: 0.8195\n",
      "Epoch 17/20\n",
      "93/93 [==============================] - 6s 69ms/step - loss: 0.3101 - categorical_accuracy: 0.8562 - val_loss: 0.4596 - val_categorical_accuracy: 0.8351\n",
      "Epoch 18/20\n",
      "93/93 [==============================] - 6s 68ms/step - loss: 0.2840 - categorical_accuracy: 0.8676 - val_loss: 0.5311 - val_categorical_accuracy: 0.8033\n",
      "Epoch 19/20\n",
      "93/93 [==============================] - 6s 65ms/step - loss: 0.2809 - categorical_accuracy: 0.8686 - val_loss: 0.4854 - val_categorical_accuracy: 0.8229\n",
      "BACC base_= 0.784\n",
      "Epoch 1/40\n",
      "97/97 [==============================] - 7s 66ms/step - loss: 0.3653 - categorical_accuracy: 0.8635 - val_loss: 0.4220 - val_categorical_accuracy: 0.8480\n",
      "Epoch 2/40\n",
      "97/97 [==============================] - 7s 67ms/step - loss: 0.3250 - categorical_accuracy: 0.8804 - val_loss: 0.4147 - val_categorical_accuracy: 0.8555\n",
      "Epoch 3/40\n",
      "97/97 [==============================] - 7s 69ms/step - loss: 0.3059 - categorical_accuracy: 0.8902 - val_loss: 0.4140 - val_categorical_accuracy: 0.8541\n",
      "Epoch 4/40\n",
      "97/97 [==============================] - 7s 71ms/step - loss: 0.2996 - categorical_accuracy: 0.8897 - val_loss: 0.4117 - val_categorical_accuracy: 0.8507\n",
      "Epoch 5/40\n",
      "97/97 [==============================] - 6s 67ms/step - loss: 0.2931 - categorical_accuracy: 0.8931 - val_loss: 0.4048 - val_categorical_accuracy: 0.8569\n",
      "Epoch 6/40\n",
      "97/97 [==============================] - 7s 71ms/step - loss: 0.2849 - categorical_accuracy: 0.8965 - val_loss: 0.4076 - val_categorical_accuracy: 0.8643\n",
      "Epoch 7/40\n",
      "97/97 [==============================] - 7s 70ms/step - loss: 0.2770 - categorical_accuracy: 0.8981 - val_loss: 0.4072 - val_categorical_accuracy: 0.8582\n",
      "Epoch 8/40\n",
      "97/97 [==============================] - 7s 76ms/step - loss: 0.2643 - categorical_accuracy: 0.9002 - val_loss: 0.4064 - val_categorical_accuracy: 0.8575\n",
      "Epoch 9/40\n",
      "97/97 [==============================] - 7s 70ms/step - loss: 0.2648 - categorical_accuracy: 0.9019 - val_loss: 0.4151 - val_categorical_accuracy: 0.8528\n",
      "Epoch 10/40\n",
      "97/97 [==============================] - 7s 70ms/step - loss: 0.2554 - categorical_accuracy: 0.9041 - val_loss: 0.3973 - val_categorical_accuracy: 0.8575\n",
      "Epoch 11/40\n",
      "97/97 [==============================] - 6s 66ms/step - loss: 0.2474 - categorical_accuracy: 0.9116 - val_loss: 0.4120 - val_categorical_accuracy: 0.8521\n",
      "Epoch 12/40\n",
      "97/97 [==============================] - 7s 67ms/step - loss: 0.2419 - categorical_accuracy: 0.9108 - val_loss: 0.4051 - val_categorical_accuracy: 0.8575\n",
      "Epoch 13/40\n",
      "97/97 [==============================] - 6s 66ms/step - loss: 0.2344 - categorical_accuracy: 0.9152 - val_loss: 0.4016 - val_categorical_accuracy: 0.8569\n",
      "Epoch 14/40\n",
      "97/97 [==============================] - 7s 69ms/step - loss: 0.2259 - categorical_accuracy: 0.9194 - val_loss: 0.4008 - val_categorical_accuracy: 0.8596\n",
      "Epoch 15/40\n",
      "97/97 [==============================] - 6s 66ms/step - loss: 0.2261 - categorical_accuracy: 0.9173 - val_loss: 0.4202 - val_categorical_accuracy: 0.8555\n",
      "BACC = 0.800\n",
      "Y_hat shape: (1474,)\n"
     ]
    },
    {
     "data": {
      "image/png": "[encoded data removed]",
      "text/plain": [
       "<Figure size 432x288 with 2 Axes>"
      ]
     },
     "metadata": {
      "needs_background": "light"
     },
     "output_type": "display_data"
    },
    {
     "data": {
      "image/png": "[encoded data removed]",
      "text/plain": [
       "<Figure size 432x288 with 2 Axes>"
      ]
     },
     "metadata": {
      "needs_background": "light"
     },
     "output_type": "display_data"
    }
   ],
   "source": [
    "## Teste\n",
    "# Generate the model:\n",
    "model = make_model()\n",
    "model.compile(\n",
    "   optimizer=\"adam\",\n",
    "   loss=tf.keras.losses.CategoricalCrossentropy(),\n",
    "   metrics=[tf.keras.metrics.CategoricalAccuracy()],\n",
    ")\n",
    "\n",
    "# # baseline\n",
    "# history = model.fit(\n",
    "#     train_x,\n",
    "#     train_y_cat,\n",
    "#     epochs=20,\n",
    "#     batch_size=64,\n",
    "#     validation_data=(test_x, test_y_cat),\n",
    "#     callbacks=[earlystop, ln_callback],\n",
    "#     class_weight=class_weights,\n",
    "# )\n",
    "# # Evaluate Base Line\n",
    "# y_hat_test_cat = model.predict(test_x)\n",
    "# y_hat_test = np.argmax(y_hat_test_cat, axis=-1)\n",
    "# bacc = balanced_accuracy_score(test_y, y_hat_test)\n",
    "# print(f\"BACC base_= {bacc:.3f}\")\n",
    "\n",
    "# augmented african class\n",
    "history = model.fit(\n",
    "    train_x_plus_africans_augmented,\n",
    "    train_y_cat_plus_africans,\n",
    "    epochs=40,\n",
    "    batch_size=64,\n",
    "    validation_data=(test_x, test_y_cat),\n",
    "    callbacks=[earlystop, ln_callback],\n",
    "    #callbacks=[earlystop],\n",
    "    class_weight=class_weights\n",
    ")\n",
    "\n",
    "\n",
    "# Evaluate the model\n",
    "fig, (ax1, ax2) = plt.subplots(1, 2)\n",
    "ax1.plot(history.history[\"categorical_accuracy\"], label=\"accuracy\")\n",
    "ax1.plot(history.history[\"val_categorical_accuracy\"], label=\"val_accuracy\")\n",
    "ax1.set_xlabel(\"Epoch\")\n",
    "ax1.set_ylabel(\"Accuracy (Cat)\")\n",
    "ax1.set_ylim([0.5, 1])\n",
    "ax1.legend(loc=\"lower right\")\n",
    "\n",
    "ax2.plot(history.history[\"loss\"], label=\"loss\")\n",
    "ax2.plot(history.history[\"val_loss\"], label=\"val_loss\")\n",
    "ax2.set_xlabel(\"Epoch\")\n",
    "ax2.set_ylabel(\"Loss (CXE)\")\n",
    "ax2.legend(loc=\"upper right\")\n",
    "\n",
    "# test_loss, test_acc = model.evaluate(test_x,  test_y, verbose=2)\n",
    "# print(f\"Test Loss: {test_loss:.3f} Test Accuracy {test_acc:.3f}\")\n",
    "\n",
    "y_hat_test_cat = model.predict(test_x)\n",
    "y_hat_test = np.argmax(y_hat_test_cat, axis=-1)\n",
    "# test_loss, test_acc = mlp.evaluate(test_x,  test_y, verbose=2)\n",
    "\n",
    "ConfusionMatrixDisplay.from_predictions(\n",
    "    test_y, y_hat_test, display_labels=[\"Caucasian\", \"African\", \"Asian\", \"Indian\"]\n",
    ")\n",
    "\n",
    "bacc = balanced_accuracy_score(test_y, y_hat_test)\n",
    "\n",
    "print(f\"BACC = {bacc:.3f}\")\n",
    "print(\"Y_hat shape:\", y_hat_test.shape)\n"
   ]
  },
  {
   "cell_type": "markdown",
   "metadata": {},
   "source": [
    "# Save / Load models"
   ]
  },
  {
   "cell_type": "code",
   "execution_count": 165,
   "metadata": {},
   "outputs": [],
   "source": [
    "# Save the entire model as a SavedModel.\n",
    "# !mkdir -p saved_models\n",
    "from time import time\n",
    "NAME = \"c2_12k5x5_64k5x5_d2_64_wc_africans_aug\"\n",
    "#NAME = \"teste\"\n",
    "\n",
    "model.save(f\"saved_models/{NAME}_{int(time())}.h5\")\n"
   ]
  },
  {
   "cell_type": "code",
   "execution_count": null,
   "metadata": {},
   "outputs": [],
   "source": [
    "loaded_model = tf.keras.models.load_model(\"saved_models/c2_12k5x5_64k5x5_d2_64.h5\")"
   ]
  },
  {
   "cell_type": "markdown",
   "metadata": {},
   "source": [
    "# Predição FINAL"
   ]
  },
  {
   "cell_type": "code",
   "execution_count": null,
   "metadata": {},
   "outputs": [],
   "source": [
    "# NEVER CHANGE\n",
    "Xtest_Classification_Part2 = np.load(\"./data/Xtest_Classification_Part2.npy\")\n",
    "Xtest_Classification_Part2_50_50 = np.reshape(Xtest_Classification_Part2, (len(Xtest_Classification_Part2),50, 50, 1))\n",
    "\n",
    "print(\"Test input shape\", Xtest_Classification_Part2_50_50.shape)\n",
    "y_hat_test_cat = model.predict(Xtest_Classification_Part2_50_50)\n",
    "y_hat_test = np.argmax(y_hat_test_cat, axis=-1)\n",
    "print(\"Test output shape\", y_hat_test.shape)\n",
    "\n",
    "# Save\n",
    "np.save(f\"y_hat_classification_prob2_{int(time())}.npy\", y_hat_test)"
   ]
  },
  {
   "cell_type": "code",
   "execution_count": null,
   "metadata": {},
   "outputs": [],
   "source": [
    "# Load and print shape\n",
    "load_y_hat = np.load(f\"y_hat_classification_prob2_111111111.npy\")\n",
    "print(\"Loaded array shape\", load_y_hat.shape)\n",
    "print(\"Loaded Bin count\", np.bincount(load_y_hat))"
   ]
  }
 ],
 "metadata": {
  "interpreter": {
   "hash": "e7370f93d1d0cde622a1f8e1c04877d8463912d04d973331ad4851f04de6915a"
  },
  "kernelspec": {
   "display_name": "Python 3.9.7 64-bit",
   "name": "python3"
  },
  "language_info": {
   "codemirror_mode": {
    "name": "ipython",
    "version": 3
   },
   "file_extension": ".py",
   "mimetype": "text/x-python",
   "name": "python",
   "nbconvert_exporter": "python",
   "pygments_lexer": "ipython3",
   "version": "3.9.7"
  },
  "orig_nbformat": 4
 },
 "nbformat": 4,
 "nbformat_minor": 2
}
