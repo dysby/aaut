{
 "cells": [
  {
   "cell_type": "code",
   "execution_count": 1,
   "metadata": {},
   "outputs": [
    {
     "name": "stderr",
     "output_type": "stream",
     "text": [
      "2021-11-12 10:41:08.974265: W tensorflow/stream_executor/platform/default/dso_loader.cc:64] Could not load dynamic library 'libcudart.so.11.0'; dlerror: libcudart.so.11.0: cannot open shared object file: No such file or directory\n",
      "2021-11-12 10:41:08.974294: I tensorflow/stream_executor/cuda/cudart_stub.cc:29] Ignore above cudart dlerror if you do not have a GPU set up on your machine.\n"
     ]
    }
   ],
   "source": [
    "import pandas as pd\n",
    "import numpy as np\n",
    "import matplotlib.pyplot as plt\n",
    "from sklearn.linear_model import Perceptron\n",
    "from sklearn.neural_network import MLPClassifier\n",
    "from sklearn.preprocessing import MinMaxScaler\n",
    "from sklearn.pipeline import Pipeline\n",
    "from sklearn.model_selection import train_test_split\n",
    "from sklearn.metrics import confusion_matrix, balanced_accuracy_score, ConfusionMatrixDisplay\n",
    "\n",
    "import tensorflow as tf\n",
    "from tensorflow.keras import layers, models, Input"
   ]
  },
  {
   "cell_type": "markdown",
   "metadata": {},
   "source": [
    "# Load Data"
   ]
  },
  {
   "cell_type": "code",
   "execution_count": 2,
   "metadata": {},
   "outputs": [],
   "source": [
    "x_train = np.load(\"./data/Xtrain_Classification_Part2.npy\")\n",
    "y_train = np.load(\"./data/Ytrain_Classification_Part2.npy\")\n",
    "x_test = np.load(\"./data/Xtest_Classification_Part2.npy\")"
   ]
  },
  {
   "cell_type": "code",
   "execution_count": 15,
   "metadata": {},
   "outputs": [],
   "source": [
    "image1_5050 = np.reshape(image_1,(50,50))"
   ]
  },
  {
   "cell_type": "markdown",
   "metadata": {},
   "source": [
    "# Tensorflow"
   ]
  },
  {
   "cell_type": "markdown",
   "metadata": {},
   "source": [
    "## Multi Layer Perpectron"
   ]
  },
  {
   "cell_type": "code",
   "execution_count": 7,
   "metadata": {},
   "outputs": [
    {
     "name": "stdout",
     "output_type": "stream",
     "text": [
      "Model: \"sequential_4\"\n",
      "_________________________________________________________________\n",
      "Layer (type)                 Output Shape              Param #   \n",
      "=================================================================\n",
      "rescaling_4 (Rescaling)      (None, 2500)              0         \n",
      "_________________________________________________________________\n",
      "dense_12 (Dense)             (None, 1000)              2501000   \n",
      "_________________________________________________________________\n",
      "dense_13 (Dense)             (None, 1000)              1001000   \n",
      "_________________________________________________________________\n",
      "dense_14 (Dense)             (None, 4)                 4004      \n",
      "=================================================================\n",
      "Total params: 3,506,004\n",
      "Trainable params: 3,506,004\n",
      "Non-trainable params: 0\n",
      "_________________________________________________________________\n",
      "Epoch 1/20\n",
      "295/295 [==============================] - 5s 15ms/step - loss: 1.0423 - accuracy: 0.6086 - val_loss: 0.8721 - val_accuracy: 0.6682\n",
      "Epoch 2/20\n",
      "295/295 [==============================] - 5s 15ms/step - loss: 0.8068 - accuracy: 0.6967 - val_loss: 0.7535 - val_accuracy: 0.7191\n",
      "Epoch 3/20\n",
      "295/295 [==============================] - 5s 16ms/step - loss: 0.7709 - accuracy: 0.7008 - val_loss: 0.7027 - val_accuracy: 0.7476\n",
      "Epoch 4/20\n",
      "295/295 [==============================] - 4s 15ms/step - loss: 0.6985 - accuracy: 0.7340 - val_loss: 0.6554 - val_accuracy: 0.7564\n",
      "Epoch 5/20\n",
      "295/295 [==============================] - 4s 15ms/step - loss: 0.6680 - accuracy: 0.7442 - val_loss: 0.6227 - val_accuracy: 0.7693\n",
      "Epoch 6/20\n",
      "295/295 [==============================] - 4s 15ms/step - loss: 0.6598 - accuracy: 0.7507 - val_loss: 0.6084 - val_accuracy: 0.7802\n",
      "Epoch 7/20\n",
      "295/295 [==============================] - 4s 15ms/step - loss: 0.6184 - accuracy: 0.7704 - val_loss: 0.6086 - val_accuracy: 0.7761\n",
      "Epoch 8/20\n",
      "295/295 [==============================] - 4s 15ms/step - loss: 0.5907 - accuracy: 0.7836 - val_loss: 0.6821 - val_accuracy: 0.7408\n",
      "Epoch 9/20\n",
      "295/295 [==============================] - 4s 15ms/step - loss: 0.5926 - accuracy: 0.7792 - val_loss: 0.6188 - val_accuracy: 0.7700\n",
      "Epoch 10/20\n",
      "295/295 [==============================] - 4s 15ms/step - loss: 0.5731 - accuracy: 0.7863 - val_loss: 0.5991 - val_accuracy: 0.7917\n",
      "Epoch 11/20\n",
      "295/295 [==============================] - 5s 16ms/step - loss: 0.5690 - accuracy: 0.7923 - val_loss: 0.5582 - val_accuracy: 0.8094\n",
      "Epoch 12/20\n",
      "295/295 [==============================] - 4s 14ms/step - loss: 0.5578 - accuracy: 0.7946 - val_loss: 0.6430 - val_accuracy: 0.7720\n",
      "Epoch 13/20\n",
      "295/295 [==============================] - 4s 15ms/step - loss: 0.5435 - accuracy: 0.7979 - val_loss: 0.5680 - val_accuracy: 0.7951\n",
      "Epoch 14/20\n",
      "295/295 [==============================] - 4s 14ms/step - loss: 0.5429 - accuracy: 0.7953 - val_loss: 0.5452 - val_accuracy: 0.8033\n",
      "Epoch 15/20\n",
      "295/295 [==============================] - 4s 15ms/step - loss: 0.5320 - accuracy: 0.8069 - val_loss: 0.5914 - val_accuracy: 0.7897\n",
      "Epoch 16/20\n",
      "295/295 [==============================] - 5s 16ms/step - loss: 0.5220 - accuracy: 0.8065 - val_loss: 0.5365 - val_accuracy: 0.8073\n",
      "Epoch 17/20\n",
      "295/295 [==============================] - 4s 14ms/step - loss: 0.5365 - accuracy: 0.8023 - val_loss: 0.7230 - val_accuracy: 0.7374\n",
      "Epoch 18/20\n",
      "295/295 [==============================] - 4s 14ms/step - loss: 0.5223 - accuracy: 0.8053 - val_loss: 0.5350 - val_accuracy: 0.8094\n",
      "Epoch 19/20\n",
      "295/295 [==============================] - 5s 16ms/step - loss: 0.5084 - accuracy: 0.8121 - val_loss: 0.5695 - val_accuracy: 0.8066\n",
      "Epoch 20/20\n",
      "295/295 [==============================] - 5s 18ms/step - loss: 0.5172 - accuracy: 0.8145 - val_loss: 0.5725 - val_accuracy: 0.7890\n",
      "BACC(MLP): 0.6815777629857059\n",
      "Y_hat shape: (1474,)\n"
     ]
    },
    {
     "data": {
      "image/png": "[encoded data removed]",
      "text/plain": [
       "<Figure size 432x288 with 2 Axes>"
      ]
     },
     "metadata": {
      "needs_background": "light"
     },
     "output_type": "display_data"
    }
   ],
   "source": [
    "train_x, test_x, train_y, test_y  = train_test_split(x_train, y_train, test_size=0.2)\n",
    "\n",
    "train_y_cat = tf.keras.utils.to_categorical(train_y, 4)\n",
    "test_y_cat = tf.keras.utils.to_categorical(test_y, 4)\n",
    "\n",
    "# trainar o modelo:\n",
    "# Input scaled from (0, 255) to a range of (0, +1.)\n",
    "mlp = models.Sequential()\n",
    "mlp.add(Input(shape=(2500,)))\n",
    "mlp.add(layers.Rescaling(scale=1 / 255))          # scale 0-255 to 0-1\n",
    "mlp.add(layers.Dense(1000, activation=\"relu\"))\n",
    "mlp.add(layers.Dense(1000, activation=\"relu\"))\n",
    "#if softmax is chosen, the model will have more parameters that need to learn\n",
    "mlp.add(layers.Dense(4, activation=\"softmax\"))    # output layer\n",
    "mlp.summary()\n",
    "mlp.compile(loss=\"categorical_crossentropy\", optimizer=\"adam\", metrics=['accuracy'])\n",
    "history = mlp.fit(train_x, train_y_cat, epochs=20, batch_size=20,\n",
    "                    validation_data=(test_x, test_y_cat))\n",
    "\n",
    "# plt.plot(history.history['accuracy'], label='accuracy')\n",
    "# plt.plot(history.history['val_accuracy'], label = 'val_accuracy')\n",
    "# plt.xlabel('Epoch')\n",
    "# plt.ylabel('Accuracy')\n",
    "# plt.ylim([0.5, 1])\n",
    "# plt.legend(loc='lower right')\n",
    "\n",
    "y_hat_test_cat = mlp.predict(test_x)\n",
    "y_hat_test = np.argmax(y_hat_test_cat, axis=-1)\n",
    "#test_loss, test_acc = mlp.evaluate(test_x,  test_y, verbose=2)\n",
    "\n",
    "ConfusionMatrixDisplay.from_predictions(test_y, y_hat_test,display_labels=[\"Caucasian\", \"African\", \"Asian\", \"Indian\"])\n",
    "\n",
    "bacc = balanced_accuracy_score(test_y, y_hat_test)\n",
    "\n",
    "print(\"BACC(MLP):\", bacc)\n",
    "print(\"Y_hat shape:\", y_hat_test.shape)"
   ]
  },
  {
   "cell_type": "code",
   "execution_count": 8,
   "metadata": {},
   "outputs": [
    {
     "name": "stdout",
     "output_type": "stream",
     "text": [
      "BACC = 0.809608093469514\n"
     ]
    },
    {
     "data": {
      "image/png": "[encoded data removed]",
      "text/plain": [
       "<Figure size 432x288 with 2 Axes>"
      ]
     },
     "metadata": {
      "needs_background": "light"
     },
     "output_type": "display_data"
    }
   ],
   "source": [
    "y_hat = (mlp.predict(test_x) > 0.5).astype(\"int32\")\n",
    "bacc = balanced_accuracy_score(test_y, y_hat)\n",
    "ConfusionMatrixDisplay.from_predictions(test_y, y_hat, display_labels=[\"Male\", \"Female\"])\n",
    "print(f\"BACC = {bacc}\")"
   ]
  },
  {
   "cell_type": "markdown",
   "metadata": {},
   "source": [
    "## Deep Neural Network"
   ]
  },
  {
   "cell_type": "code",
   "execution_count": 14,
   "metadata": {},
   "outputs": [
    {
     "name": "stdout",
     "output_type": "stream",
     "text": [
      "Epoch 1/20\n",
      "93/93 [==============================] - 3s 30ms/step - loss: 1.0701 - categorical_accuracy: 0.6010 - val_loss: 0.9864 - val_categorical_accuracy: 0.6242\n",
      "Epoch 2/20\n",
      "93/93 [==============================] - 3s 35ms/step - loss: 0.9470 - categorical_accuracy: 0.6152 - val_loss: 0.8575 - val_categorical_accuracy: 0.6900\n",
      "Epoch 3/20\n",
      "93/93 [==============================] - 4s 43ms/step - loss: 0.8034 - categorical_accuracy: 0.6872 - val_loss: 0.8233 - val_categorical_accuracy: 0.6872\n",
      "Epoch 4/20\n",
      "93/93 [==============================] - 4s 44ms/step - loss: 0.7203 - categorical_accuracy: 0.7227 - val_loss: 0.7166 - val_categorical_accuracy: 0.7286\n",
      "Epoch 5/20\n",
      "93/93 [==============================] - 4s 44ms/step - loss: 0.6682 - categorical_accuracy: 0.7478 - val_loss: 0.6338 - val_categorical_accuracy: 0.7680\n",
      "Epoch 6/20\n",
      "93/93 [==============================] - 4s 42ms/step - loss: 0.6249 - categorical_accuracy: 0.7634 - val_loss: 0.6404 - val_categorical_accuracy: 0.7666\n",
      "Epoch 7/20\n",
      "93/93 [==============================] - 4s 43ms/step - loss: 0.6131 - categorical_accuracy: 0.7643 - val_loss: 0.5751 - val_categorical_accuracy: 0.7849\n",
      "Epoch 8/20\n",
      "93/93 [==============================] - 4s 43ms/step - loss: 0.5862 - categorical_accuracy: 0.7875 - val_loss: 0.6676 - val_categorical_accuracy: 0.7592\n",
      "Epoch 9/20\n",
      "93/93 [==============================] - 4s 44ms/step - loss: 0.5732 - categorical_accuracy: 0.7860 - val_loss: 0.5481 - val_categorical_accuracy: 0.7965\n",
      "Epoch 10/20\n",
      "93/93 [==============================] - 4s 44ms/step - loss: 0.5442 - categorical_accuracy: 0.7968 - val_loss: 0.5390 - val_categorical_accuracy: 0.8073\n",
      "Epoch 11/20\n",
      "93/93 [==============================] - 4s 43ms/step - loss: 0.5222 - categorical_accuracy: 0.8057 - val_loss: 0.5137 - val_categorical_accuracy: 0.8073\n",
      "Epoch 12/20\n",
      "93/93 [==============================] - 4s 43ms/step - loss: 0.5100 - categorical_accuracy: 0.8143 - val_loss: 0.4932 - val_categorical_accuracy: 0.8209\n",
      "Epoch 13/20\n",
      "93/93 [==============================] - 4s 48ms/step - loss: 0.4918 - categorical_accuracy: 0.8196 - val_loss: 0.5082 - val_categorical_accuracy: 0.8148\n",
      "Epoch 14/20\n",
      "93/93 [==============================] - 4s 44ms/step - loss: 0.4774 - categorical_accuracy: 0.8252 - val_loss: 0.5012 - val_categorical_accuracy: 0.8121\n",
      "Epoch 15/20\n",
      "93/93 [==============================] - 4s 45ms/step - loss: 0.4692 - categorical_accuracy: 0.8254 - val_loss: 0.4790 - val_categorical_accuracy: 0.8182\n",
      "Epoch 16/20\n",
      "93/93 [==============================] - 4s 43ms/step - loss: 0.4532 - categorical_accuracy: 0.8301 - val_loss: 0.4746 - val_categorical_accuracy: 0.8270\n",
      "Epoch 17/20\n",
      "93/93 [==============================] - 4s 44ms/step - loss: 0.4407 - categorical_accuracy: 0.8366 - val_loss: 0.4742 - val_categorical_accuracy: 0.8290\n",
      "Epoch 18/20\n",
      "93/93 [==============================] - 4s 44ms/step - loss: 0.4362 - categorical_accuracy: 0.8388 - val_loss: 0.4728 - val_categorical_accuracy: 0.8236\n",
      "Epoch 19/20\n",
      "93/93 [==============================] - 4s 44ms/step - loss: 0.4301 - categorical_accuracy: 0.8371 - val_loss: 0.4673 - val_categorical_accuracy: 0.8304\n",
      "Epoch 20/20\n",
      "93/93 [==============================] - 4s 43ms/step - loss: 0.4300 - categorical_accuracy: 0.8450 - val_loss: 0.4728 - val_categorical_accuracy: 0.8243\n",
      "BACC = 0.658\n",
      "Y_hat shape: (1474,)\n"
     ]
    },
    {
     "data": {
      "image/png": "[encoded data removed]",
      "text/plain": [
       "<Figure size 432x288 with 2 Axes>"
      ]
     },
     "metadata": {
      "needs_background": "light"
     },
     "output_type": "display_data"
    },
    {
     "data": {
      "image/png": "[encoded data removed]",
      "text/plain": [
       "<Figure size 432x288 with 2 Axes>"
      ]
     },
     "metadata": {
      "needs_background": "light"
     },
     "output_type": "display_data"
    }
   ],
   "source": [
    "train_x, test_x, train_y, test_y  = train_test_split(x_train, y_train, test_size=0.2)\n",
    "\n",
    "train_x = np.reshape(train_x, (len(train_x), 50, 50, 1))\n",
    "test_x = np.reshape(test_x, (len(test_x),50, 50, 1))\n",
    "\n",
    "train_y_cat = tf.keras.utils.to_categorical(train_y, 4)\n",
    "test_y_cat = tf.keras.utils.to_categorical(test_y, 4)\n",
    "\n",
    "# learning step\n",
    "def ln_scheduler(epoch, lr):\n",
    "    if epoch < 10:\n",
    "        return lr\n",
    "    else:\n",
    "        return lr * tf.math.exp(-0.1)\n",
    "\n",
    "ln_callback = tf.keras.callbacks.LearningRateScheduler(ln_scheduler)\n",
    "# testar com outro monitor = \"bacc\"\n",
    "earlystop = tf.keras.callbacks.EarlyStopping(monitor='val_loss', patience=5, restore_best_weights = True)  #restore_best_weights = False\n",
    "# kernel size (3,5,7)\n",
    "# batch size\n",
    "\n",
    "model = models.Sequential()\n",
    "model.add(Input(shape=(50, 50, 1)))\n",
    "model.add(layers.Rescaling(scale=1 / 255))          # scale 0-255 to 0-1\n",
    "model.add(layers.Conv2D(12, (5, 5), activation='relu'))\n",
    "model.add(layers.MaxPooling2D((3, 3)))\n",
    "model.add(layers.Conv2D(64, (5, 5), activation='relu'))\n",
    "model.add(layers.MaxPooling2D((3, 3)))\n",
    "model.add(layers.Dropout(0.2))\n",
    "# Flatten\n",
    "model.add(layers.Flatten())\n",
    "model.add(layers.Dense(64, activation='relu'))\n",
    "#model.add(layers.Dropout(0.3))\n",
    "model.add(layers.Dense(4, activation=\"softmax\"))\n",
    "#model.summary()\n",
    "model.compile(optimizer='adam',\n",
    "              loss=tf.keras.losses.CategoricalCrossentropy(),\n",
    "              metrics=[tf.keras.metrics.CategoricalAccuracy()])\n",
    "\n",
    "history = model.fit(train_x, train_y_cat, epochs=20, batch_size=64,\n",
    "                    validation_data=(test_x, test_y_cat), callbacks=[earlystop , ln_callback])\n",
    "\n",
    "# Evaluate the model\n",
    "\n",
    "fig, (ax1, ax2) = plt.subplots(1, 2)\n",
    "ax1.plot(history.history['categorical_accuracy'], label='accuracy')\n",
    "ax1.plot(history.history['val_categorical_accuracy'], label = 'val_accuracy')\n",
    "ax1.set_xlabel('Epoch')\n",
    "ax1.set_ylabel('Accuracy (Cat)')\n",
    "ax1.set_ylim([0.5, 1])\n",
    "ax1.legend(loc='lower right')\n",
    "\n",
    "ax2.plot(history.history['loss'], label='loss')\n",
    "ax2.plot(history.history['val_loss'], label = 'val_loss')\n",
    "ax2.set_xlabel('Epoch')\n",
    "ax2.set_ylabel('Loss (CXE)')\n",
    "ax2.legend(loc='upper right')\n",
    "\n",
    "# test_loss, test_acc = model.evaluate(test_x,  test_y, verbose=2)\n",
    "# print(f\"Test Loss: {test_loss:.3f} Test Accuracy {test_acc:.3f}\")\n",
    "\n",
    "y_hat_test_cat = model.predict(test_x)\n",
    "y_hat_test = np.argmax(y_hat_test_cat, axis=-1)\n",
    "#test_loss, test_acc = mlp.evaluate(test_x,  test_y, verbose=2)\n",
    "\n",
    "ConfusionMatrixDisplay.from_predictions(test_y, y_hat_test,display_labels=[\"Caucasian\", \"African\", \"Asian\", \"Indian\"])\n",
    "\n",
    "bacc = balanced_accuracy_score(test_y, y_hat_test)\n",
    "\n",
    "print(f\"BACC = {bacc:.3f}\")\n",
    "print(\"Y_hat shape:\", y_hat_test.shape)\n"
   ]
  },
  {
   "cell_type": "code",
   "execution_count": 11,
   "metadata": {},
   "outputs": [
    {
     "data": {
      "text/plain": [
       "dict_keys(['loss', 'categorical_accuracy', 'val_loss', 'val_categorical_accuracy', 'lr'])"
      ]
     },
     "execution_count": 11,
     "metadata": {},
     "output_type": "execute_result"
    }
   ],
   "source": [
    "history.history.keys()"
   ]
  },
  {
   "cell_type": "markdown",
   "metadata": {},
   "source": [
    "# Predição FINAL"
   ]
  },
  {
   "cell_type": "code",
   "execution_count": 13,
   "metadata": {},
   "outputs": [
    {
     "name": "stdout",
     "output_type": "stream",
     "text": [
      "Test input shape (1164, 2500)\n",
      "Test output shape (1164,)\n"
     ]
    }
   ],
   "source": [
    "# predições\n",
    "print(\"Test input shape\", x_test.shape)\n",
    "x_test_50_50 = np.reshape(x_test, (len(x_test),50, 50, 1))\n",
    "y_hat = (model.predict(x_test_50_50) > 0.5).astype(\"int32\")\n",
    "print(\"Test output shape\", y_hat.reshape(-1).shape)\n",
    "np.save(\"y_hat_classification_prob1.npy\", y_hat.reshape(-1))"
   ]
  },
  {
   "cell_type": "code",
   "execution_count": 14,
   "metadata": {},
   "outputs": [
    {
     "name": "stdout",
     "output_type": "stream",
     "text": [
      "Load shape (1164,)\n"
     ]
    }
   ],
   "source": [
    "# Validação de shapes\n",
    "load_y_hat = np.load(\"y_hat_classification_prob1.npy\")\n",
    "print(\"Load shape\", load_y_hat.shape)"
   ]
  }
 ],
 "metadata": {
  "interpreter": {
   "hash": "e7370f93d1d0cde622a1f8e1c04877d8463912d04d973331ad4851f04de6915a"
  },
  "kernelspec": {
   "display_name": "Python 3.9.7 64-bit",
   "name": "python3"
  },
  "language_info": {
   "codemirror_mode": {
    "name": "ipython",
    "version": 3
   },
   "file_extension": ".py",
   "mimetype": "text/x-python",
   "name": "python",
   "nbconvert_exporter": "python",
   "pygments_lexer": "ipython3",
   "version": "3.9.7"
  },
  "orig_nbformat": 4
 },
 "nbformat": 4,
 "nbformat_minor": 2
}
