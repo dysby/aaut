{
 "cells": [
  {
   "cell_type": "code",
   "execution_count": 1,
   "metadata": {},
   "outputs": [
    {
     "name": "stderr",
     "output_type": "stream",
     "text": [
      "2021-11-12 10:41:08.974265: W tensorflow/stream_executor/platform/default/dso_loader.cc:64] Could not load dynamic library 'libcudart.so.11.0'; dlerror: libcudart.so.11.0: cannot open shared object file: No such file or directory\n",
      "2021-11-12 10:41:08.974294: I tensorflow/stream_executor/cuda/cudart_stub.cc:29] Ignore above cudart dlerror if you do not have a GPU set up on your machine.\n"
     ]
    }
   ],
   "source": [
    "import pandas as pd\n",
    "import numpy as np\n",
    "import matplotlib.pyplot as plt\n",
    "from sklearn.linear_model import Perceptron\n",
    "from sklearn.neural_network import MLPClassifier\n",
    "from sklearn.preprocessing import MinMaxScaler\n",
    "from sklearn.pipeline import Pipeline\n",
    "from sklearn.model_selection import train_test_split\n",
    "from sklearn.metrics import (\n",
    "    confusion_matrix,\n",
    "    balanced_accuracy_score,\n",
    "    ConfusionMatrixDisplay,\n",
    ")\n",
    "\n",
    "import tensorflow as tf\n",
    "from tensorflow.keras import layers, models, Input"
   ]
  },
  {
   "cell_type": "markdown",
   "metadata": {},
   "source": [
    "# Load Data"
   ]
  },
  {
   "cell_type": "code",
   "execution_count": 43,
   "metadata": {},
   "outputs": [],
   "source": [
    "x_train = np.load(\"./data/Xtrain_Classification_Part2.npy\")\n",
    "y_train = np.load(\"./data/Ytrain_Classification_Part2.npy\")\n",
    "# removed x_test,  loaded only on the final Testing steps"
   ]
  },
  {
   "cell_type": "markdown",
   "metadata": {},
   "source": [
    "# Multi Layer Perpectron"
   ]
  },
  {
   "cell_type": "code",
   "execution_count": 7,
   "metadata": {},
   "outputs": [
    {
     "name": "stdout",
     "output_type": "stream",
     "text": [
      "Model: \"sequential_4\"\n",
      "_________________________________________________________________\n",
      "Layer (type)                 Output Shape              Param #   \n",
      "=================================================================\n",
      "rescaling_4 (Rescaling)      (None, 2500)              0         \n",
      "_________________________________________________________________\n",
      "dense_12 (Dense)             (None, 1000)              2501000   \n",
      "_________________________________________________________________\n",
      "dense_13 (Dense)             (None, 1000)              1001000   \n",
      "_________________________________________________________________\n",
      "dense_14 (Dense)             (None, 4)                 4004      \n",
      "=================================================================\n",
      "Total params: 3,506,004\n",
      "Trainable params: 3,506,004\n",
      "Non-trainable params: 0\n",
      "_________________________________________________________________\n",
      "Epoch 1/20\n",
      "295/295 [==============================] - 5s 15ms/step - loss: 1.0423 - accuracy: 0.6086 - val_loss: 0.8721 - val_accuracy: 0.6682\n",
      "Epoch 2/20\n",
      "295/295 [==============================] - 5s 15ms/step - loss: 0.8068 - accuracy: 0.6967 - val_loss: 0.7535 - val_accuracy: 0.7191\n",
      "Epoch 3/20\n",
      "295/295 [==============================] - 5s 16ms/step - loss: 0.7709 - accuracy: 0.7008 - val_loss: 0.7027 - val_accuracy: 0.7476\n",
      "Epoch 4/20\n",
      "295/295 [==============================] - 4s 15ms/step - loss: 0.6985 - accuracy: 0.7340 - val_loss: 0.6554 - val_accuracy: 0.7564\n",
      "Epoch 5/20\n",
      "295/295 [==============================] - 4s 15ms/step - loss: 0.6680 - accuracy: 0.7442 - val_loss: 0.6227 - val_accuracy: 0.7693\n",
      "Epoch 6/20\n",
      "295/295 [==============================] - 4s 15ms/step - loss: 0.6598 - accuracy: 0.7507 - val_loss: 0.6084 - val_accuracy: 0.7802\n",
      "Epoch 7/20\n",
      "295/295 [==============================] - 4s 15ms/step - loss: 0.6184 - accuracy: 0.7704 - val_loss: 0.6086 - val_accuracy: 0.7761\n",
      "Epoch 8/20\n",
      "295/295 [==============================] - 4s 15ms/step - loss: 0.5907 - accuracy: 0.7836 - val_loss: 0.6821 - val_accuracy: 0.7408\n",
      "Epoch 9/20\n",
      "295/295 [==============================] - 4s 15ms/step - loss: 0.5926 - accuracy: 0.7792 - val_loss: 0.6188 - val_accuracy: 0.7700\n",
      "Epoch 10/20\n",
      "295/295 [==============================] - 4s 15ms/step - loss: 0.5731 - accuracy: 0.7863 - val_loss: 0.5991 - val_accuracy: 0.7917\n",
      "Epoch 11/20\n",
      "295/295 [==============================] - 5s 16ms/step - loss: 0.5690 - accuracy: 0.7923 - val_loss: 0.5582 - val_accuracy: 0.8094\n",
      "Epoch 12/20\n",
      "295/295 [==============================] - 4s 14ms/step - loss: 0.5578 - accuracy: 0.7946 - val_loss: 0.6430 - val_accuracy: 0.7720\n",
      "Epoch 13/20\n",
      "295/295 [==============================] - 4s 15ms/step - loss: 0.5435 - accuracy: 0.7979 - val_loss: 0.5680 - val_accuracy: 0.7951\n",
      "Epoch 14/20\n",
      "295/295 [==============================] - 4s 14ms/step - loss: 0.5429 - accuracy: 0.7953 - val_loss: 0.5452 - val_accuracy: 0.8033\n",
      "Epoch 15/20\n",
      "295/295 [==============================] - 4s 15ms/step - loss: 0.5320 - accuracy: 0.8069 - val_loss: 0.5914 - val_accuracy: 0.7897\n",
      "Epoch 16/20\n",
      "295/295 [==============================] - 5s 16ms/step - loss: 0.5220 - accuracy: 0.8065 - val_loss: 0.5365 - val_accuracy: 0.8073\n",
      "Epoch 17/20\n",
      "295/295 [==============================] - 4s 14ms/step - loss: 0.5365 - accuracy: 0.8023 - val_loss: 0.7230 - val_accuracy: 0.7374\n",
      "Epoch 18/20\n",
      "295/295 [==============================] - 4s 14ms/step - loss: 0.5223 - accuracy: 0.8053 - val_loss: 0.5350 - val_accuracy: 0.8094\n",
      "Epoch 19/20\n",
      "295/295 [==============================] - 5s 16ms/step - loss: 0.5084 - accuracy: 0.8121 - val_loss: 0.5695 - val_accuracy: 0.8066\n",
      "Epoch 20/20\n",
      "295/295 [==============================] - 5s 18ms/step - loss: 0.5172 - accuracy: 0.8145 - val_loss: 0.5725 - val_accuracy: 0.7890\n",
      "BACC(MLP): 0.6815777629857059\n",
      "Y_hat shape: (1474,)\n"
     ]
    },
    {
     "data": {
      "image/png": "[encoded data removed]",
      "text/plain": [
       "<Figure size 432x288 with 2 Axes>"
      ]
     },
     "metadata": {
      "needs_background": "light"
     },
     "output_type": "display_data"
    }
   ],
   "source": [
    "train_x, test_x, train_y, test_y = train_test_split(x_train, y_train, test_size=0.2)\n",
    "\n",
    "train_y_cat = tf.keras.utils.to_categorical(train_y, 4)\n",
    "test_y_cat = tf.keras.utils.to_categorical(test_y, 4)\n",
    "\n",
    "# trainar o modelo:\n",
    "# Input scaled from (0, 255) to a range of (0, +1.)\n",
    "mlp = models.Sequential()\n",
    "mlp.add(Input(shape=(2500,)))\n",
    "mlp.add(layers.Rescaling(scale=1 / 255))  # scale 0-255 to 0-1\n",
    "mlp.add(layers.Dense(1000, activation=\"relu\"))\n",
    "mlp.add(layers.Dense(1000, activation=\"relu\"))\n",
    "# if softmax is chosen, the model will have more parameters that need to learn\n",
    "mlp.add(layers.Dense(4, activation=\"softmax\"))  # output layer\n",
    "mlp.summary()\n",
    "mlp.compile(loss=\"categorical_crossentropy\", optimizer=\"adam\", metrics=[\"accuracy\"])\n",
    "history = mlp.fit(\n",
    "    train_x, train_y_cat, epochs=20, batch_size=20, validation_data=(test_x, test_y_cat)\n",
    ")\n",
    "\n",
    "# plt.plot(history.history['accuracy'], label='accuracy')\n",
    "# plt.plot(history.history['val_accuracy'], label = 'val_accuracy')\n",
    "# plt.xlabel('Epoch')\n",
    "# plt.ylabel('Accuracy')\n",
    "# plt.ylim([0.5, 1])\n",
    "# plt.legend(loc='lower right')\n",
    "\n",
    "y_hat_test_cat = mlp.predict(test_x)\n",
    "y_hat_test = np.argmax(y_hat_test_cat, axis=-1)\n",
    "# test_loss, test_acc = mlp.evaluate(test_x,  test_y, verbose=2)\n",
    "\n",
    "ConfusionMatrixDisplay.from_predictions(\n",
    "    test_y, y_hat_test, display_labels=[\"Caucasian\", \"African\", \"Asian\", \"Indian\"]\n",
    ")\n",
    "\n",
    "bacc = balanced_accuracy_score(test_y, y_hat_test)\n",
    "\n",
    "print(\"BACC(MLP):\", bacc)\n",
    "print(\"Y_hat shape:\", y_hat_test.shape)"
   ]
  },
  {
   "cell_type": "code",
   "execution_count": 8,
   "metadata": {},
   "outputs": [
    {
     "name": "stdout",
     "output_type": "stream",
     "text": [
      "BACC = 0.809608093469514\n"
     ]
    },
    {
     "data": {
      "image/png": "[encoded data removed]",
      "text/plain": [
       "<Figure size 432x288 with 2 Axes>"
      ]
     },
     "metadata": {
      "needs_background": "light"
     },
     "output_type": "display_data"
    }
   ],
   "source": [
    "y_hat = (mlp.predict(test_x) > 0.5).astype(\"int32\")\n",
    "bacc = balanced_accuracy_score(test_y, y_hat)\n",
    "ConfusionMatrixDisplay.from_predictions(\n",
    "    test_y, y_hat, display_labels=[\"Male\", \"Female\"]\n",
    ")\n",
    "print(f\"BACC = {bacc}\")"
   ]
  },
  {
   "cell_type": "markdown",
   "metadata": {},
   "source": [
    "# Deep Neural Network"
   ]
  },
  {
   "cell_type": "code",
   "execution_count": 37,
   "metadata": {},
   "outputs": [],
   "source": [
    "def make_model():\n",
    "    model = models.Sequential()\n",
    "    model.add(Input(shape=(50, 50, 1)))\n",
    "    model.add(layers.Rescaling(scale=1 / 255))  # scale 0-255 to 0-1\n",
    "    model.add(layers.Conv2D(12, (5, 5), activation=\"relu\"))\n",
    "    model.add(layers.MaxPooling2D((3, 3)))\n",
    "    model.add(layers.Conv2D(64, (5, 5), activation=\"relu\"))\n",
    "    model.add(layers.MaxPooling2D((3, 3)))\n",
    "    model.add(layers.Dropout(0.2))\n",
    "    # Flatten\n",
    "    model.add(layers.Flatten())\n",
    "    model.add(layers.Dense(64, activation=\"relu\"))\n",
    "    # model.add(layers.Dropout(0.3))\n",
    "    model.add(layers.Dense(4, activation=\"softmax\"))\n",
    "    return model\n"
   ]
  },
  {
   "cell_type": "code",
   "execution_count": null,
   "metadata": {},
   "outputs": [],
   "source": [
    "# Callbacks, \n",
    "#   Earlystoping and\n",
    "#   Learning Rate Scheduler\n",
    "\n",
    "# learning step\n",
    "def ln_scheduler(epoch, lr):\n",
    "    if epoch < 10:\n",
    "        return lr\n",
    "    else:\n",
    "        return lr * tf.math.exp(-0.1)\n",
    "\n",
    "ln_callback = tf.keras.callbacks.LearningRateScheduler(ln_scheduler)\n",
    "# testar com outro monitor = \"bacc\"\n",
    "earlystop = tf.keras.callbacks.EarlyStopping(\n",
    "    monitor=\"val_loss\", patience=5, restore_best_weights=True\n",
    ")  # restore_best_weights = False"
   ]
  },
  {
   "cell_type": "markdown",
   "metadata": {},
   "source": [
    "### Train Test Split"
   ]
  },
  {
   "cell_type": "code",
   "execution_count": null,
   "metadata": {},
   "outputs": [],
   "source": [
    "train_x, test_x, train_y, test_y = train_test_split(x_train, y_train, test_size=0.2)\n",
    "\n",
    "train_x = np.reshape(train_x, (len(train_x), 50, 50, 1))\n",
    "test_x = np.reshape(test_x, (len(test_x), 50, 50, 1))\n",
    "\n",
    "train_y_cat = tf.keras.utils.to_categorical(train_y, 4)\n",
    "test_y_cat = tf.keras.utils.to_categorical(test_y, 4)"
   ]
  },
  {
   "cell_type": "markdown",
   "metadata": {},
   "source": [
    "### Class weights and Data Augmentation"
   ]
  },
  {
   "cell_type": "code",
   "execution_count": null,
   "metadata": {},
   "outputs": [],
   "source": [
    "# imbalanced data class weights\n",
    "from sklearn.utils.class_weight import compute_class_weight\n",
    "\n",
    "class_weights = compute_class_weight(\n",
    "    class_weight=\"balanced\", classes=[0, 1, 2, 3], y=y_train\n",
    ")\n",
    "print(class_weights)"
   ]
  },
  {
   "cell_type": "code",
   "execution_count": 51,
   "metadata": {},
   "outputs": [],
   "source": [
    "# Create a data augmentation stage with horizontal flipping, rotations, zooms\n",
    "data_augmentation = models.Sequential(\n",
    "    [\n",
    "        layers.RandomFlip(\"horizontal\", input_shape=(50, 50, 1)),\n",
    "        layers.RandomRotation(0.1),\n",
    "        layers.RandomZoom(0.1),\n",
    "    ]\n",
    ")\n",
    "\n",
    "# Load some data\n",
    "classes = 4\n",
    "\n",
    "# Create a tf.data pipeline of augmented images (and their labels)\n",
    "# train_dataset = tf.data.Dataset.from_tensor_slices((train_x, train_y_cat))\n",
    "# train_dataset = train_dataset.batch(16).map(lambda x, y: (data_augmentation(x), y))"
   ]
  },
  {
   "cell_type": "code",
   "execution_count": 58,
   "metadata": {},
   "outputs": [
    {
     "name": "stdout",
     "output_type": "stream",
     "text": [
      "(6171, 50, 50, 1)\n",
      "(5892, 50, 50, 1)\n"
     ]
    }
   ],
   "source": [
    "# Duplicate African Class Images with augmentation\n",
    "africans = train_x[train_y==1]\n",
    "africans_augmented = data_augmentation(africans)\n",
    "# plt.imshow(africans_augmented[0])\n",
    "\n",
    "train_x_plus_africans_augmented = np.append(train_x, africans_augmented, axis=0)\n",
    "# print(train_x_plus_africans_augmented.shape)\n",
    "# print(train_x.shape)\n",
    "\n",
    "train_y_plus_africans_augmented = np.append(train_y, np.ones(len(africans_augmented)))\n",
    "train_y_cat_plus_africans = tf.keras.utils.to_categorical(train_y_plus_africans_augmented, 4)\n",
    "\n",
    "#class_weights_augmented = compute_class_weight(\n",
    "#    class_weight=\"balanced\", classes=[0, 1, 2, 3], y=y_train\n",
    "#)\n"
   ]
  },
  {
   "cell_type": "markdown",
   "metadata": {},
   "source": [
    "## Train and Evaluate"
   ]
  },
  {
   "cell_type": "code",
   "execution_count": 62,
   "metadata": {},
   "outputs": [
    {
     "name": "stdout",
     "output_type": "stream",
     "text": [
      "Epoch 1/40\n",
      "193/193 [==============================] - 6s 28ms/step - loss: 1.2041 - categorical_accuracy: 0.4424 - val_loss: 0.8182 - val_categorical_accuracy: 0.7483\n",
      "Epoch 2/40\n",
      "193/193 [==============================] - 7s 34ms/step - loss: 0.8381 - categorical_accuracy: 0.6672 - val_loss: 0.6260 - val_categorical_accuracy: 0.7700\n",
      "Epoch 3/40\n",
      "193/193 [==============================] - 7s 38ms/step - loss: 0.7032 - categorical_accuracy: 0.7240 - val_loss: 0.6745 - val_categorical_accuracy: 0.7619\n",
      "Epoch 4/40\n",
      "193/193 [==============================] - 6s 34ms/step - loss: 0.5955 - categorical_accuracy: 0.7615 - val_loss: 0.6574 - val_categorical_accuracy: 0.7517\n",
      "Epoch 5/40\n",
      "193/193 [==============================] - 7s 34ms/step - loss: 0.5211 - categorical_accuracy: 0.7890 - val_loss: 0.4651 - val_categorical_accuracy: 0.8311\n",
      "Epoch 6/40\n",
      "193/193 [==============================] - 7s 37ms/step - loss: 0.4546 - categorical_accuracy: 0.8109 - val_loss: 0.5232 - val_categorical_accuracy: 0.8121\n",
      "Epoch 7/40\n",
      "193/193 [==============================] - 7s 39ms/step - loss: 0.4146 - categorical_accuracy: 0.8253 - val_loss: 0.5151 - val_categorical_accuracy: 0.8223\n",
      "Epoch 8/40\n",
      "193/193 [==============================] - 7s 38ms/step - loss: 0.3640 - categorical_accuracy: 0.8409 - val_loss: 0.3519 - val_categorical_accuracy: 0.8718\n",
      "Epoch 9/40\n",
      "193/193 [==============================] - 7s 39ms/step - loss: 0.3190 - categorical_accuracy: 0.8512 - val_loss: 0.4977 - val_categorical_accuracy: 0.8087\n",
      "Epoch 10/40\n",
      "193/193 [==============================] - 8s 39ms/step - loss: 0.2900 - categorical_accuracy: 0.8707 - val_loss: 0.3931 - val_categorical_accuracy: 0.8589\n",
      "Epoch 11/40\n",
      "193/193 [==============================] - 7s 38ms/step - loss: 0.2333 - categorical_accuracy: 0.8880 - val_loss: 0.3352 - val_categorical_accuracy: 0.8820\n",
      "Epoch 12/40\n",
      "193/193 [==============================] - 7s 38ms/step - loss: 0.2140 - categorical_accuracy: 0.8994 - val_loss: 0.2567 - val_categorical_accuracy: 0.9104\n",
      "Epoch 13/40\n",
      "193/193 [==============================] - 7s 39ms/step - loss: 0.1766 - categorical_accuracy: 0.9109 - val_loss: 0.3302 - val_categorical_accuracy: 0.8901\n",
      "Epoch 14/40\n",
      "193/193 [==============================] - 7s 38ms/step - loss: 0.1426 - categorical_accuracy: 0.9300 - val_loss: 0.2630 - val_categorical_accuracy: 0.9138\n",
      "Epoch 15/40\n",
      "193/193 [==============================] - 8s 39ms/step - loss: 0.1244 - categorical_accuracy: 0.9402 - val_loss: 0.2085 - val_categorical_accuracy: 0.9322\n",
      "Epoch 16/40\n",
      "193/193 [==============================] - 8s 39ms/step - loss: 0.1128 - categorical_accuracy: 0.9465 - val_loss: 0.1976 - val_categorical_accuracy: 0.9403\n",
      "Epoch 17/40\n",
      "193/193 [==============================] - 7s 39ms/step - loss: 0.0966 - categorical_accuracy: 0.9524 - val_loss: 0.2095 - val_categorical_accuracy: 0.9369\n",
      "Epoch 18/40\n",
      "193/193 [==============================] - 7s 39ms/step - loss: 0.0884 - categorical_accuracy: 0.9554 - val_loss: 0.2224 - val_categorical_accuracy: 0.9328\n",
      "Epoch 19/40\n",
      "193/193 [==============================] - 7s 39ms/step - loss: 0.0765 - categorical_accuracy: 0.9637 - val_loss: 0.1831 - val_categorical_accuracy: 0.9478\n",
      "Epoch 20/40\n",
      "193/193 [==============================] - 8s 39ms/step - loss: 0.0682 - categorical_accuracy: 0.9682 - val_loss: 0.1777 - val_categorical_accuracy: 0.9484\n",
      "Epoch 21/40\n",
      "193/193 [==============================] - 7s 38ms/step - loss: 0.0591 - categorical_accuracy: 0.9737 - val_loss: 0.1674 - val_categorical_accuracy: 0.9505\n",
      "Epoch 22/40\n",
      "193/193 [==============================] - 7s 39ms/step - loss: 0.0555 - categorical_accuracy: 0.9750 - val_loss: 0.1584 - val_categorical_accuracy: 0.9539\n",
      "Epoch 23/40\n",
      "193/193 [==============================] - 8s 39ms/step - loss: 0.0494 - categorical_accuracy: 0.9776 - val_loss: 0.1770 - val_categorical_accuracy: 0.9498\n",
      "Epoch 24/40\n",
      "193/193 [==============================] - 7s 39ms/step - loss: 0.0441 - categorical_accuracy: 0.9804 - val_loss: 0.1640 - val_categorical_accuracy: 0.9525\n",
      "Epoch 25/40\n",
      "193/193 [==============================] - 7s 38ms/step - loss: 0.0395 - categorical_accuracy: 0.9831 - val_loss: 0.1534 - val_categorical_accuracy: 0.9579\n",
      "Epoch 26/40\n",
      "193/193 [==============================] - 7s 39ms/step - loss: 0.0366 - categorical_accuracy: 0.9846 - val_loss: 0.1564 - val_categorical_accuracy: 0.9573\n",
      "Epoch 27/40\n",
      "193/193 [==============================] - 8s 39ms/step - loss: 0.0344 - categorical_accuracy: 0.9848 - val_loss: 0.1445 - val_categorical_accuracy: 0.9674\n",
      "Epoch 28/40\n",
      "193/193 [==============================] - 7s 39ms/step - loss: 0.0317 - categorical_accuracy: 0.9862 - val_loss: 0.1423 - val_categorical_accuracy: 0.9661\n",
      "Epoch 29/40\n",
      "193/193 [==============================] - 7s 39ms/step - loss: 0.0288 - categorical_accuracy: 0.9896 - val_loss: 0.1536 - val_categorical_accuracy: 0.9620\n",
      "Epoch 30/40\n",
      "193/193 [==============================] - 7s 39ms/step - loss: 0.0271 - categorical_accuracy: 0.9895 - val_loss: 0.1420 - val_categorical_accuracy: 0.9674\n",
      "Epoch 31/40\n",
      "193/193 [==============================] - 8s 39ms/step - loss: 0.0253 - categorical_accuracy: 0.9911 - val_loss: 0.1456 - val_categorical_accuracy: 0.9607\n",
      "Epoch 32/40\n",
      "193/193 [==============================] - 7s 39ms/step - loss: 0.0239 - categorical_accuracy: 0.9921 - val_loss: 0.1393 - val_categorical_accuracy: 0.9674\n",
      "Epoch 33/40\n",
      "193/193 [==============================] - 7s 39ms/step - loss: 0.0220 - categorical_accuracy: 0.9922 - val_loss: 0.1400 - val_categorical_accuracy: 0.9674\n",
      "Epoch 34/40\n",
      "193/193 [==============================] - 7s 39ms/step - loss: 0.0215 - categorical_accuracy: 0.9934 - val_loss: 0.1383 - val_categorical_accuracy: 0.9688\n",
      "Epoch 35/40\n",
      "193/193 [==============================] - 8s 39ms/step - loss: 0.0198 - categorical_accuracy: 0.9938 - val_loss: 0.1368 - val_categorical_accuracy: 0.9701\n",
      "Epoch 36/40\n",
      "193/193 [==============================] - 7s 39ms/step - loss: 0.0191 - categorical_accuracy: 0.9938 - val_loss: 0.1379 - val_categorical_accuracy: 0.9701\n",
      "Epoch 37/40\n",
      "193/193 [==============================] - 7s 39ms/step - loss: 0.0186 - categorical_accuracy: 0.9945 - val_loss: 0.1351 - val_categorical_accuracy: 0.9701\n",
      "Epoch 38/40\n",
      "193/193 [==============================] - 7s 39ms/step - loss: 0.0176 - categorical_accuracy: 0.9947 - val_loss: 0.1372 - val_categorical_accuracy: 0.9688\n",
      "Epoch 39/40\n",
      "193/193 [==============================] - 7s 39ms/step - loss: 0.0169 - categorical_accuracy: 0.9955 - val_loss: 0.1358 - val_categorical_accuracy: 0.9715\n",
      "Epoch 40/40\n",
      "193/193 [==============================] - 8s 40ms/step - loss: 0.0167 - categorical_accuracy: 0.9955 - val_loss: 0.1367 - val_categorical_accuracy: 0.9695\n",
      "BACC = 0.957\n",
      "Y_hat shape: (1474,)\n"
     ]
    },
    {
     "data": {
      "image/png": "[encoded data removed]",
      "text/plain": [
       "<Figure size 432x288 with 2 Axes>"
      ]
     },
     "metadata": {
      "needs_background": "light"
     },
     "output_type": "display_data"
    },
    {
     "data": {
      "image/png": "[encoded data removed]",
      "text/plain": [
       "<Figure size 432x288 with 2 Axes>"
      ]
     },
     "metadata": {
      "needs_background": "light"
     },
     "output_type": "display_data"
    }
   ],
   "source": [
    "# Generate the model:\n",
    "model = make_model()\n",
    "model.compile(\n",
    "    optimizer=\"adam\",\n",
    "    loss=tf.keras.losses.CategoricalCrossentropy(),\n",
    "    metrics=[tf.keras.metrics.CategoricalAccuracy()],\n",
    ")\n",
    "\n",
    "## baseline\n",
    "# history = model.fit(\n",
    "#     train_x,\n",
    "#     train_y_cat,\n",
    "#     epochs=20,\n",
    "#     batch_size=10,\n",
    "#     validation_data=(test_x, test_y_cat),\n",
    "#     callbacks=[earlystop, ln_callback],\n",
    "#     class_weight=class_weight,\n",
    "# )\n",
    "\n",
    "# augmented african class\n",
    "history = model.fit(\n",
    "    train_x_plus_africans_augmented,\n",
    "    train_y_cat_plus_africans,\n",
    "    epochs=40,\n",
    "    batch_size=32,\n",
    "    validation_data=(test_x, test_y_cat),\n",
    "    callbacks=[earlystop, ln_callback],\n",
    "    class_weight=class_weight,\n",
    ")\n",
    "\n",
    "\n",
    "# Evaluate the model\n",
    "fig, (ax1, ax2) = plt.subplots(1, 2)\n",
    "ax1.plot(history.history[\"categorical_accuracy\"], label=\"accuracy\")\n",
    "ax1.plot(history.history[\"val_categorical_accuracy\"], label=\"val_accuracy\")\n",
    "ax1.set_xlabel(\"Epoch\")\n",
    "ax1.set_ylabel(\"Accuracy (Cat)\")\n",
    "ax1.set_ylim([0.5, 1])\n",
    "ax1.legend(loc=\"lower right\")\n",
    "\n",
    "ax2.plot(history.history[\"loss\"], label=\"loss\")\n",
    "ax2.plot(history.history[\"val_loss\"], label=\"val_loss\")\n",
    "ax2.set_xlabel(\"Epoch\")\n",
    "ax2.set_ylabel(\"Loss (CXE)\")\n",
    "ax2.legend(loc=\"upper right\")\n",
    "\n",
    "# test_loss, test_acc = model.evaluate(test_x,  test_y, verbose=2)\n",
    "# print(f\"Test Loss: {test_loss:.3f} Test Accuracy {test_acc:.3f}\")\n",
    "\n",
    "y_hat_test_cat = model.predict(test_x)\n",
    "y_hat_test = np.argmax(y_hat_test_cat, axis=-1)\n",
    "# test_loss, test_acc = mlp.evaluate(test_x,  test_y, verbose=2)\n",
    "\n",
    "ConfusionMatrixDisplay.from_predictions(\n",
    "    test_y, y_hat_test, display_labels=[\"Caucasian\", \"African\", \"Asian\", \"Indian\"]\n",
    ")\n",
    "\n",
    "bacc = balanced_accuracy_score(test_y, y_hat_test)\n",
    "\n",
    "print(f\"BACC = {bacc:.3f}\")\n",
    "print(\"Y_hat shape:\", y_hat_test.shape)\n"
   ]
  },
  {
   "cell_type": "markdown",
   "metadata": {},
   "source": [
    "# Save / Load models"
   ]
  },
  {
   "cell_type": "code",
   "execution_count": 63,
   "metadata": {},
   "outputs": [],
   "source": [
    "# Save the entire model as a SavedModel.\n",
    "# !mkdir -p saved_models\n",
    "from time import time\n",
    "NAME = \"c2_12k5x5_64k5x5_d2_64_wc_africans_aug\"\n",
    "\n",
    "model.save(f\"saved_models/{NAME}_{int(time())}.h5\")\n"
   ]
  },
  {
   "cell_type": "code",
   "execution_count": null,
   "metadata": {},
   "outputs": [],
   "source": [
    "loaded_model = tf.keras.models.load_model(\"saved_models/c2_12k5x5_64k5x5_d2_64.h5\")"
   ]
  },
  {
   "cell_type": "markdown",
   "metadata": {},
   "source": [
    "# Predição FINAL"
   ]
  },
  {
   "cell_type": "code",
   "execution_count": null,
   "metadata": {},
   "outputs": [],
   "source": [
    "# predições\n",
    "# NEVER CHANGE x_test\n",
    "x_test = np.load(\"./data/Xtest_Classification_Part2.npy\")\n",
    "print(\"Test input shape\", x_test.shape)\n",
    "y_hat_test_cat = model.predict(test_x)\n",
    "y_hat_test = np.argmax(y_hat_test_cat, axis=-1)\n",
    "print(\"Test output shape\", y_hat_test.shape)\n",
    "\n",
    "# Save\n",
    "np.save(\"y_hat_classification_prob2.npy\", y_hat_test)"
   ]
  },
  {
   "cell_type": "code",
   "execution_count": null,
   "metadata": {},
   "outputs": [],
   "source": [
    "# Load and print shape\n",
    "load_y_hat = np.load(\"y_hat_classification_prob2.npy\")\n",
    "print(\"Loaded array shape\", load_y_hat.shape)"
   ]
  }
 ],
 "metadata": {
  "interpreter": {
   "hash": "e7370f93d1d0cde622a1f8e1c04877d8463912d04d973331ad4851f04de6915a"
  },
  "kernelspec": {
   "display_name": "Python 3.9.7 64-bit",
   "name": "python3"
  },
  "language_info": {
   "codemirror_mode": {
    "name": "ipython",
    "version": 3
   },
   "file_extension": ".py",
   "mimetype": "text/x-python",
   "name": "python",
   "nbconvert_exporter": "python",
   "pygments_lexer": "ipython3",
   "version": "3.9.7"
  },
  "orig_nbformat": 4
 },
 "nbformat": 4,
 "nbformat_minor": 2
}
